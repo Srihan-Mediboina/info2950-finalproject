{
 "cells": [
  {
   "cell_type": "markdown",
   "id": "ae20cd07-81e6-4b75-8675-14deb5b46209",
   "metadata": {},
   "source": [
    "## **Introduction** ##"
   ]
  },
  {
   "cell_type": "markdown",
   "id": "c5be4a05-9742-4613-a88a-c832f6f90cff",
   "metadata": {},
   "source": [
    "In this assignment we're trying to discover if there is a correlation between GDP per capita, inflation, wages, and income distribution across gender and race. We'll be looking at the relationship between all of these variables and attempting to capture what trends have been going on in the U.S during the years of 1973-2022.\n",
    "\n",
    "Our overarching research question is this: Can we predict the GDP per capita of the United States based on Consumer Price Index (CPI) inflation rates, wages and income inequality between men and women as well as various ethnic groups?\n",
    "\n",
    "A few key terms:\n",
    "- Consumer Price Index (CPI): a statistical measure that evaluates changes in the average prices of a basket of goods and services purchased by households in a given region or country over a specific period of time. It serves as an indicator of inflation or deflation within an economy.\n",
    "\n",
    "- Poverty Wage: represents an income level that is insufficient to meet basic living expenses, such as food, shelter, clothing, healthcare, and other essential needs\n",
    "\n",
    "- GDP per capita: a measure used to assess and compare the economic performance of a country or region by dividing its total Gross Domestic Product by the population. It provides an average representation of the economic output or income per person within that area\n",
    "\n",
    "We are interested in understanding the relationships between these metrics and will be performing tests accordingly."
   ]
  },
  {
   "cell_type": "markdown",
   "id": "a6acffb1-4587-407b-bdf5-475830f28ddc",
   "metadata": {},
   "source": [
    "## **Data Description** ##\n",
    "\n",
    "<u>Sources</u>:\n",
    "\n",
    "Inflation: https://www.kaggle.com/datasets/neelgajare/usa-cpi-inflation-from-19132022\n",
    "Columns:\n",
    "* Index: Standard indexing, starts at 0 marks the index of each row\n",
    "* Year: One full year per row, starts at 1913 and goes until 2022\n",
    "* Jan: CPI index in the month of January\n",
    "* Feb: CPI index in the month of February\n",
    "* Mar: CPI index in the month of March\n",
    "* Apr: CPI index in the month of April\n",
    "* May: CPI index in the month of May\n",
    "* Jun: CPI index in the month of June\n",
    "* Jul: CPI index in the month of July\n",
    "* Aug: CPI index in the month of August\n",
    "* Sep: CPI index in the month of September\n",
    "* Oct: CPI index in the month of October\n",
    "* Nov: CPI index in the month of November\n",
    "* Dec: CPI index in the month of December\n",
    "\n",
    "Why was this dataset created?:\n",
    "To track inflation changes over the years by using Consumer Price Index, a measure of the average change in prices paid by consumers for a market basket of goods and services. \n",
    "\n",
    "Who funded the creation of this dataset?:\n",
    "It appears to have been created independently by a Kaggle user by the name of \"Neel Gajare.\" \n",
    "\n",
    "What processes might have influenced what data was observed and recorded and what was not?:\n",
    "The user attributed their source to be the U.S Bureau of Labor Statistics which we can hopefully assume is quite comprehensive and thorough. Therefore, it seems this dataset is should be representative and whole unless they somehow collected it wrong. \n",
    "\n",
    "If people are involved, were they aware of the data collection and if so, what purpose did they expect the data to be used for?:\n",
    "This data has nothing to do with any specific individuals. It is CPI data that the Kaggle owner, Gajare, attributes to the U.S Bureau of Labor Statistics whose function it is to make this data available, so they likely expected and hoped for their data to be used in projects like this. \n",
    "\n",
    "\n",
    "Wages: https://www.kaggle.com/datasets/asaniczka/poverty-level-wages-in-the-usa-dataset-1973-2022\n",
    "Columns:\n",
    "- Year: one full year per row, starts at 1973 and ends at 2022\n",
    "- annual_poverty-level_wage: Annual poverty level wage in nominal dollars\n",
    "- hourly_poverty-level_wage: Hourly poverty level wage for full-time year-round workers\n",
    "- 0-75%_of_poverty_wages: Share of workers earning 75-100% of the poverty-level wage\n",
    "- 75-100%_of_poverty_wages: Share of workers earning 75-100% of the poverty-level wage\n",
    "- share_below_poverty_wages: Share of workers earning less than or equal to the poverty-level wage \n",
    "- 100-125%_of_poverty_wages: Share of workers earning 100-125% of the poverty-level wage\n",
    "- 200-300%_of_poverty_wages: Share of workers earning 200-300% of the poverty-level wage\n",
    "- 300%+_of_poverty_wages: Share of workers earning above 300% of the poverty-level wage\n",
    "- men_0-75%_of_poverty_wages: Share of men earning 0-75% of the poverty-level wage\n",
    "- men_75-100%_of_poverty_wages: Share of men earning 75-100% of the poverty-level wage\n",
    "- men_share_below_poverty_wages: Share of men earning below the poverty-level wage\n",
    "- men_100-125%_of_poverty_wages: Share of men earning 100-125% of the poverty-level wage\n",
    "- men_125-200%_of_poverty_wages: Share of men earning 125-200% of the poverty-level wage\n",
    "- men_200-300%_of_poverty_wages: Share of men earning 200-300% of the poverty-level wage\n",
    "- men_300%+_of_poverty_wages: Share of men earning above 300% of the poverty-level wage\n",
    "- women_0-75%_of_poverty_wages: Share of women earning 0-75% of the poverty-level wage\n",
    "- women_75-100%_of_poverty_wages: Share of women earning 75-100% of the poverty-level wage\n",
    "- women_share_below_poverty_wages: Share of women earning below the poverty-level wage\n",
    "- women_100-125%_of_poverty_wages: Share of women earning 100-125% of the poverty-level wage\n",
    "- women_125-200%_of_poverty_wages: Share of women earning 125-200% of the poverty-level wage\n",
    "- women_200-300%_of_poverty_wages: Share of women earning 200-300% of the poverty-level wage\n",
    "- women_300%+_of_poverty_wages: Share of women earning above 300% of the poverty-level wage\n",
    "- white_share_below_poverty_wages: Share of white workers earning below the poverty-level wage\n",
    "- white_men_share_below_poverty_wages: Share of white men earning below the poverty-level wage\n",
    "- white_women_share_below_poverty_wages: Share of white women earning below the poverty-level wage\n",
    "- black_share_below_poverty_wages: Share of black workers earning below the poverty-level wage\n",
    "- black_men_share_below_poverty_wages: Share of black men earning below the poverty-level wage\n",
    "- black_women_share_below_poverty_wages: Share of black women earning below the poverty-level wage\n",
    "- hispanic_share_below_poverty_wages: Share of Hispanic workers earning below the poverty-level wage\n",
    "- hispanic_men_share_below_poverty_wages: Share of Hispanic men earning below the poverty-level wage\n",
    "- hispanic_women_share_below_poverty_wages: Share of Hispanic women earning below the poverty-level wage\n",
    "\n",
    "Why was this dataset created?:\n",
    "To understand wages, how they've changed over the years and how they are distributed vertically (how many people are making very little) and how they are distributed horizontally (how are wages different between various groups of people).\n",
    "\n",
    "Who funded the creation of this dataset?:\n",
    "This dataset appears to have been created by independent Kaggle user: asaniczka, who claims to be Kaggle expert and data engineer in Sri Lanka. This user has also created many other datastets like \"USA Wage Comparison for College vs. High School,\" \"150K TMDb TV Shows,\" etc.\n",
    "\n",
    "What processes might have influenced what data was observed and recorded and what was not?\n",
    "The Kaggle owner attributes the data to the Economic Policy Institute’s State of Working America Data Library. Unfortunately, we did not have time to investigate the reputability of this organization. At a brief first glance, however, they do not seem to be illegitimate. In this project, we will operate on the assumption that the data is valid. \n",
    "\n",
    "\n",
    "GDP: Handmade table using World Bank data\n",
    "We made this dataset ourself so not much explanation is required. A quick Google query of \"US gdp per capita\" returns an interactive graph which lets you see the numbers over the years. We simply looked at this data and entered each data point by hand into a spreadsheet. The graph data was attributed to the World Bank which is very well-known and reputable so we believe the data is valid. "
   ]
  },
  {
   "cell_type": "markdown",
   "id": "5c7df3f9-c4bd-4c26-99b5-daadb4bdadf9",
   "metadata": {},
   "source": [
    "**NOTE ON CLEANING AND PREPROCESSING**:\n",
    "\n",
    "All cleaning and preprocessing can be found in appendix.ipynb. We go through how we cleaned the datasets and manipulated the data to create analysis.csv"
   ]
  },
  {
   "cell_type": "markdown",
   "id": "ebf1f2cf-acf6-4f10-b894-d920fa8ab203",
   "metadata": {},
   "source": [
    "### **Preregistration Statement #1** ###\n",
    "\n",
    "As proportion of people who make less than or equal to the poverty wage decreases,  will GDP per capita increase?\n",
    "\n",
    "Run a linear regression where we input the share below poverty wages for that year, and the GDP per capita (output). We will be testing to see if βpoverty_wage_proportion  < 0, because we hope to see that the fewer people there are that are making poverty wages, the higher GDP per capita is. "
   ]
  },
  {
   "cell_type": "markdown",
   "id": "8366de1c-a6ea-4ff4-be7e-ddaba922c6c8",
   "metadata": {},
   "source": [
    "### **Preregistration Statement** #2 ###\n",
    "\n",
    "As the difference between the proportion of women below the poverty wage and men below the poverty wage decreases, will GDP per capita increase?\n",
    "\n",
    "Run a linear regression where we input the difference between the share of women below the poverty wage and men below the poverty wage and output GDP per capita. We will be testing to see if βdifference <  0 because we hope to see that as the difference decreases, GDP per capita will get higher. "
   ]
  },
  {
   "cell_type": "markdown",
   "id": "3618977d-0f9c-402f-a3c6-cd40133a484d",
   "metadata": {},
   "source": [
    "## **Data Analysis** ##\n",
    "\n",
    "In our data analysis we'll take a look at a few plots that give you the idea of the data. The actual analysis will come in the section after this \"Models and Evaluation of Significance.\" For this section, we just want to understand the shape of the data and the broad scope of what we're looking at. \n",
    "\n",
    "We'll also split the data into a train set and test set at the end of this section. \n",
    "\n",
    "Again, for the models and tests regarding the preregistration statements, that will be in the next section."
   ]
  },
  {
   "cell_type": "code",
   "execution_count": 24,
   "id": "82fe0232-aa63-4dd7-b865-6551c648d2e4",
   "metadata": {
    "tags": []
   },
   "outputs": [],
   "source": [
    "# Making the necessary imports\n",
    "\n",
    "import pandas as pd\n",
    "import numpy as np\n",
    "import seaborn as sns\n",
    "import matplotlib.pyplot as plt\n",
    "from sklearn.model_selection import train_test_split\n",
    "from sklearn.linear_model import LinearRegression\n",
    "import statsmodels.api as sm\n",
    "from sklearn.metrics import mean_squared_error, mean_absolute_error, mean_absolute_percentage_error"
   ]
  },
  {
   "cell_type": "code",
   "execution_count": 25,
   "id": "e9ab343f-4c7c-4b40-8a98-1af04afe44c4",
   "metadata": {
    "tags": []
   },
   "outputs": [
    {
     "data": {
      "text/html": [
       "<div>\n",
       "<style scoped>\n",
       "    .dataframe tbody tr th:only-of-type {\n",
       "        vertical-align: middle;\n",
       "    }\n",
       "\n",
       "    .dataframe tbody tr th {\n",
       "        vertical-align: top;\n",
       "    }\n",
       "\n",
       "    .dataframe thead th {\n",
       "        text-align: right;\n",
       "    }\n",
       "</style>\n",
       "<table border=\"1\" class=\"dataframe\">\n",
       "  <thead>\n",
       "    <tr style=\"text-align: right;\">\n",
       "      <th></th>\n",
       "      <th>Year</th>\n",
       "      <th>Annual_CPI</th>\n",
       "      <th>annual_poverty-level_wage</th>\n",
       "      <th>hourly_poverty-level_wage</th>\n",
       "      <th>share_below_poverty_wages</th>\n",
       "      <th>300%+_of_poverty_wages</th>\n",
       "      <th>men_share_below_poverty_wages</th>\n",
       "      <th>men_300%+_of_poverty_wages</th>\n",
       "      <th>women_share_below_poverty_wages</th>\n",
       "      <th>women_300%+_of_poverty_wages</th>\n",
       "      <th>...</th>\n",
       "      <th>white_men_share_below_poverty_wages</th>\n",
       "      <th>white_women_share_below_poverty_wages</th>\n",
       "      <th>black_share_below_poverty_wages</th>\n",
       "      <th>black_men_share_below_poverty_wages</th>\n",
       "      <th>black_women_share_below_poverty_wages</th>\n",
       "      <th>hispanic_share_below_poverty_wages</th>\n",
       "      <th>hispanic_men_share_below_poverty_wages</th>\n",
       "      <th>hispanic_women_share_below_poverty_wages</th>\n",
       "      <th>GDP_Per_Capita</th>\n",
       "      <th>diff_poverty_share</th>\n",
       "    </tr>\n",
       "  </thead>\n",
       "  <tbody>\n",
       "    <tr>\n",
       "      <th>0</th>\n",
       "      <td>1973</td>\n",
       "      <td>44.40</td>\n",
       "      <td>4701</td>\n",
       "      <td>2.26</td>\n",
       "      <td>25.6</td>\n",
       "      <td>9.0</td>\n",
       "      <td>15.4</td>\n",
       "      <td>13.6</td>\n",
       "      <td>40.1</td>\n",
       "      <td>2.4</td>\n",
       "      <td>...</td>\n",
       "      <td>13.7</td>\n",
       "      <td>38.5</td>\n",
       "      <td>37.3</td>\n",
       "      <td>25.3</td>\n",
       "      <td>50.6</td>\n",
       "      <td>34.9</td>\n",
       "      <td>27.1</td>\n",
       "      <td>48.2</td>\n",
       "      <td>6726.36</td>\n",
       "      <td>24.7</td>\n",
       "    </tr>\n",
       "    <tr>\n",
       "      <th>1</th>\n",
       "      <td>1974</td>\n",
       "      <td>49.31</td>\n",
       "      <td>5158</td>\n",
       "      <td>2.48</td>\n",
       "      <td>24.3</td>\n",
       "      <td>8.9</td>\n",
       "      <td>14.3</td>\n",
       "      <td>13.5</td>\n",
       "      <td>38.6</td>\n",
       "      <td>2.3</td>\n",
       "      <td>...</td>\n",
       "      <td>12.8</td>\n",
       "      <td>37.0</td>\n",
       "      <td>34.6</td>\n",
       "      <td>22.8</td>\n",
       "      <td>47.4</td>\n",
       "      <td>33.7</td>\n",
       "      <td>24.5</td>\n",
       "      <td>49.7</td>\n",
       "      <td>7225.69</td>\n",
       "      <td>24.3</td>\n",
       "    </tr>\n",
       "    <tr>\n",
       "      <th>2</th>\n",
       "      <td>1975</td>\n",
       "      <td>53.82</td>\n",
       "      <td>5595</td>\n",
       "      <td>2.69</td>\n",
       "      <td>25.9</td>\n",
       "      <td>8.7</td>\n",
       "      <td>16.0</td>\n",
       "      <td>13.1</td>\n",
       "      <td>39.7</td>\n",
       "      <td>2.5</td>\n",
       "      <td>...</td>\n",
       "      <td>14.4</td>\n",
       "      <td>38.2</td>\n",
       "      <td>36.7</td>\n",
       "      <td>25.1</td>\n",
       "      <td>49.1</td>\n",
       "      <td>35.0</td>\n",
       "      <td>27.3</td>\n",
       "      <td>47.5</td>\n",
       "      <td>7801.46</td>\n",
       "      <td>23.7</td>\n",
       "    </tr>\n",
       "    <tr>\n",
       "      <th>3</th>\n",
       "      <td>1976</td>\n",
       "      <td>56.91</td>\n",
       "      <td>5914</td>\n",
       "      <td>2.84</td>\n",
       "      <td>25.1</td>\n",
       "      <td>9.0</td>\n",
       "      <td>15.6</td>\n",
       "      <td>13.6</td>\n",
       "      <td>38.0</td>\n",
       "      <td>2.8</td>\n",
       "      <td>...</td>\n",
       "      <td>14.1</td>\n",
       "      <td>36.7</td>\n",
       "      <td>34.8</td>\n",
       "      <td>23.8</td>\n",
       "      <td>46.2</td>\n",
       "      <td>34.8</td>\n",
       "      <td>27.2</td>\n",
       "      <td>46.3</td>\n",
       "      <td>8592.25</td>\n",
       "      <td>22.4</td>\n",
       "    </tr>\n",
       "    <tr>\n",
       "      <th>4</th>\n",
       "      <td>1977</td>\n",
       "      <td>60.61</td>\n",
       "      <td>6284</td>\n",
       "      <td>3.02</td>\n",
       "      <td>26.9</td>\n",
       "      <td>8.7</td>\n",
       "      <td>17.1</td>\n",
       "      <td>13.5</td>\n",
       "      <td>40.0</td>\n",
       "      <td>2.4</td>\n",
       "      <td>...</td>\n",
       "      <td>15.5</td>\n",
       "      <td>38.7</td>\n",
       "      <td>36.7</td>\n",
       "      <td>28.0</td>\n",
       "      <td>45.7</td>\n",
       "      <td>36.0</td>\n",
       "      <td>25.6</td>\n",
       "      <td>52.8</td>\n",
       "      <td>9452.58</td>\n",
       "      <td>22.9</td>\n",
       "    </tr>\n",
       "  </tbody>\n",
       "</table>\n",
       "<p>5 rows × 21 columns</p>\n",
       "</div>"
      ],
      "text/plain": [
       "   Year  Annual_CPI  annual_poverty-level_wage  hourly_poverty-level_wage  \\\n",
       "0  1973       44.40                       4701                       2.26   \n",
       "1  1974       49.31                       5158                       2.48   \n",
       "2  1975       53.82                       5595                       2.69   \n",
       "3  1976       56.91                       5914                       2.84   \n",
       "4  1977       60.61                       6284                       3.02   \n",
       "\n",
       "   share_below_poverty_wages  300%+_of_poverty_wages  \\\n",
       "0                       25.6                     9.0   \n",
       "1                       24.3                     8.9   \n",
       "2                       25.9                     8.7   \n",
       "3                       25.1                     9.0   \n",
       "4                       26.9                     8.7   \n",
       "\n",
       "   men_share_below_poverty_wages  men_300%+_of_poverty_wages  \\\n",
       "0                           15.4                        13.6   \n",
       "1                           14.3                        13.5   \n",
       "2                           16.0                        13.1   \n",
       "3                           15.6                        13.6   \n",
       "4                           17.1                        13.5   \n",
       "\n",
       "   women_share_below_poverty_wages  women_300%+_of_poverty_wages  ...  \\\n",
       "0                             40.1                           2.4  ...   \n",
       "1                             38.6                           2.3  ...   \n",
       "2                             39.7                           2.5  ...   \n",
       "3                             38.0                           2.8  ...   \n",
       "4                             40.0                           2.4  ...   \n",
       "\n",
       "   white_men_share_below_poverty_wages  white_women_share_below_poverty_wages  \\\n",
       "0                                 13.7                                   38.5   \n",
       "1                                 12.8                                   37.0   \n",
       "2                                 14.4                                   38.2   \n",
       "3                                 14.1                                   36.7   \n",
       "4                                 15.5                                   38.7   \n",
       "\n",
       "   black_share_below_poverty_wages  black_men_share_below_poverty_wages  \\\n",
       "0                             37.3                                 25.3   \n",
       "1                             34.6                                 22.8   \n",
       "2                             36.7                                 25.1   \n",
       "3                             34.8                                 23.8   \n",
       "4                             36.7                                 28.0   \n",
       "\n",
       "   black_women_share_below_poverty_wages  hispanic_share_below_poverty_wages  \\\n",
       "0                                   50.6                                34.9   \n",
       "1                                   47.4                                33.7   \n",
       "2                                   49.1                                35.0   \n",
       "3                                   46.2                                34.8   \n",
       "4                                   45.7                                36.0   \n",
       "\n",
       "   hispanic_men_share_below_poverty_wages  \\\n",
       "0                                    27.1   \n",
       "1                                    24.5   \n",
       "2                                    27.3   \n",
       "3                                    27.2   \n",
       "4                                    25.6   \n",
       "\n",
       "   hispanic_women_share_below_poverty_wages  GDP_Per_Capita  \\\n",
       "0                                      48.2         6726.36   \n",
       "1                                      49.7         7225.69   \n",
       "2                                      47.5         7801.46   \n",
       "3                                      46.3         8592.25   \n",
       "4                                      52.8         9452.58   \n",
       "\n",
       "   diff_poverty_share  \n",
       "0                24.7  \n",
       "1                24.3  \n",
       "2                23.7  \n",
       "3                22.4  \n",
       "4                22.9  \n",
       "\n",
       "[5 rows x 21 columns]"
      ]
     },
     "execution_count": 25,
     "metadata": {},
     "output_type": "execute_result"
    }
   ],
   "source": [
    "# Reading in the dataframe\n",
    "\n",
    "analysis_df = pd.read_csv('analysis.csv')\n",
    "analysis_df.head()"
   ]
  },
  {
   "cell_type": "code",
   "execution_count": 26,
   "id": "3d457f4b-5b12-4f94-8975-6384ccc70149",
   "metadata": {
    "tags": []
   },
   "outputs": [
    {
     "data": {
      "image/png": "[encoded data removed]",
      "text/plain": [
       "<Figure size 432x288 with 1 Axes>"
      ]
     },
     "metadata": {
      "needs_background": "light"
     },
     "output_type": "display_data"
    }
   ],
   "source": [
    "sns.scatterplot(x='share_below_poverty_wages', y='GDP_Per_Capita', data=analysis_df);\n",
    "plt.xlabel('Share Below Poverty Wage');\n",
    "plt.ylabel('GDP Per Capita');\n",
    "\n",
    "\n",
    "# This scatterplot shows the relationship between GDP per capita and poverty wages. Broadly speaking,\n",
    "# as the share of people making poverty wages decreases, GDP per capita gets higher. "
   ]
  },
  {
   "cell_type": "code",
   "execution_count": 27,
   "id": "4b649c9c-5775-4e8a-b1a6-090d7214d77a",
   "metadata": {
    "tags": []
   },
   "outputs": [
    {
     "data": {
      "image/png": "[encoded data removed]",
      "text/plain": [
       "<Figure size 432x288 with 1 Axes>"
      ]
     },
     "metadata": {
      "needs_background": "light"
     },
     "output_type": "display_data"
    }
   ],
   "source": [
    "sns.scatterplot(x='300%+_of_poverty_wages', y='GDP_Per_Capita', data=analysis_df);\n",
    "plt.xlabel('Share Earning 300%+ of Poverty Wage');\n",
    "plt.ylabel('GDP Per Capita');\n",
    "\n",
    "\n",
    "# This scatterplot shows the relationship between GDP per capita and the share of people making 300%+ of poverty wages."
   ]
  },
  {
   "cell_type": "code",
   "execution_count": 28,
   "id": "2c354750-2100-4574-ba27-8f3ec04da874",
   "metadata": {
    "tags": []
   },
   "outputs": [
    {
     "data": {
      "image/png": "[encoded data removed]",
      "text/plain": [
       "<Figure size 432x288 with 1 Axes>"
      ]
     },
     "metadata": {
      "needs_background": "light"
     },
     "output_type": "display_data"
    }
   ],
   "source": [
    "x = analysis_df['Year']\n",
    "y1 = analysis_df['men_share_below_poverty_wages']\n",
    "y2 = analysis_df['women_share_below_poverty_wages']\n",
    "plt.bar(x, y1, color='b');\n",
    "plt.bar(x, y2, bottom=y1, color='r');\n",
    "plt.xlabel('Year');\n",
    "plt.ylabel('Percent');\n",
    "plt.title('Percent of Share Below Poverty Wages by Gender');\n",
    "plt.legend(['Men', 'Women']);"
   ]
  },
  {
   "cell_type": "code",
   "execution_count": 29,
   "id": "e5da9a3d-4db7-4606-b214-a4d613c7c2fa",
   "metadata": {
    "tags": []
   },
   "outputs": [
    {
     "data": {
      "image/png": "[encoded data removed]",
      "text/plain": [
       "<Figure size 432x288 with 1 Axes>"
      ]
     },
     "metadata": {
      "needs_background": "light"
     },
     "output_type": "display_data"
    }
   ],
   "source": [
    "sns.lineplot(x='diff_poverty_share', y='GDP_Per_Capita', data=analysis_df);\n",
    "plt.xlabel('Difference in poverty share between men and women');\n",
    "plt.ylabel('GDP Per Capita');"
   ]
  },
  {
   "cell_type": "code",
   "execution_count": 30,
   "id": "623d4518-18b5-43c8-9352-d95f4c87ce5b",
   "metadata": {
    "tags": []
   },
   "outputs": [],
   "source": [
    "# Now we'll create the train, test sets\n",
    "\n",
    "train, test = train_test_split(analysis_df, test_size=0.3, random_state=42)"
   ]
  },
  {
   "cell_type": "markdown",
   "id": "9b15173d-2364-40ed-b4f8-1c110cc55a4b",
   "metadata": {},
   "source": [
    "## **Models and Evaluation of Significance** ##"
   ]
  },
  {
   "cell_type": "markdown",
   "id": "0432f6d2",
   "metadata": {},
   "source": [
    "Hypothesis 1: As proportion of people who make less than or equal to the poverty wage decreases, GDP per capita increases"
   ]
  },
  {
   "cell_type": "code",
   "execution_count": 40,
   "id": "1527916a-5c08-4b5c-a2c9-2076ea5700db",
   "metadata": {},
   "outputs": [
    {
     "data": {
      "text/plain": [
       "-3503.6849667251536"
      ]
     },
     "execution_count": 40,
     "metadata": {},
     "output_type": "execute_result"
    }
   ],
   "source": [
    "X = analysis_df[['share_below_poverty_wages']]\n",
    "y = analysis_df['GDP_Per_Capita']\n",
    "model = LinearRegression().fit(X, y)\n",
    "y_pred = model.predict(test[['share_below_poverty_wages']])\n",
    "slope = model.coef_[0]\n",
    "slope"
   ]
  },
  {
   "cell_type": "code",
   "execution_count": 41,
   "id": "58474da9",
   "metadata": {},
   "outputs": [
    {
     "name": "stdout",
     "output_type": "stream",
     "text": [
      "                            OLS Regression Results                            \n",
      "==============================================================================\n",
      "Dep. Variable:         GDP_Per_Capita   R-squared:                       0.595\n",
      "Model:                            OLS   Adj. R-squared:                  0.586\n",
      "Method:                 Least Squares   F-statistic:                     68.92\n",
      "Date:                Thu, 16 Nov 2023   Prob (F-statistic):           9.07e-11\n",
      "Time:                        04:33:15   Log-Likelihood:                -527.68\n",
      "No. Observations:                  49   AIC:                             1059.\n",
      "Df Residuals:                      47   BIC:                             1063.\n",
      "Df Model:                           1                                         \n",
      "Covariance Type:            nonrobust                                         \n",
      "=============================================================================================\n",
      "                                coef    std err          t      P>|t|      [0.025      0.975]\n",
      "---------------------------------------------------------------------------------------------\n",
      "const                      1.183e+05   1.03e+04     11.435      0.000    9.75e+04    1.39e+05\n",
      "share_below_poverty_wages -3503.6850    422.049     -8.302      0.000   -4352.739   -2654.631\n",
      "==============================================================================\n",
      "Omnibus:                        0.293   Durbin-Watson:                   0.219\n",
      "Prob(Omnibus):                  0.864   Jarque-Bera (JB):                0.330\n",
      "Skew:                          -0.170   Prob(JB):                        0.848\n",
      "Kurtosis:                       2.785   Cond. No.                         152.\n",
      "==============================================================================\n",
      "\n",
      "Notes:\n",
      "[1] Standard Errors assume that the covariance matrix of the errors is correctly specified.\n"
     ]
    }
   ],
   "source": [
    "X = sm.add_constant(X)\n",
    "model = sm.OLS(y,X)\n",
    "results = model.fit()\n",
    "print(results.summary())"
   ]
  },
  {
   "cell_type": "markdown",
   "id": "d024041f",
   "metadata": {},
   "source": [
    "The coefficient for the share below poverty wages is -3503.6850, which explains for one unit increase in share below poverty wages results in a decrease of 3503.6850 dollars for GDP per Capita. Because the coefficient is negative, it suggests that as proportion of people who make less than or equal to the poverty wage decreases, GDP per capita increases.\n",
    "The P-value is very small, and less than 0.5, therefore we have evidence to reject the null hypothesis (βpoverty_wage_proportion >= 0) and state that there is a relationship between share below poverty wages and GDP per Capita."
   ]
  },
  {
   "cell_type": "markdown",
   "id": "a5efcaea",
   "metadata": {},
   "source": [
    "The R^2 value is 0.595, which reveals that 59.5% of the variability observed in GDP per Capita is explained by the model."
   ]
  },
  {
   "cell_type": "markdown",
   "id": "89c96e7a",
   "metadata": {},
   "source": [
    "Hypothesis 2: As the difference between the proportion of women below the poverty wage and men below the poverty wage decreases, will GDP per capita increase?"
   ]
  },
  {
   "cell_type": "code",
   "execution_count": 44,
   "id": "1c493390",
   "metadata": {},
   "outputs": [
    {
     "data": {
      "text/plain": [
       "-2859.2150336851096"
      ]
     },
     "execution_count": 44,
     "metadata": {},
     "output_type": "execute_result"
    }
   ],
   "source": [
    "X1 = analysis_df[['diff_poverty_share']]\n",
    "y1 = analysis_df['GDP_Per_Capita']\n",
    "model = LinearRegression().fit(X, y)\n",
    "y_pred = model.predict(test[['diff_poverty_share']])\n",
    "slope = model.coef_[0]\n",
    "slope"
   ]
  },
  {
   "cell_type": "code",
   "execution_count": 45,
   "id": "81d984e6",
   "metadata": {},
   "outputs": [
    {
     "name": "stdout",
     "output_type": "stream",
     "text": [
      "                            OLS Regression Results                            \n",
      "==============================================================================\n",
      "Dep. Variable:         GDP_Per_Capita   R-squared:                       0.846\n",
      "Model:                            OLS   Adj. R-squared:                  0.843\n",
      "Method:                 Least Squares   F-statistic:                     259.1\n",
      "Date:                Thu, 16 Nov 2023   Prob (F-statistic):           9.46e-21\n",
      "Time:                        04:46:59   Log-Likelihood:                -503.89\n",
      "No. Observations:                  49   AIC:                             1012.\n",
      "Df Residuals:                      47   BIC:                             1016.\n",
      "Df Model:                           1                                         \n",
      "Covariance Type:            nonrobust                                         \n",
      "======================================================================================\n",
      "                         coef    std err          t      P>|t|      [0.025      0.975]\n",
      "--------------------------------------------------------------------------------------\n",
      "const               7.022e+04   2500.419     28.083      0.000    6.52e+04    7.53e+04\n",
      "diff_poverty_share -2859.2150    177.639    -16.096      0.000   -3216.578   -2501.852\n",
      "==============================================================================\n",
      "Omnibus:                        2.917   Durbin-Watson:                   0.109\n",
      "Prob(Omnibus):                  0.233   Jarque-Bera (JB):                1.772\n",
      "Skew:                           0.212   Prob(JB):                        0.412\n",
      "Kurtosis:                       2.171   Cond. No.                         34.2\n",
      "==============================================================================\n",
      "\n",
      "Notes:\n",
      "[1] Standard Errors assume that the covariance matrix of the errors is correctly specified.\n"
     ]
    }
   ],
   "source": [
    "X1 = sm.add_constant(X1)\n",
    "model = sm.OLS(y1,X1)\n",
    "results = model.fit()\n",
    "print(results.summary())"
   ]
  },
  {
   "cell_type": "markdown",
   "id": "3ae27be0",
   "metadata": {},
   "source": [
    "The coefficient for the share below poverty wages is -2859.2150, which explains a one unit increase in difference of men and women belowe poverty share wages result in a decrease of 2859.2150 dollars for GDP per Capita. Because the coefficient is negative, it suggests that as difference of men and women belowe poverty share wages decreases, GDP per capita increases.\n",
    "The P-value is very small, and less than 0.5, therefore we have evidence to reject the null hypothesis (βdifference >= 0) and state that as the difference between the proportion of women below the poverty wage and men below the poverty wage decreases, GDP per capita will increase."
   ]
  },
  {
   "cell_type": "markdown",
   "id": "a37b864b",
   "metadata": {},
   "source": [
    "The R^2 value is 0.846, which reveals that 84.6% of the variability observed in GDP per Capita is explained by the model."
   ]
  }
 ],
 "metadata": {
  "kernelspec": {
   "display_name": "Python 3.9.12 64-bit ('anaconda3')",
   "language": "python",
   "name": "python3"
  },
  "language_info": {
   "codemirror_mode": {
    "name": "ipython",
    "version": 3
   },
   "file_extension": ".py",
   "mimetype": "text/x-python",
   "name": "python",
   "nbconvert_exporter": "python",
   "pygments_lexer": "ipython3",
   "version": "3.9.12"
  },
  "vscode": {
   "interpreter": {
    "hash": "cd78fef2128015050713e82ca51c6520b11aee7c9ee8df750520bbbc7384cbaa"
   }
  }
 },
 "nbformat": 4,
 "nbformat_minor": 5
}
