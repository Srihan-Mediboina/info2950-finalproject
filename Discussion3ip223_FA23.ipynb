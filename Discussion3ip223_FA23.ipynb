{
 "cells": [
  {
   "cell_type": "markdown",
   "metadata": {
    "id": "TxU6oSJx7639"
   },
   "source": [
    "# INFO 2950 Discussion Week 3 \n",
    "\n",
    "For our group time on Friday we will be going through a tutorial on web scraping together.\n",
    "\n",
    "**Make sure to complete and save this notebook before next Friday's section!** We will use the completed version for an activity on pushing to GitHub next week.\n",
    "\n",
    "\n"
   ]
  },
  {
   "cell_type": "markdown",
   "metadata": {
    "id": "-34StO4VWhP6"
   },
   "source": [
    "## What is web scraping?\n",
    "\n",
    "Web scraping is the process of creating structured data frames readable by computers from less-structured web pages that are intended to be read by humans.\n",
    "\n",
    "## Do you need to scrape?\n",
    "\n",
    "Scraping is difficult, error-prone, and may get you in legal or ethical trouble. Always check if the information you are seeking already exists in a nicer format. Many companies also have APIs or other infrastructure dedicated to serving automated requests.\n",
    "\n",
    "## Ethics of scraping\n",
    "\n",
    "Scraping is the aspect of data science most likely to get you into trouble. Legally, there are two main concerns: copyright violation if you are making copies of content that is protected by copyright, and terms-of-service violation. Many sites will also attempt to block scrapers. Acting to avoid these blocks may constitute hacking.\n",
    "\n",
    "In addition to legal problems, there are ethical problems.\n",
    "\n",
    "* Respect other people's hard work. Collecting information for a cool website is difficult and takes a long time and careful preparation. Is it fair to take all that work and use it for your purposes?\n",
    "* Respect other people's businesses. People feed their families by collecting and sharing information, for example through ad revenue. They may be unhappy if they think you are trying to steal their work and prevent them from monetizing it. Websites also sometimes pay for bandwidth and cloud services, and you don't want to take up all their resources for purposes that provide no revenue.\n",
    "* Respect other people's audiences. Don't [DDOS](https://en.wikipedia.org/wiki/Denial-of-service_attack) a website! Keep requests spaced to about 2/second at most. Web hits don't take a lot of resources, but it's easy to flood a site with requests, locking others out.\n",
    "\n",
    "## Process\n",
    "\n",
    "Find a page that contains the info you want. Some older pages are static, but most of what you will see today are views of databases. For example, Amazon has a database of products, Letterboxd has a database of movies, and Netflix has a database of shows. Each page either lists entities in the database or gives information about specific entities.\n",
    "\n",
    "You would prefer to get access directly to the database, and in some cases you can. But for whatever reason sometimes the web page is all you can get. This process can be difficult because web pages are optimized for people to look at, not for computers to operate on. But it is simpler because in this case a computer has to generate a page *from* a database record and a web browser has to know how to display the elements on the page so that humans can read them. These constraints mean that there are regularities in how specific pieces of information are shown in  HTML, and if you can figure them out, you can reverse the page generation process and get back to something that looks more like a database.\n",
    "\n",
    "How do you know which pages to get? Often an index or search result page leads to individual pages with more detailed information.\n",
    "\n",
    "\n",
    "### Web scraping in Python\n",
    "\n",
    "The [`requests`](https://requests.readthedocs.io/en/latest/) library allows you to download files from the web. It is much easier to use than `urllib`. You can use the `requests` library to get information from web pages so that you can save them to files or analyze their data in python.\n",
    "\n",
    "After using `requests` to access web data, you'll use [Beautiful Soup](https://www.crummy.com/software/BeautifulSoup/bs4/doc/) to parse that information, organized in HTML. `BeautifulSoup` makes querying a tree of tags and their attributes much easier than trying to parse HTML from scratch. You'll need to spend some time looking at the target web page and finding the combination of tag names and classes you're interested in, but `BeautifulSoup` can help access that information once you know what you need.\n",
    "\n",
    "\n",
    "\n",
    "## Installation\n",
    "As usual, to use these new modules you'll need to first **install `BeautifulSoup` and `requests` to your virtual environment for this class**. Only once you've completed that process can successfully you run the next cell of code to load in `requests`, `BeautifulSoup`, and other modules.\n",
    "\n",
    "\n",
    "\n"
   ]
  },
  {
   "cell_type": "code",
   "execution_count": 2,
   "metadata": {
    "id": "KIQy8gAoHZ9_"
   },
   "outputs": [],
   "source": [
    "import requests\n",
    "from bs4 import BeautifulSoup\n",
    "\n",
    "import pandas as pd\n",
    "import numpy as np\n",
    "import time\n",
    "\n"
   ]
  },
  {
   "cell_type": "markdown",
   "metadata": {
    "id": "FlYjVsZA3j__"
   },
   "source": [
    "## In-session Example: Cornell University Website\n",
    "\n",
    "The TA will show you [this page about Cornell University](https://www.cornell.edu/about/). This webpage has information about Cornell, including general statistics about number of students, different campus locations, and many links to other Cornell pages.\n",
    "\n",
    "## Viewing HTML\n",
    "Take a look at the HTML of the page. You can view this in a couple of different ways:\n",
    "\n",
    "*   Right click > \"View Page Source\"\n",
    "*   Right click > \"Inspect\"\n",
    "\n",
    "**What differences do you notice between the two HTML views?**\n",
    "\n"
   ]
  },
  {
   "cell_type": "markdown",
   "metadata": {
    "id": "CyAS5Km3KgYI"
   },
   "source": [
    "Today, our goal is to collect and organize various stats about Cornell.\n",
    "\n",
    "We need to put together clues from the structure of the page and the appearance of elements on the page. Appearance is usually determined by the CSS `style` property. Figuring out how to automatically find values from HTML will involve looking at HTML source, ^F searching for values that you want, and figuring out how to identify styles or containing elements. Modern web pages are long and have lots of complicated elements, many of which do not appear as visible content. Starting from the top of the document and reading through is not recommended.\n",
    "\n",
    "You will scrape information from cached copies of \"About Cornell\" pages. These are locally hosted so we don't have hundreds of students hitting Cornell's website at the same time. They probably wouldn't notice, but it's more responsible to keep it local.\n"
   ]
  },
  {
   "cell_type": "code",
   "execution_count": 3,
   "metadata": {
    "id": "EBJxOwcm1Og2"
   },
   "outputs": [],
   "source": [
    "cornell_url = \"https://koenecke.infosci.cornell.edu/files/info2950/About%20Cornell%20University.html\""
   ]
  },
  {
   "cell_type": "markdown",
   "metadata": {
    "id": "KVga8D7A8nHc"
   },
   "source": [
    "The following code does a `GET` request to the web host for the specified filename. HTTP is the protocol used to make web requests. It has a series of \"status codes\" that tell you the result of request. 200 is success. Others you have probably seen: 404 is \"page not found\", 403 is \"you do not have access\". Codes starting with 3-- are often redirects. 500 means there is a bug in the server-side code."
   ]
  },
  {
   "cell_type": "code",
   "execution_count": 4,
   "metadata": {
    "id": "iKMoioQN1PrE"
   },
   "outputs": [],
   "source": [
    "cornell_result = requests.get(cornell_url)\n",
    "if cornell_result.status_code != 200:\n",
    "  print(\"something went wrong:\", cornell_result.status_code, cornell_result.reason)"
   ]
  },
  {
   "cell_type": "markdown",
   "metadata": {
    "id": "s7toLvE68qF5"
   },
   "source": [
    "You're never going to get the analysis of a web page right the first time, so it's good to save a local copy of the HTML source so we don't need to hit the server again."
   ]
  },
  {
   "cell_type": "code",
   "execution_count": 5,
   "metadata": {
    "id": "T--49WBb1Vch"
   },
   "outputs": [],
   "source": [
    "with open(\"cornell_about.html\", \"w\") as writer:\n",
    "  writer.write(cornell_result.text)"
   ]
  },
  {
   "cell_type": "markdown",
   "metadata": {
    "id": "VYSfu-898tcc"
   },
   "source": [
    "Here we're immediately reading the file again, but you could split these into two separate notebooks, one for downloading, one for analysis."
   ]
  },
  {
   "cell_type": "code",
   "execution_count": 6,
   "metadata": {
    "id": "OsuOFDfB1Zxc"
   },
   "outputs": [],
   "source": [
    "with open(\"cornell_about.html\", \"r\") as reader:\n",
    "  html_source = reader.read()"
   ]
  },
  {
   "cell_type": "markdown",
   "metadata": {
    "id": "WCQTpxKf8xbQ"
   },
   "source": [
    "There are a lot of things that can go wrong when you are accessing web documents. Get in the habit of constantly adding confidence checks to make sure the state of variables is what you expect it to be."
   ]
  },
  {
   "cell_type": "code",
   "execution_count": 7,
   "metadata": {
    "colab": {
     "base_uri": "https://localhost:8080/",
     "height": 35
    },
    "id": "K3a1nh1p1gGy",
    "outputId": "4938fb12-e7e4-4c56-c326-fe499b4c0407"
   },
   "outputs": [
    {
     "data": {
      "text/plain": [
       "'<!DOCTYPE html>\\n<html lang=\"en\" class=\"wf-freightsanspro-n6-active wf-freighttextpro-i4-active wf-freighttextpro-n7-active wf-freightsanspro-n5-active wf-freightsanspro-n4-active wf-freighttextpro-n3-active wf-freighttextpro-i3-active wf-freightsanspro-n3-active wf-freighttextpro-n4-active wf-freighttextpro-i7-active js flexbox flexboxlegacy canvas canvastext webgl no-touch geolocation postmessage no-websqldatabase indexeddb hashchange history draganddrop websockets rgba hsla multiplebgs backgroundsize borderimage borderradius boxshadow textshadow opacity cssanimations csscolumns cssgradients no-cssreflections csstransforms csstransforms3d csstransitions fontface generatedcontent video audio localstorage sessionstorage webworkers no-applicationcache svg inlinesvg smil svgclippaths no-videopreload wf-freightsanspro-n7-active wf-active\"><head><meta http-equiv=\"Content-Type\" content=\"text/html; charset=UTF-8\"><!-- base href=\"https://www.cornell.edu/about/\" --><style type=\"text/css\">.tk-freight-sans-pro{font-family:\"freight-sans-pro\",sans-serif;}.tk-freight-text-pro{font-family:\"freight-text-pro\",sans-serif;}</style><style type=\"text/css\">@font-face{font-family:freight-sans-pro;src:url(https://use.typekit.net/af/442215/000000000000000000010b5a/27/l?subset_id=2&fvd=n4&v=3) format(\"woff2\"),url(https://use.typekit.net/af/442215/000000000000000000010b5a/27/d?subset_id=2&fvd=n4&v=3) format(\"woff\"),url(https://use.typekit.net/af/442215/000000000000000000010b5a/27/a?subset_id=2&fvd=n4&v=3) format(\"opentype\");font-weight:400;font-style:normal;font-stretch:normal;font-display:auto;}@font-face{font-family:freight-sans-pro;src:url(https://use.typekit.net/af/1709eb/000000000000000000010b60/27/l?subset_id=2&fvd=n7&v=3) format(\"woff2\"),url(https://use.typekit.net/af/1709eb/000000000000000000010b60/27/d?subset_id=2&fvd=n7&v=3) format(\"woff\"),url(https://use.typekit.net/af/1709eb/000000000000000000010b60/27/a?subset_id=2&fvd=n7&v=3) format(\"opentype\");font-weight:700;font-style:normal;font-stretch:normal;font-display:auto;}@font-face{font-family:freight-sans-pro;src:url(https://use.typekit.net/af/ba2099/000000000000000000010b58/27/l?subset_id=2&fvd=n3&v=3) format(\"woff2\"),url(https://use.typekit.net/af/ba2099/000000000000000000010b58/27/d?subset_id=2&fvd=n3&v=3) format(\"woff\"),url(https://use.typekit.net/af/ba2099/000000000000000000010b58/27/a?subset_id=2&fvd=n3&v=3) format(\"opentype\");font-weight:300;font-style:normal;font-stretch:normal;font-display:auto;}@font-face{font-family:freight-sans-pro;src:url(https://use.typekit.net/af/8dd886/000000000000000000010b5c/27/l?subset_id=2&fvd=n5&v=3) format(\"woff2\"),url(https://use.typekit.net/af/8dd886/000000000000000000010b5c/27/d?subset_id=2&fvd=n5&v=3) format(\"woff\"),url(https://use.typekit.net/af/8dd886/000000000000000000010b5c/27/a?subset_id=2&fvd=n5&v=3) format(\"opentype\");font-weight:500;font-style:normal;font-stretch:normal;font-display:auto;}@font-face{font-family:freight-sans-pro;src:url(https://use.typekit.net/af/cef9f3/000000000000000000010b5e/27/l?subset_id=2&fvd=n6&v=3) format(\"woff2\"),url(https://use.typekit.net/af/cef9f3/000000000000000000010b5e/27/d?subset_id=2&fvd=n6&v=3) format(\"woff\"),url(https://use.typekit.net/af/cef9f3/000000000000000000010b5e/27/a?subset_id=2&fvd=n6&v=3) format(\"opentype\");font-weight:600;font-style:normal;font-stretch:normal;font-display:auto;}@font-face{font-family:freight-text-pro;src:url(https://use.typekit.net/af/ac6334/000000000000000000012059/27/l?subset_id=2&fvd=n4&v=3) format(\"woff2\"),url(https://use.typekit.net/af/ac6334/000000000000000000012059/27/d?subset_id=2&fvd=n4&v=3) format(\"woff\"),url(https://use.typekit.net/af/ac6334/000000000000000000012059/27/a?subset_id=2&fvd=n4&v=3) format(\"opentype\");font-weight:400;font-style:normal;font-stretch:normal;font-display:auto;}@font-face{font-family:freight-text-pro;src:url(https://use.typekit.net/af/5464d5/00000000000000000001205a/27/l?subset_id=2&fvd=i4&v=3) format(\"woff2\"),url(https://use.typekit.net/af/5464d5/00000000000000000001205a/27/d?subset_id=2&fvd=i4&v=3) format(\"woff\"),url(https://use.typekit.net/af/5464d5/00000000000000000001205a/27/a?subset_id=2&fvd=i4&v=3) format(\"opentype\");font-weight:400;font-style:italic;font-stretch:normal;font-display:auto;}@font-face{font-family:freight-text-pro;src:url(https://use.typekit.net/af/04ec74/00000000000000000001205b/27/l?subset_id=2&fvd=n7&v=3) format(\"woff2\"),url(https://use.typekit.net/af/04ec74/00000000000000000001205b/27/d?subset_id=2&fvd=n7&v=3) format(\"woff\"),url(https://use.typekit.net/af/04ec74/00000000000000000001205b/27/a?subset_id=2&fvd=n7&v=3) format(\"opentype\");font-weight:700;font-style:normal;font-stretch:normal;font-display:auto;}@font-face{font-family:freight-text-pro;src:url(https://use.typekit.net/af/8cf83d/00000000000000000001205c/27/l?subset_id=2&fvd=i7&v=3) format(\"woff2\"),url(https://use.typekit.net/af/8cf83d/00000000000000000001205c/27/d?subset_id=2&fvd=i7&v=3) format(\"woff\"),url(https://use.typekit.net/af/8cf83d/00000000000000000001205c/27/a?subset_id=2&fvd=i7&v=3) format(\"opentype\");font-weight:700;font-style:italic;font-stretch:normal;font-display:auto;}@font-face{font-family:freight-text-pro;src:url(https://use.typekit.net/af/1aea0d/000000000000000000012106/27/l?subset_id=2&fvd=n3&v=3) format(\"woff2\"),url(https://use.typekit.net/af/1aea0d/000000000000000000012106/27/d?subset_id=2&fvd=n3&v=3) format(\"woff\"),url(https://use.typekit.net/af/1aea0d/000000000000000000012106/27/a?subset_id=2&fvd=n3&v=3) format(\"opentype\");font-weight:300;font-style:normal;font-stretch:normal;font-display:auto;}@font-face{font-family:freight-text-pro;src:url(https://use.typekit.net/af/2d5f33/000000000000000000012107/27/l?subset_id=2&fvd=i3&v=3) format(\"woff2\"),url(https://use.typekit.net/af/2d5f33/000000000000000000012107/27/d?subset_id=2&fvd=i3&v=3) format(\"woff\"),url(https://use.typekit.net/af/2d5f33/000000000000000000012107/27/a?subset_id=2&fvd=i3&v=3) format(\"opentype\");font-weight:300;font-style:italic;font-stretch:normal;font-display:auto;}</style><style>body{margin-left:0;margin-right:0;margin-top:0}#bN015htcoyT__google-cache-hdr{background:#f8f9fa;font:13px arial,sans-serif;text-align:left;color:#202124;border:0;margin:0;border-bottom:1px solid #dadce0;line-height:16px;padding:16px 28px 24px 28px}#bN015htcoyT__google-cache-hdr *{display:inline;font:inherit;text-align:inherit;color:inherit;line-height:inherit;background:none;border:0;margin:0;padding:0;letter-spacing:0}#bN015htcoyT__google-cache-hdr a{text-decoration:none;color:#1a0dab;}#bN015htcoyT__google-cache-hdr a:hover{text-decoration:underline}#bN015htcoyT__google-cache-hdr a:visited{color:#681da8}#bN015htcoyT__google-cache-hdr div{display:block;margin-top:4px}#bN015htcoyT__google-cache-hdr b{font-weight:bold;display:inline-block;direction:ltr}</style></head><body class=\"about\"><div id=\"bN015htcoyT__google-cache-hdr\"><div><span>This is Google\\'s cache of <a href=\"https://www.cornell.edu/about/\">https://www.cornell.edu/about/</a>.</span>&nbsp;<span>It is a snapshot of the page as it appeared on Sep 5, 2023 19:10:30 GMT.</span>&nbsp;<span>The <a href=\"https://www.cornell.edu/about/\">current page</a> could have changed in the meantime.</span>&nbsp;<a href=\"http://support.google.com/websearch/bin/answer.py?hl=en&amp;p=cached&amp;answer=1687222\"><span>Learn more</span>.</a></div><div><span style=\"display:inline-block;margin-top:8px;margin-right:104px;white-space:nowrap\"><span style=\"margin-right:28px\"><span style=\"font-weight:bold\">Full version</span></span><span style=\"margin-right:28px\"><a href=\"http://webcache.googleusercontent.com/search?q=cache:FwQY78IHD64J:https://www.cornell.edu/about/&amp;sca_esv=562865996&amp;hl=en&amp;gl=us&amp;strip=1&amp;vwsrc=0\"><span>Text-only version</span></a></span><span style=\"margin-right:28px\"><a href=\"http://webcache.googleusercontent.com/search?q=cache:FwQY78IHD64J:https://www.cornell.edu/about/&amp;sca_esv=562865996&amp;hl=en&amp;gl=us&amp;strip=0&amp;vwsrc=1\"><span>View source</span></a></span></span></div><span style=\"display:inline-block;margin-top:8px;color:#70757a\"><span>Tip: To quickly find your search term on this page, press <b>Ctrl+F</b> or <b>⌘-F</b> (Mac) and use the find bar.</span></span></div><div style=\"position:relative;\">\\n\\n<!--[if lt IE 7]>      <html class=\"no-js lt-ie9 lt-ie8 lt-ie7\"> <![endif]-->\\n<!--[if IE 7]>         <html class=\"no-js lt-ie9 lt-ie8\"> <![endif]-->\\n<!--[if IE 8]>         <html class=\"no-js lt-ie9\"> <![endif]-->\\n<!--[if gt IE 8]><!-->  <!--<![endif]-->\\n\\n<meta charset=\"utf-8\">\\n<!-- TIME BUILT: {ts \\'2023-09-05 15:10:29\\'} -->\\n\\n<meta http-equiv=\"X-UA-Compatible\" content=\"IE=edge\">\\n\\n<meta name=\"author\" content=\"Office of Web Communications, Cornell University\">\\n<meta name=\"copyright\" content=\"Copyright (c) 2023 Cornell University\">\\n\\n<meta name=\"description\" content=\"Cornell University is a private research university that provides an exceptional education for undergraduates and graduate and professional students. Cornell\\'s colleges and schools encompass more than 100 fields of study, with locations in Ithaca, New York, New York City and Doha, Qatar.\">\\n<meta name=\"keywords\" content=\"university, ivy league, research, undergraduate research, graduate research, transnational, land grant, new york, agriculture and life sciences, architecture, art, planning, arts and sciences, engineering, hotel administration, human ecology, industrial and labor relations, law, business, medicine, pre-med, veterinary medicine, vet school\">\\n\\n<meta name=\"robots\" content=\"all\">\\n\\n<meta name=\"viewport\" content=\"user-scalable = yes\">\\n\\n<meta content=\"width=device-width, minimum-scale=1\" name=\"viewport\">\\n\\n<meta property=\"fb:app_id\" content=\"806006142815437\">\\n\\n    \\n\\n<title>About | Cornell University</title>\\n\\n<link rel=\"shortcut icon\" href=\"https://www.cornell.edu/favicon.ico\" type=\"image/x-icon\">\\n\\n<!-- Typekit fonts -->\\n<script type=\"text/javascript\" async=\"\" src=\"About%20Cornell%20University_files/siteanalyze_6120104.js\"></script><script type=\"text/javascript\" async=\"\" src=\"About%20Cornell%20University_files/ga.js\"></script><script src=\"About%20Cornell%20University_files/gog6dck.js\"></script>\\n<script type=\"text/javascript\">try{Typekit.load();}catch(e){}</script>\\n\\n<!-- Core CSS -->\\n<link rel=\"stylesheet\" href=\"About%20Cornell%20University_files/cornell.css\">\\n<link rel=\"stylesheet\" href=\"About%20Cornell%20University_files/style.css\">\\n<link rel=\"stylesheet\" href=\"About%20Cornell%20University_files/print.css\">\\n<!--[if lt IE 9]>\\n<link href=\"https://www.cornell.edu/assets/core/css/ie.css?ver=20230118\" rel=\"stylesheet\" />\\n<script src=\"https://www.cornell.edu/assets/core/js/lib/selectivizr.js?ver=20230118\"></script>\\n<link href=\"https://www.cornell.edu/assets/core/css/ie8down.css?ver=20230118\" rel=\"stylesheet\" />\\n<![endif]-->\\n<!--[if gte IE 9]>\\n<link href=\"https://www.cornell.edu/assets/core/css/ie9up.css?ver=20230118\" rel=\"stylesheet\" />\\n<![endif]-->\\n\\n\\n\\n\\n\\n\\n    \\n<!-- <link rel=\"stylesheet\" href=\"/assets/main.css\"> -->\\n\\n\\n<script src=\"About%20Cornell%20University_files/modernizr.js\"></script>\\n<style type=\"text/css\">\\n/* Mega nav down-arrow buttons for sub-menus */\\n.xarrow_button {\\n  display: none;\\n}\\n</style>\\n\\n\\n  <link rel=\"stylesheet\" type=\"text/css\" media=\"all\" href=\"About%20Cornell%20University_files/overview-updates_2023.css\">\\n\\n          \\n\\n  \\n  \\n\\n\\n\\n\\n  \\n\\n<!-- Google Tag Manager (noscript) -->\\n<noscript><iframe src=\"https://www.googletagmanager.com/ns.html?id=GTM-WW83RG9\"\\n  height=\"0\" width=\"0\" style=\"display:none;visibility:hidden\"></iframe></noscript>\\n<!-- End Google Tag Manager (noscript) -->\\n\\n<nav id=\"skip-link\" aria-label=\"Skip navigation\">\\n    <a href=\"#main\" tabindex=\"1\" data-click-category=\"header\" data-click-action=\"skip to content\">Skip to content</a>\\n</nav>\\n \\n\\n<!-- Begin Header -->\\n\\n<!-- Global Header and Navigation -->\\n<header id=\"cu-hdr\" class=\"hdr-embeddedsearch\" aria-label=\"Main site navigation\">\\n  <div class=\"cu-hdr-bg\"></div>\\n  <div class=\"cu-hdr-inner\">\\n    <a href=\"https://www.cornell.edu/\" id=\"cu-brand\" title=\"Cornell.edu Homepage\" data-click-category=\"header\" data-click-action=\"home\">\\n      <div class=\"cu-logotype\">Cornell University</div>\\n    </a>\\n    <button class=\"icon-search\" href=\"/search/\" id=\"search-trigger\" data-click-category=\"header\" data-click-action=\"search | reveal search box\" data-click-label=\"magnifying glass\"><span class=\"off-screen\">Search</span></button>\\n    <button class=\"icon-menu\" href=\"/search/\" id=\"mobile-trigger\" title=\"toggle menu\"><span class=\"off-screen\">toggle menu</span></button>\\n  </div>  \\n  <nav id=\"cu-nav\" data-click-category=\"header\" aria-label=\"Main navigation\">\\n    <button id=\"nav-close\"><div class=\"icon-reset\"></div>close</button>\\n    <ul id=\"cu-nav-main\" data-click-action=\"nav | main\" class=\"nav-menu\">\\n      <li class=\"cu-nav-about nav-item\">\\n        <span class=\"menu-item-wrap\">\\n          <a class=\"menu-item\" href=\"https://www.cornell.edu/about\" data-click-label=\"About Cornell\">About Cornell</a>\\n          <button class=\"arrow_button\" aria-expanded=\"false\" aria-haspopup=\"menu\" aria-label=\"toggle the About Cornell sub-menu\"><span class=\"arrow_down\"></span></button>\\n        </span>\\n\\n        <a class=\"submenu-trigger\" aria-expanded=\"false\" href=\"https://www.cornell.edu/about\" data-click-label=\"About Cornell\" aria-label=\"toggle the About Cornell sub-menu\"><span class=\"off-screen\">About Cornell</span></a>\\n        <div class=\"submenu sub-nav\" data-click-action=\"nav | about | submenu\" style=\"display: none;\">\\n          <div class=\"submenu-overview sub-nav-group\">\\n            <a href=\"https://www.cornell.edu/about/\" data-click-label=\"Overview\">\\n            <img src=\"About%20Cornell%20University_files/nav-overview-about.jpg\" class=\"image-replace\" alt=\"blue sky over the Arts Quad\" data-src=\"https://www.cornell.edu/assets/core/images/nav-overview-about.jpg\" aria-hidden=\"true\">\\n              <span>Overview</span>\\n            </a>\\n          </div>\\n\\n          <ul class=\"submenu-links sub-nav-group\">\\n            <li><a href=\"https://www.cornell.edu/about/timeline/\" data-click-label=\"Cornell History\">Cornell History</a></li>\\n            <li><a href=\"https://www.cornell.edu/about/maps/\" data-click-label=\"Maps &amp; Directions\">Maps &amp; Directions</a></li>\\n            <li><a href=\"https://www.cornell.edu/about/mission.cfm\" data-click-label=\"Mission\">Mission &amp; Vision</a></li>\\n\\t\\t\\t      <li><a href=\"https://www.cornell.edu/about/values.cfm\" data-click-label=\"Values\">Core Values</a></li>\\n            <li><a href=\"https://www.cornell.edu/about/locations/\" data-click-label=\"Locations\">Locations</a></li>\\n            <li class=\"submenu-secondary\"><a href=\"https://www.cornell.edu/about/locations/ithaca/\" data-click-label=\"Ithaca\">Ithaca</a></li>\\n            <li class=\"submenu-secondary\"><a href=\"https://www.cornell.edu/about/locations/nyc/\" data-click-label=\"New York City\">New York City</a></li>\\n          </ul>\\n\\n          <div class=\"submenu-related last\">\\n            <h2 class=\"submenu-title\">Related Links</h2>\\n            <ul class=\"sub-nav-group\" data-click-action=\"nav | about | related\">\\n              <li><a href=\"https://diversity.cornell.edu/\" data-click-label=\"Diversity\" aria-label=\"Diversity at Cornell\">Diversity</a></li>\\n              <li><a href=\"https://indigenous.cornell.edu/\" data-click-label=\"Indigenous\" aria-label=\"Indigenous Engagement: Commitment to North American Indigenous Nations and Communities\">Indigenous Engagement</a></li>\\n              <li><a href=\"https://economicimpact.cornell.edu/\" data-click-label=\"Economic Impact\">Economic Impact</a></li>\\n              <li><a href=\"https://sustainability.cornell.edu/\" data-click-label=\"Sustainability\">Sustainability</a></li>\\n              <li><a href=\"https://global.cornell.edu/\" data-click-label=\"Global\">Global</a></li>\\n              <li><a href=\"https://leadership.cornell.edu/\" data-click-label=\"Cornell Leadership\">Cornell Leadership</a></li>\\n            </ul>\\n          </div>\\n        </div>\\n      </li>\\n\\n      <li class=\"cu-nav-admissions nav-item\">\\n        <span class=\"menu-item-wrap\">\\n          <a class=\"menu-item\" href=\"https://www.cornell.edu/admissions/\">Admissions</a>\\n          <button class=\"arrow_button\" aria-expanded=\"false\" aria-haspopup=\"menu\" aria-label=\"toggle the Admissions sub-menu\"><span class=\"arrow_down\"></span></button>\\n        </span>\\n        <div class=\"submenu sub-nav\" data-click-action=\"nav | admissions | submenu\" style=\"display: none;\">\\n          <div class=\"submenu-overview sub-nav-group\">\\n            <a href=\"https://www.cornell.edu/admissions/\" data-click-label=\"Overview\">\\n            <img src=\"About%20Cornell%20University_files/nav-overview-admissions.jpg\" class=\"image-replace\" alt=\"students cheer at a football game\" data-src=\"https://www.cornell.edu/assets/images/nav-overview-admissions.jpg\" aria-hidden=\"true\">\\n              <span>Overview</span>\\n            </a>\\n          </div>\\n\\n          <div class=\"submenu-related\">\\n            <h2 class=\"submenu-title\">Undergraduate</h2>\\n            <ul class=\"sub-nav-group\" data-click-action=\"nav | admissions | undergraduate\">\\n              <li><a href=\"https://admissions.cornell.edu/how-to-apply\" data-click-label=\"Apply\" aria-label=\"Apply as an Undergraduate\">Apply</a></li>\\n              <li><a href=\"https://admissions.cornell.edu/\" data-click-label=\"Admissions\" aria-label=\"Undergraduate Admissions\">Admissions</a></li>\\n              <li><a href=\"https://faq.enrollment.cornell.edu/kb/article/199-when-is-the-application-deadline/\" data-click-label=\"Dates &amp; Deadlines\">Dates and Deadlines</a></li>\\n              <li><a href=\"https://finaid.cornell.edu/\" data-click-label=\"Costs and Aid\" aria-label=\"Undergraduate Costs and Aid\">Costs and Aid </a></li>\\n            </ul>\\n          </div>\\n\\n          <div class=\"submenu-related\">\\n            <h2 class=\"submenu-title\">Graduate</h2>\\n            <ul class=\"sub-nav-group\" data-click-action=\"nav | admissions | graduate\">\\n              <li><a href=\"https://gradschool.cornell.edu/admissions/\" data-click-label=\"Admissions\" aria-label=\"Graduate Admissions\">Admissions</a></li>\\n  \\t\\t\\t      <li><a href=\"https://gradschool.cornell.edu/admissions/degrees-fields/cugradfos/\" data-click-label=\"Fields of Study\" aria-label=\"Graduate Fields of Study\">Fields of Study</a></li>\\n              <li><a href=\"https://gradschool.cornell.edu/financial-support/\" data-click-label=\"Financial Support\" aria-label=\"Graduate Financial Support\">Financial Support</a></li>\\n            </ul>\\n          </div>\\n\\n          <div class=\"submenu-related last\">\\n            <h2 class=\"submenu-title\">Continuing Education &amp; Summer Sessions</h2>\\n            <ul class=\"sub-nav-group\" data-click-action=\"nav | admissions | continuing ed\">\\n              <li><a href=\"https://sce.cornell.edu/courses/programs/summer\" data-click-label=\"Summer Sessions\">Summer Sessions</a></li>\\n              <li><a href=\"https://sce.cornell.edu/courses/programs/winter\" data-click-label=\"Winter Sessions\">Winter Sessions</a></li>\\n              <li><a href=\"https://sce.cornell.edu/courses/programs/part-time\" data-click-label=\"Part-time Study\">Part-time Study</a></li>\\n            </ul>\\n          </div>\\n        </div>\\n      </li>\\n\\n      <li class=\"cu-nav-academics nav-item\">\\n        <span class=\"menu-item-wrap\">\\n          <a class=\"menu-item\" href=\"https://www.cornell.edu/academics/\">Academics</a>\\n          <button class=\"arrow_button\" aria-expanded=\"false\" aria-haspopup=\"menu\" aria-label=\"toggle the Academics sub-menu\"><span class=\"arrow_down\"></span></button>\\n        </span>\\n\\n        <a class=\"submenu-trigger\" aria-expanded=\"false\" href=\"https://www.cornell.edu/academics\" aria-label=\"toggle the Academics sub-menu\"><span class=\"off-screen\">Academics</span></a>\\n        <div class=\"submenu sub-nav\" data-click-action=\"nav | academics | submenu\" style=\"display: none;\">\\n          <div class=\"submenu-overview sub-nav-group\">\\n            <a href=\"https://www.cornell.edu/academics/\" data-click-label=\"Overview\">\\n            <img src=\"About%20Cornell%20University_files/nav-overview-academics.jpg\" class=\"image-replace\" alt=\"art student kneels on the floor, working on a large painting\" data-src=\"https://www.cornell.edu/assets/images/nav-overview-academics.jpg\" aria-hidden=\"true\">\\n              <span>Overview</span>\\n            </a>\\n          </div>\\n\\n          <ul class=\"submenu-links sub-nav-group\">\\n            <li><a href=\"https://www.cornell.edu/academics/fields.cfm\" data-click-label=\"Fields of Study\">Fields of Study</a></li>\\n            <li><a href=\"https://www.cornell.edu/academics/colleges.cfm\" data-click-label=\"Colleges &amp; Schools\">Colleges &amp; Schools</a></li>\\n            <li><a href=\"https://www.cornell.edu/academics/departments.cfm\" data-click-label=\"Departments\">Departments</a></li>\\n            <li><a href=\"https://www.cornell.edu/academics/library.cfm\" data-click-label=\"Library\">Library</a></li>\\n            <li><a href=\"https://www.cornell.edu/academics/continuing.cfm\" data-click-label=\"Continuing Education\">Continuing Education</a></li>\\n          </ul>\\n\\n          <div class=\"submenu-related last\">\\n            <h2 class=\"submenu-title\">Related Links</h2>\\n            <ul class=\"sub-nav-group\" data-click-action=\"nav | academics | related\">\\n  \\t\\t\\t      <li><a href=\"https://provost.cornell.edu/\">Office of the Provost</a></li>\\n  \\t\\t\\t      <li><a href=\"https://registrar.cornell.edu/academic-calendar\" data-click-label=\"Academic Calendar\">Academic Calendar</a></li>  \\n              <li><a href=\"http://courses.cornell.edu/\" data-click-label=\"Course Catalog\">Course Catalog</a></li>\\n              <li><a href=\"https://globallearning.cornell.edu/\" data-click-label=\"Global Learning\">Global Learning</a></li>\\n              <li><a href=\"https://learninggoals.cornell.edu/\" data-click-label=\"Learning Goals\">Learning Goals</a></li>\\n            </ul>\\n          </div>\\n        </div>\\n      </li>\\n\\n      <li class=\"cu-nav-research nav-item\">\\n        <span class=\"menu-item-wrap\">\\n          <a class=\"menu-item\" href=\"https://www.cornell.edu/research\">Research</a>\\n          <button class=\"arrow_button\" aria-expanded=\"false\" aria-haspopup=\"menu\" aria-label=\"toggle the Research sub-menu\"><span class=\"arrow_down\"></span></button>\\n        </span>\\n        <div class=\"submenu\" data-click-action=\"nav | research | submenu\" style=\"display: none;\">\\n          <div class=\"submenu-overview sub-nav-group\">\\n            <a href=\"https://www.cornell.edu/research\">\\n              <img src=\"About%20Cornell%20University_files/nav-overview-research.jpg\" class=\"image-replace\" alt=\"two students in a lab\" data-src=\"https://www.cornell.edu/assets/core/images/nav-overview-research.jpg\" aria-hidden=\"true\">\\n              <span>Overview</span>\\n            </a>\\n          </div>\\n\\n          <div class=\"submenu-stories sub-nav-group\">\\n            <h2 class=\"submenu-title\">Explore Cornell Research</h2>\\n            <ul data-click-action=\"nav | research | featured\"> \\n              <li><a class=\"img160x90\" href=\"https://news.cornell.edu/categories/research-impact\" title=\"\" data-click-label=\"drop down feature image\">\\n              <img src=\"About%20Cornell%20University_files/Song-Lin-Illustration-small.jpg\" class=\"image-replace\" alt=\"Researchers writing on glass.\" data-src=\"https://www.cornell.edu/research/img/header/Song-Lin-Illustration-small.jpg\" aria-hidden=\"true\">Keep up with research and innovation in the Cornell Chronicle</a></li>\\n            </ul>\\n          </div>\\n\\n          <div class=\"submenu-related last\">\\n            <h2 class=\"submenu-title\">Related Links</h2>\\n            <ul class=\"sub-nav-group\" data-click-action=\"nav | research | related\">\\n              <li><a href=\"https://research-and-innovation.cornell.edu/\" data-click-label=\"OVPR\">Vice President for Research and Innovation</a></li>\\n              <li><a href=\"https://research-and-innovation.cornell.edu/find-a-center-institute-lab-or-program/\" data-click-label=\"Centers &amp; Institutes\">Centers &amp; Institutes</a></li>\\n              <li><a href=\"https://ctl.cornell.edu/\" data-click-label=\"Technology Licensing (CTL)\">Technology Licensing (CTL)</a></li>  \\n              <li><a href=\"https://gradschool.cornell.edu/admissions/explore/research-and-scholarship/\" data-click-label=\"Graduate Research\">Graduate Research</a>\\n              </li><li><a href=\"https://undergraduateresearch.cornell.edu/\" data-click-label=\"Undergraduate Research\">Undergraduate Research</a></li>  \\n              <li><a href=\"https://research-and-innovation.cornell.edu/publications-data/\" data-click-label=\"Research Publications\">OVPRI Research Publications</a></li>\\n            </ul>\\n          </div>\\n        </div>\\n      </li>\\n\\n      <li class=\"cu-nav-engagement nav-item\">\\n        <span class=\"menu-item-wrap\">\\n          <a class=\"menu-item\" href=\"https://www.cornell.edu/engagement/\">Public Engagement</a>\\n          <button class=\"arrow_button\" aria-expanded=\"false\" aria-haspopup=\"menu\" aria-label=\"toggle the Public Engagement sub-menu\"><span class=\"arrow_down\"></span></button>\\n        </span>\\n        <div class=\"submenu sub-nav\" data-click-action=\"nav | engagement | submenu\" style=\"display: none;\">\\n          <div class=\"submenu-overview sub-nav-group\">\\n            <a href=\"https://www.cornell.edu/engagement/\">\\n              <img src=\"About%20Cornell%20University_files/nav-overview-engagement.jpg\" class=\"image-replace\" alt=\"Julia Kan ’21 and Groton student Joshua Batzer draw together.\" data-src=\"https://www.cornell.edu/assets/images/nav-overview-engagement.jpg\" aria-hidden=\"true\">\\n              <span>Overview</span>\\n            </a>\\n          </div>\\n\\n          <div class=\"submenu-stories sub-nav-group\">\\n            <h2 class=\"submenu-title\">Featured</h2>\\n            <ul data-click-action=\"nav | engagement | featured\">\\n              <li><a href=\"https://news.cornell.edu/stories/2020/10/cce-helps-buffalo-get-school-food-truck-rolling\" title=\"\" data-click-label=\"CCE helps Buffalo get school food truck rolling\">\\n              <img src=\"About%20Cornell%20University_files/cce-food-truck-160x90.jpg\" class=\"image-replace\" alt=\"Hungry customers outside the West Hertel Academy place their orders at the new Buffalo Public Schools’ food truck, developed with input from Cornell Cooperative Extension.\" data-src=\"https://www.cornell.edu/assets/images/engagement/cce-food-truck-160x90.jpg\" aria-hidden=\"true\">\\n              CCE helps Buffalo get school food truck rolling</a></li>\\n            </ul>\\n          </div>\\n\\n          <div class=\"submenu-related last\">\\n            <h2 class=\"submenu-title\">Related Links</h2>\\n            <ul class=\"sub-nav-group\" data-click-action=\"nav | engagement | related\">\\n              <li><a href=\"https://cals.cornell.edu/cornell-cooperative-extension\" data-click-label=\"Cooperative Extension\">Cornell Cooperative Extension</a></li>\\n              <li><a href=\"https://engagedcornellhub.cornell.edu/\">Engaged Cornell Hub</a></li>\\n              <li><a href=\"https://landgrant.cornell.edu/\" data-click-label=\"Land Grant to NYS\">Land Grant to New York State</a></li>\\n              <li><a href=\"https://ny.cornell.edu/\" data-click-label=\"New York State Impact\">New York State Impact</a></li>\\n            </ul>\\n          </div>\\n        </div>\\n      </li>\\n\\n      <li class=\"cu-nav-student nav-item\">\\n        <span class=\"menu-item-wrap\">\\n          <a class=\"menu-item\" href=\"https://www.cornell.edu/life-at-cornell/\">Life at Cornell</a>\\n          <button class=\"arrow_button\" aria-expanded=\"false\" aria-haspopup=\"menu\" aria-label=\"toggle the Life at Cornell sub-menu\"><span class=\"arrow_down\"></span></button>\\n        </span>\\n\\n\\t\\t    <a class=\"submenu-trigger\" aria-expanded=\"false\" href=\"https://www.cornell.edu/life-at-cornell/\"><span class=\"off-screen\">Life at Cornell</span></a>  \\n        <div class=\"submenu sub-nav\" data-click-action=\"nav | life at cornell | submenu\" style=\"display: none;\">\\n          <div class=\"submenu-overview sub-nav-group\">\\n            <a href=\"https://www.cornell.edu/life-at-cornell/\">\\n            <img src=\"About%20Cornell%20University_files/nav-overview-student.jpg\" class=\"image-replace\" alt=\"members of the cheer squad arm in arm\" data-src=\"https://www.cornell.edu/assets/core/images/nav-overview-student.jpg\" aria-hidden=\"true\">\\n              <span>Overview</span>\\n            </a>\\n          </div>\\n\\n          <ul class=\"submenu-links sub-nav-group\">\\n            <li><a href=\"https://www.cornell.edu/life-at-cornell/athletics.cfm\" data-click-label=\"Athletics &amp; Recreation\">Athletics &amp; Recreation</a></li>\\n            <li><a href=\"https://www.cornell.edu/life-at-cornell/arts.cfm\" data-click-label=\"Arts &amp; Culture\">Arts &amp; Culture</a></li>\\n            <li><a href=\"https://www.cornell.edu/life-at-cornell/health.cfm\" data-click-label=\"Health &amp; Safety\">Health &amp; Safety</a></li>\\n            <li><a href=\"https://www.cornell.edu/life-at-cornell/live.cfm\" data-click-label=\"Live, Work, Travel\">Live, Work, Travel</a></li>\\n            <li><a href=\"https://www.cornell.edu/life-at-cornell/student-life.cfm\" data-click-label=\"Student Life\">Student Life</a></li>\\n          </ul>\\n\\n          <div class=\"submenu-related last\">\\n            <h2 class=\"submenu-title\">Related Links</h2>\\n            <ul class=\"sub-nav-group\" data-click-action=\"nav | student life | related\">\\n              <li><a href=\"https://diversity.cornell.edu/our-community\" data-click-label=\"Find Your Networks\">Find Your Networks</a></li>\\n              <li><a href=\"https://scl.cornell.edu/get-involved/new-student-programs\" data-click-label=\"Center for First-Year Students\">Center for First-Year Students</a></li>\\n              <li><a href=\"https://scl.cornell.edu/get-involved\" data-click-label=\"Clubs &amp; Student Groups\">Clubs &amp; Student Groups</a></li>\\n            </ul>\\n          </div>\\n        </div>\\n      </li>\\n    </ul>\\n\\n    <!--covid link-->\\n    <div id=\"cu-nav-informational\" class=\"desktop-covid-link\">\\n      <ul>\\n        <li class=\"cu-nav-covid\">\\n          <a href=\"https://covid.cornell.edu/\" data-click-label=\"COVID-19 Website\">COVID-19 Website</a>\\n        </li>\\n      </ul>\\n    </div>\\n\\n    <div id=\"cu-nav-utility\">\\n      <ul>\\n        <button class=\"menu-item js-sub-trigger\" href=\"/_includes/header.cfm\" data-click-label=\"More\">More</button>\\n\\n        <button class=\"submenu-trigger\" aria-expanded=\"false\" href=\"/_includes/header.cfm\"><span class=\"off-screen\">Toggle navigation</span></button>\\n        <li class=\"submenu\">\\n          <ul class=\"submenu-links\">\\n            <li class=\"cu-nav-covid\">\\n              <a tabindex=\"2\" class=\"mobile-covid-link\" href=\"https://covid.cornell.edu/\" data-click-label=\"COVID-19 Website\">COVID-19 Website</a>\\n            </li>\\n            \\n<li class=\"cu-nav-actions\" data-click-action=\"nav | transactional\">\\n  <ul>\\n    <li><a tabindex=\"2\" class=\"applyParent\" href=\"#\" aria-label=\"Expand Apply Menu\" id=\"applyButton\" role=\"button\">Apply</a></li>\\n\\n    <li class=\"applyChildLi undergrad-nav\"><a tabindex=\"3\" class=\"applyChild\" style=\"display:none;\" href=\"https://admissions.cornell.edu/how-to-apply\" aria-label=\"Apply as an Undergraduate\">Undergraduate</a></li>\\n\\n    <li class=\"applyChildLi\"><a tabindex=\"4\" class=\"applyChild\" style=\"display:none;\" href=\"http://www.gradschool.cornell.edu/admissions\" aria-label=\"Apply as a Graduate\">Graduate</a></li>\\n\\n    <li><a tabindex=\"5\" href=\"https://www.cornell.edu/visit\">Visit</a></li>\\n   \\n    <li><a tabindex=\"6\" href=\"http://www.giving.cornell.edu/\">Give</a></li>\\n  </ul>\\n</li>\\n\\n            <li class=\"cu-nav-people\" data-click-action=\"nav | audience\">\\n              <ul>\\n                <li><a tabindex=\"7\" href=\"https://www.studentessentials.cornell.edu/\" data-click-label=\"Students\">Students</a></li>\\n                <li><a tabindex=\"8\" href=\"https://families.cornell.edu/\" data-click-label=\"Families\">Families</a></li>\\n                <li><a tabindex=\"9\" href=\"https://cuinfo.cornell.edu/\" data-click-label=\"Faculty &amp; Staff\">Faculty &amp; Staff</a></li>\\n                <li><a tabindex=\"10\" href=\"https://alumni.cornell.edu/\" data-click-label=\"Alumni\">Alumni</a></li>\\n              </ul>\\n            </li>\\n          </ul>\\n        </li>\\n      </ul>\\n      <form action=\"/search/\" class=\"search-main\" method=\"get\">\\n        \\n        <div class=\"container\">\\n          \\n          <label for=\"search-query\" class=\"offscreen\">Search</label>\\n          <input autocomplete=\"off\" id=\"search-query\" name=\"q\" placeholder=\"Search\" required=\"\" type=\"search\" title=\"Search\" tabindex=\"11\">\\n          \\n          <button class=\"icon-search search-submit\" type=\"submit\" name=\"submit-search\" tabindex=\"12\"><span class=\"off-screen\">Search</span></button>\\n        </div>\\n      </form>\\n      \\n    </div>\\n  </nav>\\n</header>\\n<!-- End Header -->\\n\\n\\n\\n      <div class=\"sticky-wrapper\"><div class=\"secondary-menu\">\\n        <div class=\"container\">\\n          <div class=\"secondary-menu-wrapper\">\\n            <nav aria-label=\"Secondary Menu: About\">\\n              <ul>\\n                <li><a class=\"active\" href=\"https://www.cornell.edu/about/index.cfm\">Overview</a></li>\\n                <li><a href=\"https://www.cornell.edu/about/timeline/\">Cornell History</a></li>\\n                <li><a href=\"https://www.cornell.edu/about/mission.cfm\">Mission &amp; Vision</a></li>\\n\\t\\t\\t\\t        <li><a href=\"https://www.cornell.edu/about/values.cfm\">Core Values</a></li>\\n                <li class=\"secondary-menu-submenu\"><a href=\"https://www.cornell.edu/about/locations/\">Locations</a>\\n                  <ul>\\n                    <li><a href=\"https://www.cornell.edu/about/locations/ithaca/\">Ithaca</a></li>\\n                    <li><a href=\"https://www.cornell.edu/about/locations/nyc/\">New York City</a></li>\\n                  </ul>\\n                </li>\\n                <li><a href=\"https://www.cornell.edu/about/maps/\">Maps &amp; Directions</a></li>\\n              </ul>\\n            </nav>\\n          </div>\\n        </div>\\n      </div></div>\\n\\n  \\n\\n  <!-- Read Timeline JSON file -->\\n  \\n\\n\\n  <!-- Main Content -->\\n  <div id=\"main\" role=\"main\" data-click-category=\"about\" data-click-action=\"links\">\\n  <h1 class=\"off-screen\">About Cornell</h1>\\n  <div class=\"marquee-mask with-video\" role=\"marquee\"><img alt=\"\" class=\"marquee-shim\" src=\"About%20Cornell%20University_files/720.jpg\" aria-hidden=\"true\">\\n    <div class=\"marquee\">\\n      <div class=\"marquee-item animate-copy\" style=\"background-image: url(\\'//cdnapisec.kaltura.com/p/537811/thumbnail/entry_id/1_ov22y9vj/width/1280/height/720\\')\">\\n        \\n        <img alt=\"Scenic view of Cornell campus in spring.\" class=\"marquee-img\" src=\"About%20Cornell%20University_files/720.jpg\">\\n        <div class=\"marquee-oneliner vjack\">\\n          <div class=\"vcenter\">\\n            <span class=\"marquee-oneliner-copy centered\"><span>\\n              Welcome to Cornell\\n            </span></span>\\n          </div>\\n        </div>\\n      </div>\\n    </div>\\n    <button class=\"video_pause_play\" data-target=\"#video1\" aria-label=\"Pause video\"></button>\\n  </div>\\n\\n\\n    \\n    <!-- MISSION -->\\n    <div class=\"about-overview section transition-in\">\\n      <div class=\"container\">\\n        <div class=\"cu-intro\" aria-label=\"Introduction\">\\n          <h2 class=\"cu-title\">\\n            Knowledge for the greater good\\n          </h2>\\n          <p>\\n            We have taken to heart the revolutionary spirit that founded\\n our university and encourage each other to pursue unpredicted lines of \\nthinking in order to effect change on local and international scales. \\n          </p>\\n          <ul class=\"link-list inline\">\\n            <li>\\n              <a href=\"https://www.cornell.edu/engagement/\" title=\"Engagement with the world\">\\n                Public Engagement\\n              </a>\\n            </li>\\n            <li>\\n              <a href=\"http://diversity.cornell.edu/\" title=\"Cornell\\'s commitment to Diversity\">\\n                Diversity\\n              </a>\\n            </li>\\n            <li>\\n              <a href=\"http://www.cornell.edu/sustainability/\" title=\"Sustainability\">\\n                Sustainability\\n              </a>\\n            </li>\\n            <li>\\n              <a href=\"http://www.cornell.edu/leadership/\" title=\"Senior university leaders\">\\n                Cornell Leadership\\n              </a>\\n            </li>\\n          </ul>\\n        </div>\\n\\n        <!-- CORNELL CAMPUSES & LOCATIONS -->\\n        <div class=\"about-locations\" aria-label=\"Campuses and Locations\" id=\"about-locations\">\\n          <h2 class=\"cu-title\">\\n            Cornell Campuses &amp; Locations <button class=\"toggleSlideShowButton\" style=\"margin-left: 3em; cursor: pointer;\">Pause Slides</button>\\n          </h2>\\n          <div class=\"cu-locations\">\\n            <a class=\"cu-location media-box primary\" href=\"https://www.cornell.edu/about/ithaca.cfm\" title=\"About Ithaca\">\\n              <img alt=\"Main Ithaca Campus\" class=\"media-img\" src=\"About%20Cornell%20University_files/main-Tower1.Still001-720x.jpg\">\\n              <div class=\"media-overlay vjack\">\\n                <div class=\"vbottom\">\\n                  <div class=\"media-title\">\\n                    Main Campus\\n                  </div>\\n                  <div class=\"media-tag\">\\n                    Ithaca, NY\\n                  </div>\\n                </div>\\n              </div>\\n              <div class=\"media-rollover vjack\">\\n                <div class=\"vcenter\">\\n                  <div class=\"media-title\">\\n                    Main Campus\\n                  </div>\\n                  <div class=\"media-tag divider\">\\n                    Ithaca, NY\\n                  </div>\\n                  <p class=\"media-copy\">\\n                    Located in Ithaca, NY, Cornell\\'s main campus \\nprovides the experience of the traditional college campus: eateries, \\nresidence halls, academic buildings, libraries, and research facilities.\\n But its natural beauty—the nearby lake, natural waterfalls, and \\ngardens—set the campus apart from others in the Ivy League.\\n                  </p>\\n                  <div class=\"media-cta\">\\n                    Explore Ithaca Campus\\n                  </div>\\n                </div>\\n              </div>\\n            </a>\\n\\n\\n\\n\\n            <div class=\"cu-location-set left\">\\n              <div class=\"cu-location-mask\" style=\"height: 300px;\">\\n                <div class=\"cu-location-slideshow\" data-idx=\"0\" id=\"cu-location-slideshow0\" style=\"position: absolute; height: 300px; left: -1800px;\">\\n\\n                  <a class=\"cu-location media-box\" href=\"http://www.cornell.edu/about/locations/nyc/570-lexington.cfm\" title=\"570 Lexington Avenue\" style=\"position: absolute; left: 0px; top: 0px; display: none;\">\\n                    <img alt=\"570 Lexington Avenue in New York City\" class=\"media-img\" src=\"About%20Cornell%20University_files/570_lex_720x720.jpg\">\\n                    <div class=\"media-overlay vjack\">\\n                      <div class=\"vbottom\">\\n                        <div class=\"media-title\">\\n                          570 Lexington Avenue\\n                        </div>\\n                        <div class=\"media-tag\">\\n                          New York, NY\\n                        </div>\\n                      </div>\\n                    </div>\\n                    <div class=\"media-rollover vjack\">\\n                      <div class=\"vcenter\">\\n                        <div class=\"media-title\">\\n                          570 Lexington Avenue\\n                        </div>\\n                        <div class=\"media-tag divider\">\\n                          New York, NY\\n                        </div>\\n                        <div class=\"media-cta\">\\n                          Visit Site\\n                        </div>\\n                      </div>\\n                    </div>\\n                  </a>  \\n\\n                  <a class=\"cu-location media-box\" href=\"http://tech.cornell.edu/\" title=\"CornellTech\" style=\"position: absolute; left: 300px; top: 0px; display: none;\">\\n                    <img alt=\"Tech Campus in New York City\" class=\"media-img\" src=\"About%20Cornell%20University_files/tech-UP_2017_0939_094D-360x.jpg\">\\n                    <div class=\"media-overlay vjack\">\\n                      <div class=\"vbottom\">\\n                        <div class=\"media-title\">\\n                          Cornell Tech\\n                        </div>\\n                        <div class=\"media-tag\">\\n                          New York, NY\\n                        </div>\\n                      </div>\\n                    </div>\\n                    <div class=\"media-rollover vjack\">\\n                      <div class=\"vcenter\">\\n                        <div class=\"media-title\">\\n                          Cornell Tech\\n                        </div>\\n                        <div class=\"media-tag divider\">\\n                          New York, NY\\n                        </div>\\n                        <div class=\"media-cta\">\\n                          Visit Site\\n                        </div>\\n                      </div>\\n                    </div>\\n                  </a>\\n                  <a class=\"cu-location media-box\" href=\"http://www.sml.cornell.edu/sml_welcome.html\" title=\"Shoals Marine Lab\" style=\"position: absolute; left: 600px; top: 0px; display: none;\">\\n                    <img alt=\"Shoals Marine Lab, Portsmouth, New Hampshire\" class=\"media-img\" src=\"About%20Cornell%20University_files/shoals-0687_07_021-360x.jpg\">\\n                    <div class=\"media-overlay vjack\">\\n                      <div class=\"vbottom\">\\n                        <div class=\"media-title\">\\n                          Shoals Marine Lab\\n                        </div>\\n                        <div class=\"media-tag\">\\n                          Portsmouth, NH\\n                        </div>\\n                      </div>\\n                    </div>\\n                    <div class=\"media-rollover vjack\">\\n                      <div class=\"vcenter\">\\n                        <div class=\"media-title\">\\n                          Shoals Marine Lab\\n                        </div>\\n                        <div class=\"media-tag divider\">\\n                          Portsmouth, NH\\n                        </div>\\n                        <div class=\"media-cta\">\\n                          Visit Site\\n                        </div>\\n                      </div>\\n                    </div>\\n                  </a>\\n                  <a class=\"cu-location media-box\" href=\"http://aap.cornell.edu/academics/rome\" title=\"AAP in Rome\" style=\"position: absolute; left: 900px; top: 0px; display: none;\">\\n                    <img alt=\"Rome Architecture Studios\" class=\"media-img\" src=\"About%20Cornell%20University_files/arch_NQR7519-360x.jpg\">\\n                    <div class=\"media-overlay vjack\">\\n                      <div class=\"vbottom\">\\n                        <div class=\"media-title\">\\n                          Architecture Studios\\n                        </div>\\n                        <div class=\"media-tag\">\\n                          Rome, Italy\\n                        </div>\\n                      </div>\\n                    </div>\\n                    <div class=\"media-rollover vjack\">\\n                      <div class=\"vcenter\">\\n                        <div class=\"media-title\">\\n                          Architecture Studios\\n                        </div>\\n                        <div class=\"media-tag divider\">\\n                          Rome, Italy\\n                        </div>\\n                        <div class=\"media-cta\">\\n                          Visit Site\\n                        </div>\\n                      </div>\\n                    </div>\\n                  </a>\\n                  <a class=\"cu-location media-box\" href=\"https://agritech.cals.cornell.edu/\" title=\"Cornell AgriTech\" style=\"position: absolute; left: 1200px; top: 0px; display: none;\">\\n                    <img alt=\"Cornell AgriTech\" class=\"media-img\" src=\"About%20Cornell%20University_files/geneva-2015_1310_206-360x.jpg\">\\n                    <div class=\"media-overlay vjack\">\\n                      <div class=\"vbottom\">\\n                        <div class=\"media-title\">\\n                          Cornell AgriTech\\n                        </div>\\n                        <div class=\"media-tag\">\\n                          Geneva, NY\\n                        </div>\\n                      </div>\\n                    </div>\\n                    <div class=\"media-rollover vjack\">\\n                      <div class=\"vcenter\">\\n                        <div class=\"media-title\">\\n                          Cornell AgriTech\\n                        </div>\\n                        <div class=\"media-tag divider\">\\n                          Geneva, NY\\n                        </div>\\n                        <div class=\"media-cta\">\\n                          Visit Site\\n                        </div>\\n                      </div>\\n                    </div>\\n                  </a>\\n                  <a class=\"cu-location media-box\" href=\"http://weill.cornell.edu/\" title=\"Weill in NYC\" style=\"position: absolute; left: 1500px; top: 0px; display: none;\">\\n                    <img alt=\"Weill Cornell Medicine in New York City\" class=\"media-img\" src=\"About%20Cornell%20University_files/weill-0630_14_110-360x.jpg\">\\n                    <div class=\"media-overlay vjack\">\\n                      <div class=\"vbottom\">\\n                        <div class=\"media-title\">\\n                          Weill Cornell Medicine\\n                        </div>\\n                        <div class=\"media-tag\">\\n                          New York, NY\\n                        </div>\\n                      </div>\\n                    </div>\\n                    <div class=\"media-rollover vjack\">\\n                      <div class=\"vcenter\">\\n                        <div class=\"media-title\">\\n                          Weill Cornell Medicine\\n                        </div>\\n                        <div class=\"media-tag divider\">\\n                          New York, NY\\n                        </div>\\n                        <div class=\"media-cta\">\\n                          Visit Site\\n                        </div>\\n                      </div>\\n                    </div>\\n                  </a>\\n                  <a class=\"cu-location media-box\" href=\"http://www.ciw.cornell.edu/\" title=\"Cornell in Washington\" style=\"position: absolute; left: 1800px; top: 0px;\">\\n                    <img alt=\"Wolpe Center in Washington, D.C.\" class=\"media-img\" src=\"About%20Cornell%20University_files/dc.jpg\">\\n                    <div class=\"media-overlay vjack\">\\n                      <div class=\"vbottom\">\\n                        <div class=\"media-title\">\\n                          Wolpe Center\\n                        </div>\\n                        <div class=\"media-tag\">\\n                          Washington, D.C.\\n                        </div>\\n                      </div>\\n                    </div>\\n                    <div class=\"media-rollover vjack\">\\n                      <div class=\"vcenter\">\\n                        <div class=\"media-title\">\\n                          Wolpe Center\\n                        </div>\\n                        <div class=\"media-tag divider\">\\n                          Washington, D.C.\\n                        </div>\\n                        <div class=\"media-cta\">\\n                          Visit Site\\n                        </div>\\n                      </div>\\n                    </div>\\n                  </a>\\n                  <a class=\"cu-location media-box\" href=\"http://qatar-weill.cornell.edu/\" title=\"Weill in Qatar\" style=\"position: absolute; left: 30000px; top: 0px; display: none;\">\\n                    <img alt=\"Weill Cornell Medicine-Qatar\" class=\"media-img\" src=\"About%20Cornell%20University_files/WCM-Q_1165-360x.jpg\">\\n                    <div class=\"media-overlay vjack\">\\n                      <div class=\"vbottom\">\\n                        <div class=\"media-title\">\\n                          Weill Cornell Medicine-Qatar\\n                        </div>\\n                        <div class=\"media-tag\">\\n                          Doha, Qatar\\n                        </div>\\n                      </div>\\n                    </div>\\n                    <div class=\"media-rollover vjack\">\\n                      <div class=\"vcenter\">\\n                        <div class=\"media-title\">\\n                         Weill Cornell Medicine-Qatar\\n                       </div>\\n                       <div class=\"media-tag divider\">\\n                        Doha, Qatar\\n                      </div>\\n                      <div class=\"media-cta\">\\n                        Visit Site\\n                      </div>\\n                    </div>\\n                  </div>\\n                </a>\\n              </div>\\n            </div>\\n            <div class=\"cu-location-mask\" style=\"height: 300px;\">\\n              <div class=\"cu-location-slideshow\" data-idx=\"3\" id=\"cu-location-slideshow3\" style=\"position: absolute; left: -2100px; height: 300px;\">\\n\\n                <a class=\"cu-location media-box\" href=\"http://www.cornell.edu/about/locations/nyc/570-lexington.cfm\" title=\"570 Lexington Avenue\" style=\"position: absolute; left: 1800px; top: 0px; display: none;\">\\n                  <img alt=\"570 Lexington Avenue in New York City\" class=\"media-img\" src=\"About%20Cornell%20University_files/570_lex_720x720.jpg\">\\n                  <div class=\"media-overlay vjack\">\\n                    <div class=\"vbottom\">\\n                      <div class=\"media-title\">\\n                        570 Lexington Avenue\\n                      </div>\\n                      <div class=\"media-tag\">\\n                        New York, NY\\n                      </div>\\n                    </div>\\n                  </div>\\n                  <div class=\"media-rollover vjack\">\\n                    <div class=\"vcenter\">\\n                      <div class=\"media-title\">\\n                        570 Lexington Avenue\\n                      </div>\\n                      <div class=\"media-tag divider\">\\n                        New York, NY\\n                      </div>\\n                      <div class=\"media-cta\">\\n                        Visit Site\\n                      </div>\\n                    </div>\\n                  </div>\\n                </a>  \\n\\n                <a class=\"cu-location media-box\" href=\"http://tech.cornell.edu/\" title=\"CornellTech\" style=\"position: absolute; left: 2100px; top: 0px;\">\\n                  <img alt=\"Tech Campus in New York City\" class=\"media-img\" src=\"About%20Cornell%20University_files/tech-UP_2017_0939_094D-360x.jpg\">\\n                  <div class=\"media-overlay vjack\">\\n                    <div class=\"vbottom\">\\n                      <div class=\"media-title\">\\n                        Cornell Tech\\n                      </div>\\n                      <div class=\"media-tag\">\\n                        New York, NY\\n                      </div>\\n                    </div>\\n                  </div>\\n                  <div class=\"media-rollover vjack\">\\n                    <div class=\"vcenter\">\\n                      <div class=\"media-title\">\\n                        Cornell Tech\\n                      </div>\\n                      <div class=\"media-tag divider\">\\n                        New York, NY\\n                      </div>\\n                      <div class=\"media-cta\">\\n                        Visit Site\\n                      </div>\\n                    </div>\\n                  </div>\\n                </a>\\n                <a class=\"cu-location media-box\" href=\"http://www.sml.cornell.edu/sml_welcome.html\" title=\"Shoals Lab\" style=\"position: absolute; left: 30000px; top: 0px; display: none;\">\\n                  <img alt=\"Shoals Marine Lab, Portsmouth, New Hampshire\" class=\"media-img\" src=\"About%20Cornell%20University_files/shoals-0687_07_021-360x.jpg\">\\n                  <div class=\"media-overlay vjack\">\\n                    <div class=\"vbottom\">\\n                      <div class=\"media-title\">\\n                        Shoals Marine Lab\\n                      </div>\\n                      <div class=\"media-tag\">\\n                        Portsmouth, NH\\n                      </div>\\n                    </div>\\n                  </div>\\n                  <div class=\"media-rollover vjack\">\\n                    <div class=\"vcenter\">\\n                      <div class=\"media-title\">\\n                        Shoals Marine Lab\\n                      </div>\\n                      <div class=\"media-tag divider\">\\n                        Portsmouth, NH\\n                      </div>\\n                      <div class=\"media-cta\">\\n                        Visit Site\\n                      </div>\\n                    </div>\\n                  </div>\\n                </a>\\n                <a class=\"cu-location media-box\" href=\"http://aap.cornell.edu/academics/rome\" title=\"AAP in Rome\" style=\"position: absolute; left: 300px; top: 0px; display: none;\">\\n                  <img alt=\"Rome Architecture Studios\" class=\"media-img\" src=\"About%20Cornell%20University_files/arch_NQR7519-360x.jpg\">\\n                  <div class=\"media-overlay vjack\">\\n                    <div class=\"vbottom\">\\n                      <div class=\"media-title\">\\n                        Architecture Studios\\n                      </div>\\n                      <div class=\"media-tag\">\\n                        Rome, Italy\\n                      </div>\\n                    </div>\\n                  </div>\\n                  <div class=\"media-rollover vjack\">\\n                    <div class=\"vcenter\">\\n                      <div class=\"media-title\">\\n                        Architecture Studios\\n                      </div>\\n                      <div class=\"media-tag divider\">\\n                        Rome, Italy\\n                      </div>\\n                      <div class=\"media-cta\">\\n                        Visit Site\\n                      </div>\\n                    </div>\\n                  </div>\\n                </a>\\n                <a class=\"cu-location media-box\" href=\"https://agritech.cals.cornell.edu/\" title=\"Cornell AgriTech\" style=\"position: absolute; left: 600px; top: 0px; display: none;\">\\n                  <img alt=\"Cornell AgriTech\" class=\"media-img\" src=\"About%20Cornell%20University_files/geneva-2015_1310_206-360x.jpg\">\\n                  <div class=\"media-overlay vjack\">\\n                    <div class=\"vbottom\">\\n                      <div class=\"media-title\">\\n                        Cornell AgriTech\\n                      </div>\\n                      <div class=\"media-tag\">\\n                        Geneva, NY\\n                      </div>\\n                    </div>\\n                  </div>\\n                  <div class=\"media-rollover vjack\">\\n                    <div class=\"vcenter\">\\n                      <div class=\"media-title\">\\n                        Cornell AgriTech\\n                      </div>\\n                      <div class=\"media-tag divider\">\\n                        Geneva, NY\\n                      </div>\\n                      <div class=\"media-cta\">\\n                        Visit Site\\n                      </div>\\n                    </div>\\n                  </div>\\n                </a>\\n                <a class=\"cu-location media-box\" href=\"http://weill.cornell.edu/\" title=\"Weill in NYC\" style=\"position: absolute; left: 900px; top: 0px; display: none;\">\\n                  <img alt=\"Weill Cornell Medicine in New York City\" class=\"media-img\" src=\"About%20Cornell%20University_files/weill-0630_14_110-360x.jpg\">\\n                  <div class=\"media-overlay vjack\">\\n                    <div class=\"vbottom\">\\n                      <div class=\"media-title\">\\n                        Weill Cornell Medicine\\n                      </div>\\n                      <div class=\"media-tag\">\\n                        New York, NY\\n                      </div>\\n                    </div>\\n                  </div>\\n                  <div class=\"media-rollover vjack\">\\n                    <div class=\"vcenter\">\\n                      <div class=\"media-title\">\\n                        Weill Cornell Medicine\\n                      </div>\\n                      <div class=\"media-tag divider\">\\n                        New York, NY\\n                      </div>\\n                      <div class=\"media-cta\">\\n                        Visit Site\\n                      </div>\\n                    </div>\\n                  </div>\\n                </a>\\n                <a class=\"cu-location media-box\" href=\"http://www.ciw.cornell.edu/\" title=\"Cornell in Washington\" style=\"position: absolute; left: 1200px; top: 0px; display: none;\">\\n                  <img alt=\"Wolpe Center in Washington, D.C.\" class=\"media-img\" src=\"About%20Cornell%20University_files/dc.jpg\">\\n                  <div class=\"media-overlay vjack\">\\n                    <div class=\"vbottom\">\\n                      <div class=\"media-title\">\\n                       Wolpe Center\\n                     </div>\\n                     <div class=\"media-tag\">\\n                      Washington, D.C.\\n                    </div>\\n                  </div>\\n                </div>\\n                <div class=\"media-rollover vjack\">\\n                  <div class=\"vcenter\">\\n                    <div class=\"media-title\">\\n                      Wolpe Center\\n                    </div>\\n                    <div class=\"media-tag divider\">\\n                      Washington, D.C.\\n                    </div>\\n                    <div class=\"media-cta\">\\n                      Visit Site\\n                    </div>\\n                  </div>\\n                </div>\\n              </a>\\n              <a class=\"cu-location media-box\" href=\"http://qatar-weill.cornell.edu/\" title=\"Weill in Qatar\" style=\"position: absolute; left: 1500px; top: 0px; display: none;\">\\n                <img alt=\"Weill Cornell Medicine-Qatar\" class=\"media-img\" src=\"About%20Cornell%20University_files/WCM-Q_1165-360x.jpg\">\\n                <div class=\"media-overlay vjack\">\\n                  <div class=\"vbottom\">\\n                    <div class=\"media-title\">\\n                     Weill Cornell Medicine-Qatar\\n                   </div>\\n                   <div class=\"media-tag\">\\n                    Doha, Qatar\\n                  </div>\\n                </div>\\n              </div>\\n              <div class=\"media-rollover vjack\">\\n                <div class=\"vcenter\">\\n                  <div class=\"media-title\">\\n                    Weill Cornell Medicine-Qatar\\n                  </div>\\n                  <div class=\"media-tag divider\">\\n                    Doha, Qatar\\n                  </div>\\n                  <div class=\"media-cta\">\\n                    Visit Site\\n                  </div>\\n                </div>\\n              </div>\\n            </a>\\n          </div>\\n        </div>\\n      </div>\\n      <div class=\"cu-location-set right\">\\n        <div class=\"cu-location-mask\" style=\"height: 300px;\">\\n          <div class=\"cu-location-slideshow\" data-idx=\"2\" id=\"cu-location-slideshow2\" style=\"position: absolute; left: -2100px; height: 300px;\">\\n\\n            <a class=\"cu-location media-box\" href=\"http://www.cornell.edu/about/locations/nyc/570-lexington.cfm\" title=\"570 Lexington Avenue\" style=\"position: absolute; left: 2100px; top: 0px; display: block;\">\\n              <img alt=\"570 Lexington Avenue in New York City\" class=\"media-img\" src=\"About%20Cornell%20University_files/570_lex_720x720.jpg\">\\n              <div class=\"media-overlay vjack\">\\n                <div class=\"vbottom\">\\n                  <div class=\"media-title\">\\n                    570 Lexington Avenue\\n                  </div>\\n                  <div class=\"media-tag\">\\n                    New York, NY\\n                  </div>\\n                </div>\\n              </div>\\n              <div class=\"media-rollover vjack\">\\n                <div class=\"vcenter\">\\n                  <div class=\"media-title\">\\n                    570 Lexington Avenue\\n                  </div>\\n                  <div class=\"media-tag divider\">\\n                    New York, NY\\n                  </div>\\n                  <div class=\"media-cta\">\\n                    Visit Site\\n                  </div>\\n                </div>\\n              </div>\\n            </a>  \\n\\n            <a class=\"cu-location media-box\" href=\"http://tech.cornell.edu/\" title=\"CornellTech\" style=\"position: absolute; left: 30000px; top: 0px; display: none;\">\\n              <img alt=\"Tech Campus in New York City\" class=\"media-img\" src=\"About%20Cornell%20University_files/tech-UP_2017_0939_094D-360x.jpg\">\\n              <div class=\"media-overlay vjack\">\\n                <div class=\"vbottom\">\\n                  <div class=\"media-title\">\\n                    Cornell Tech\\n                  </div>\\n                  <div class=\"media-tag\">\\n                    New York, NY\\n                  </div>\\n                </div>\\n              </div>\\n              <div class=\"media-rollover vjack\">\\n                <div class=\"vcenter\">\\n                  <div class=\"media-title\">\\n                    Cornell Tech\\n                  </div>\\n                  <div class=\"media-tag divider\">\\n                    New York, NY\\n                  </div>\\n                  <div class=\"media-cta\">\\n                    Visit Site\\n                  </div>\\n                </div>\\n              </div>\\n            </a>\\n            <a class=\"cu-location media-box\" href=\"http://www.sml.cornell.edu/sml_welcome.html\" title=\"Shoals Marine Lab\" style=\"position: absolute; left: 300px; top: 0px; display: none;\">\\n              <img alt=\"Shoals Marine Lab, Portsmouth, New Hampshire\" class=\"media-img\" src=\"About%20Cornell%20University_files/shoals-0687_07_021-360x.jpg\">\\n              <div class=\"media-overlay vjack\">\\n                <div class=\"vbottom\">\\n                  <div class=\"media-title\">\\n                    Shoals Marine Lab\\n                  </div>\\n                  <div class=\"media-tag\">\\n                    Portsmouth, NH\\n                  </div>\\n                </div>\\n              </div>\\n              <div class=\"media-rollover vjack\">\\n                <div class=\"vcenter\">\\n                  <div class=\"media-title\">\\n                    Shoals Marine Lab\\n                  </div>\\n                  <div class=\"media-tag divider\">\\n                    Portsmouth, NH\\n                  </div>\\n                  <div class=\"media-cta\">\\n                    Visit Site\\n                  </div>\\n                </div>\\n              </div>\\n            </a>\\n            <a class=\"cu-location media-box\" href=\"http://aap.cornell.edu/academics/rome\" title=\"AAP in Rome\" style=\"position: absolute; left: 600px; top: 0px; display: none;\">\\n              <img alt=\"Rome Architecture Studios\" class=\"media-img\" src=\"About%20Cornell%20University_files/arch_NQR7519-360x.jpg\">\\n              <div class=\"media-overlay vjack\">\\n                <div class=\"vbottom\">\\n                  <div class=\"media-title\">\\n                    Architecture Studios\\n                  </div>\\n                  <div class=\"media-tag\">\\n                    Rome, Italy\\n                  </div>\\n                </div>\\n              </div>\\n              <div class=\"media-rollover vjack\">\\n                <div class=\"vcenter\">\\n                  <div class=\"media-title\">\\n                    Architecture Studios\\n                  </div>\\n                  <div class=\"media-tag divider\">\\n                    Rome, Italy\\n                  </div>\\n                  <div class=\"media-cta\">\\n                    Visit Site\\n                  </div>\\n                </div>\\n              </div>\\n            </a>\\n            <a class=\"cu-location media-box\" href=\"https://agritech.cals.cornell.edu/\" title=\"Cornell AgriTech\" style=\"position: absolute; left: 900px; top: 0px; display: none;\">\\n              <img alt=\"Cornell AgriTech\" class=\"media-img\" src=\"About%20Cornell%20University_files/geneva-2015_1310_206-360x.jpg\">\\n              <div class=\"media-overlay vjack\">\\n                <div class=\"vbottom\">\\n                  <div class=\"media-title\">\\n                    Cornell AgriTech\\n                  </div>\\n                  <div class=\"media-tag\">\\n                    Geneva, NY\\n                  </div>\\n                </div>\\n              </div>\\n              <div class=\"media-rollover vjack\">\\n                <div class=\"vcenter\">\\n                  <div class=\"media-title\">\\n                    Cornell AgriTech\\n                  </div>\\n                  <div class=\"media-tag divider\">\\n                    Geneva, NY\\n                  </div>\\n                  <div class=\"media-cta\">\\n                    Visit Site\\n                  </div>\\n                </div>\\n              </div>\\n            </a>\\n            <a class=\"cu-location media-box\" href=\"http://weill.cornell.edu/\" title=\"Weill in NYC\" style=\"position: absolute; left: 1200px; top: 0px; display: none;\">\\n              <img alt=\"Weill Cornell Medicine in New York City\" class=\"media-img\" src=\"About%20Cornell%20University_files/weill-0630_14_110-360x.jpg\">\\n              <div class=\"media-overlay vjack\">\\n                <div class=\"vbottom\">\\n                  <div class=\"media-title\">\\n                    Weill Cornell Medicine\\n                  </div>\\n                  <div class=\"media-tag\">\\n                    New York, NY\\n                  </div>\\n                </div>\\n              </div>\\n              <div class=\"media-rollover vjack\">\\n                <div class=\"vcenter\">\\n                  <div class=\"media-title\">\\n                    Weill Cornell Medicine\\n                  </div>\\n                  <div class=\"media-tag divider\">\\n                    New York, NY\\n                  </div>\\n                  <div class=\"media-cta\">\\n                    Visit Site\\n                  </div>\\n                </div>\\n              </div>\\n            </a>\\n            <a class=\"cu-location media-box\" href=\"http://www.ciw.cornell.edu/\" title=\"Cornell in Washington\" style=\"position: absolute; left: 1500px; top: 0px; display: none;\">\\n              <img alt=\"Wolpe Center in Washington, D.C.\" class=\"media-img\" src=\"About%20Cornell%20University_files/dc.jpg\">\\n              <div class=\"media-overlay vjack\">\\n                <div class=\"vbottom\">\\n                  <div class=\"media-title\">\\n                    Wolpe Center\\n                  </div>\\n                  <div class=\"media-tag\">\\n                    Washington, D.C.\\n                  </div>\\n                </div>\\n              </div>\\n              <div class=\"media-rollover vjack\">\\n                <div class=\"vcenter\">\\n                  <div class=\"media-title\">\\n                    Wolpe Center\\n                  </div>\\n                  <div class=\"media-tag divider\">\\n                    Washington, D.C.\\n                  </div>\\n                  <div class=\"media-cta\">\\n                    Visit Site\\n                  </div>\\n                </div>\\n              </div>\\n            </a>\\n            <a class=\"cu-location media-box\" href=\"http://qatar-weill.cornell.edu/\" title=\"Weill in Qatar\" style=\"position: absolute; left: 1800px; top: 0px; display: none;\">\\n              <img alt=\"Weill Cornell Medicine-Qatar\" class=\"media-img\" src=\"About%20Cornell%20University_files/WCM-Q_1165-360x.jpg\">\\n              <div class=\"media-overlay vjack\">\\n                <div class=\"vbottom\">\\n                  <div class=\"media-title\">\\n                    Weill Cornell Medicine-Qatar\\n                  </div>\\n                  <div class=\"media-tag\">\\n                   Doha, Qatar\\n                 </div>\\n               </div>\\n             </div>\\n             <div class=\"media-rollover vjack\">\\n              <div class=\"vcenter\">\\n                <div class=\"media-title\">\\n                  Weill Cornell Medicine-Qatar\\n                </div>\\n                <div class=\"media-tag divider\">\\n                  Doha, Qatar\\n                </div>\\n                <div class=\"media-cta\">\\n                  Visit Site\\n                </div>\\n              </div>\\n            </div>\\n          </a>\\n        </div>\\n      </div>\\n      <div class=\"cu-location-mask\" style=\"height: 300px;\">\\n        <div class=\"cu-location-slideshow\" data-idx=\"5\" id=\"cu-location-slideshow5\" style=\"position: absolute; left: -1800px; height: 300px;\">\\n\\n          <a class=\"cu-location media-box\" href=\"http://www.cornell.edu/about/locations/nyc/570-lexington.cfm\" title=\"570 Lexington Avenue\" style=\"position: absolute; left: 1200px; top: 0px; display: none;\">\\n            <img alt=\"Tech Campus in New York City\" class=\"media-img\" src=\"About%20Cornell%20University_files/570_lex_720x720.jpg\">\\n            <div class=\"media-overlay vjack\">\\n              <div class=\"vbottom\">\\n                <div class=\"media-title\">\\n                  570 Lexington Avenue\\n                </div>\\n                <div class=\"media-tag\">\\n                  New York, NY\\n                </div>\\n              </div>\\n            </div>\\n            <div class=\"media-rollover vjack\">\\n              <div class=\"vcenter\">\\n                <div class=\"media-title\">\\n                  570 Lexington Avenue\\n                </div>\\n                <div class=\"media-tag divider\">\\n                  New York, NY\\n                </div>\\n                <div class=\"media-cta\">\\n                  Visit Site\\n                </div>\\n              </div>\\n            </div>\\n          </a>  \\n          \\n          <a class=\"cu-location media-box\" href=\"http://tech.cornell.edu/\" title=\"CornellTech\" style=\"position: absolute; left: 1500px; top: 0px; display: none;\">\\n            <img alt=\"Tech Campus in New York City\" class=\"media-img\" src=\"About%20Cornell%20University_files/tech-UP_2017_0939_094D-360x.jpg\">\\n            <div class=\"media-overlay vjack\">\\n              <div class=\"vbottom\">\\n                <div class=\"media-title\">\\n                  Cornell Tech\\n                </div>\\n                <div class=\"media-tag\">\\n                  New York, NY\\n                </div>\\n              </div>\\n            </div>\\n            <div class=\"media-rollover vjack\">\\n              <div class=\"vcenter\">\\n                <div class=\"media-title\">\\n                  Cornell Tech\\n                </div>\\n                <div class=\"media-tag divider\">\\n                  New York, NY\\n                </div>\\n                <div class=\"media-cta\">\\n                  Visit Site\\n                </div>\\n              </div>\\n            </div>\\n          </a>\\n          <a class=\"cu-location media-box\" href=\"http://www.sml.cornell.edu/sml_welcome.html\" title=\"Shoals Marine Lab\" style=\"position: absolute; left: 1800px; top: 0px;\">\\n            <img alt=\"Shoals Marine Lab, Portsmouth, New Hampshire\" class=\"media-img\" src=\"About%20Cornell%20University_files/shoals-0687_07_021-360x.jpg\">\\n            <div class=\"media-overlay vjack\">\\n              <div class=\"vbottom\">\\n                <div class=\"media-title\">\\n                  Shoals Marine Lab\\n                </div>\\n                <div class=\"media-tag\">\\n                  Portsmouth, NH\\n                </div>\\n              </div>\\n            </div>\\n            <div class=\"media-rollover vjack\">\\n              <div class=\"vcenter\">\\n                <div class=\"media-title\">\\n                  Shoals Marine Lab\\n                </div>\\n                <div class=\"media-tag divider\">\\n                  Portsmouth, NH\\n                </div>\\n                <div class=\"media-cta\">\\n                  Visit Site\\n                </div>\\n              </div>\\n            </div>\\n          </a>\\n          <a class=\"cu-location media-box\" href=\"http://aap.cornell.edu/academics/rome\" title=\"AAP in Rome\" style=\"position: absolute; left: 30000px; top: 0px; display: none;\">\\n            <img alt=\"Rome Architecture Studios\" class=\"media-img\" src=\"About%20Cornell%20University_files/arch_NQR7519-360x.jpg\">\\n            <div class=\"media-overlay vjack\">\\n              <div class=\"vbottom\">\\n                <div class=\"media-title\">\\n                  Architecture Studios\\n                </div>\\n                <div class=\"media-tag\">\\n                  Rome, Italy\\n                </div>\\n              </div>\\n            </div>\\n            <div class=\"media-rollover vjack\">\\n              <div class=\"vcenter\">\\n                <div class=\"media-title\">\\n                  Architecture Studios\\n                </div>\\n                <div class=\"media-tag divider\">\\n                  Rome, Italy\\n                </div>\\n                <div class=\"media-cta\">\\n                  Visit Site\\n                </div>\\n              </div>\\n            </div>\\n          </a>\\n          <a class=\"cu-location media-box\" href=\"https://agritech.cals.cornell.edu/\" title=\"Cornell AgriTech\" style=\"position: absolute; left: 30000px; top: 0px; display: none;\">\\n            <img alt=\"Cornell AgriTech\" class=\"media-img\" src=\"About%20Cornell%20University_files/geneva-2015_1310_206-360x.jpg\">\\n            <div class=\"media-overlay vjack\">\\n              <div class=\"vbottom\">\\n                <div class=\"media-title\">\\n                  Cornell AgriTech\\n                </div>\\n                <div class=\"media-tag\">\\n                  Geneva, NY\\n                </div>\\n              </div>\\n            </div>\\n            <div class=\"media-rollover vjack\">\\n              <div class=\"vcenter\">\\n                <div class=\"media-title\">\\n                  Cornell AgriTech\\n                </div>\\n                <div class=\"media-tag divider\">\\n                  Geneva, NY\\n                </div>\\n                <div class=\"media-cta\">\\n                  Visit Site\\n                </div>\\n              </div>\\n            </div>\\n          </a>\\n          <a class=\"cu-location media-box\" href=\"http://weill.cornell.edu/\" title=\"Weill in NYC\" style=\"position: absolute; left: 300px; top: 0px; display: none;\">\\n            <img alt=\"Weill Cornell Medicine in New York City\" class=\"media-img\" src=\"About%20Cornell%20University_files/weill-0630_14_110-360x.jpg\">\\n            <div class=\"media-overlay vjack\">\\n              <div class=\"vbottom\">\\n                <div class=\"media-title\">\\n                  Weill Cornell Medicine\\n                </div>\\n                <div class=\"media-tag\">\\n                  New York, NY\\n                </div>\\n              </div>\\n            </div>\\n            <div class=\"media-rollover vjack\">\\n              <div class=\"vcenter\">\\n                <div class=\"media-title\">\\n                  Weill Cornell Medicine\\n                </div>\\n                <div class=\"media-tag divider\">\\n                  New York, NY\\n                </div>\\n                <div class=\"media-cta\">\\n                  Visit Site\\n                </div>\\n              </div>\\n            </div>\\n          </a>\\n          <a class=\"cu-location media-box\" href=\"http://www.ciw.cornell.edu/\" title=\"Cornell in Washington\" style=\"position: absolute; left: 600px; top: 0px; display: none;\">\\n            <img alt=\"Wolpe Center in Washington, D.C.\" class=\"media-img\" src=\"About%20Cornell%20University_files/dc.jpg\">\\n            <div class=\"media-overlay vjack\">\\n              <div class=\"vbottom\">\\n                <div class=\"media-title\">\\n                  Wolpe Center\\n                </div>\\n                <div class=\"media-tag\">\\n                  Washington, D.C.\\n                </div>\\n              </div>\\n            </div>\\n            <div class=\"media-rollover vjack\">\\n              <div class=\"vcenter\">\\n                <div class=\"media-title\">\\n                  Wolpe Center\\n                </div>\\n                <div class=\"media-tag divider\">\\n                  Washington, D.C.\\n                </div>\\n                <div class=\"media-cta\">\\n                  Visit Site\\n                </div>\\n              </div>\\n            </div>\\n          </a>\\n          <a class=\"cu-location media-box\" href=\"http://qatar-weill.cornell.edu/\" title=\"Weill in Qatar\" style=\"position: absolute; left: 900px; top: 0px; display: none;\">\\n            <img alt=\"Weill Cornell Medicine-Qatar\" class=\"media-img\" src=\"About%20Cornell%20University_files/WCM-Q_1165-360x.jpg\">\\n            <div class=\"media-overlay vjack\">\\n              <div class=\"vbottom\">\\n                <div class=\"media-title\">\\n                  Weill Cornell Medicine-Qatar\\n                </div>\\n                <div class=\"media-tag\">\\n                 Doha, Qatar\\n               </div>\\n             </div>\\n           </div>\\n           <div class=\"media-rollover vjack\">\\n            <div class=\"vcenter\">\\n              <div class=\"media-title\">\\n                Weill Cornell Medicine-Qatar\\n              </div>\\n              <div class=\"media-tag divider\">\\n                Doha, Qatar\\n              </div>\\n              <div class=\"media-cta\">\\n                Visit Site\\n              </div>\\n            </div>\\n          </div>\\n        </a>\\n      </div>\\n    </div>\\n  </div>\\n</div>\\n<a class=\"link-caret\" href=\"https://www.cornell.edu/about/locations.cfm\" title=\"Cornell around the globe\">\\n  See All Locations\\n</a>\\n</div>\\n</div>\\n</div>\\n<!-- PROFILE -->\\n<div class=\"about-cornell section light-gray border-top\" aria-label=\"Quick facts, profile, and map\">\\n  <div class=\"container\">\\n    <!-- QUICK FACTS -->\\n    <div class=\"about-tower cu-tower\">\\n      <div class=\"icon-clocktower-bold\"></div>\\n      <h2 class=\"cu-tower-title\">\\n        Quick Facts\\n      </h2>\\n      <dl class=\"facts-list\">\\n        <dt>\\n          Location\\n        </dt>\\n        <dd>\\n          Ithaca, New York\\n        </dd>\\n        <dt>\\n          Founded\\n        </dt>\\n        <dd>\\n          1865\\n        </dd>\\n        <dt>\\n          Identity\\n        </dt>\\n        <dd>\\n         Private university, public mission\\n       </dd>\\n\\n     </dl>\\n\\n     <ul class=\"about-stats stats-list\">\\n\\n      <li class=\"stat\">\\n        <div class=\"stat-value\">\\n         15,735\\n       </div>\\n       <div class=\"stat-label\">\\n        Undergraduate Students\\n      </div>\\n    </li>\\n    <li class=\"stat\">\\n      <div class=\"stat-value\">\\n       10,163\\n     </div>\\n     <div class=\"stat-label\">\\n      Graduate Students\\n    </div>\\n  </li>\\n  <li class=\"stat\">\\n    <div class=\"stat-value\">\\n      2,864\\n    </div>\\n    <div class=\"stat-label\">\\n      Faculty\\n    </div>\\n  </li>\\n  <li class=\"stat\">\\n    <div class=\"stat-value\">\\n      50\\n    </div>\\n    <div class=\"stat-label\">\\n      Nobel Laureates\\n    </div>\\n  </li>\\n  <li class=\"stat\">\\n    <div class=\"stat-value\">\\n      17\\n    </div>\\n    <div class=\"stat-label\">\\n      Colleges and Schools\\n    </div>\\n  </li>\\n  <li class=\"stat\">\\n    <div class=\"stat-value\">\\n     $407M\\n   </div>\\n   <div class=\"stat-label\">\\n    undergraduate grant aid (FY23)\\n  </div>\\n</li>\\n</ul>\\n<img alt=\"Cornell pennant\" class=\"pennant\" src=\"About%20Cornell%20University_files/pennant.png\">\\n<a class=\"link-caret\" href=\"https://irp.dpb.cornell.edu/university-factbook\" title=\"Facts about Cornell\">\\n  See All University Facts\\n</a>\\n</div>\\n<div class=\"about-block about-profile\">\\n  <h3 class=\"cu-title\">\\n    Our Profile\\n  </h3>\\n  <p>Cornell is a privately endowed research university and a partner of\\n the State University of New York. As the federal land-grant institution\\n in New York State, we have a responsibility—unique within the Ivy \\nLeague—to make contributions in all fields of knowledge in a manner that\\n prioritizes public engagement to help improve the quality of life in \\nour state, the nation, the world.</p>\\n       <!-- <ul class=\"link-list\">\\n          <li>\\n            <a href=\"/engagement/\" title=\"Public Engagement\">\\n             Public Engagement\\n            </a>\\n          </li>\\n          <li>\\n            <a href=\"http://irp.dpb.cornell.edu/university-factbook\" title=\"All the facts\">\\n              University Factbook\\n            </a>\\n          </li>\\n        </ul>-->\\n      </div>\\n      <div class=\"about-block about-timeline\">\\n       <h3 class=\"cu-title\">Cornell Through the Years</h3>\\n       <p>More than 150 years of excellence in education, research and \\npublic engagement haven given Cornell a unique history that is rich with\\n innovation and tradition.</p>\\n\\n       \\n\\n\\n       <div class=\"timeline-slider\">\\n\\n        \\n\\n\\n\\n            <div class=\"timeline-slide fade\" style=\"display: block;\">\\n\\n           \\n             <img alt=\"Composite image of the Cornell University Charter seal and Ezra Cornell.\" src=\"About%20Cornell%20University_files/charter-seal-16x9.jpg\">\\n           \\n             \\n             <div class=\"timeline-slide-overlay\">\\n             </div>\\n             <div class=\"timeline-slide-text\">\\n              <div class=\"timeline-slide-year\">1865\\n              </div>\\n              <div class=\"timeline-slide-title\"><a href=\"https://www.cornell.edu/about/timeline/index.cfm?#timeline-id-1\" alt=\"read more about Cornell charter signed into law\">Cornell charter signed into law</a></div>\\n              <div class=\"timeline-slide-desc\">\\n\\n               <p>NY State Senate passes the bill that that establishes Cornell University on April 27.</p> </div>\\n             </div>\\n           </div>\\n         \\n\\n\\n\\n            <div class=\"timeline-slide fade\" style=\"display: none;\">\\n\\n           \\n             <img alt=\"\" src=\"About%20Cornell%20University_files/RMC2004_0095-chimes16x9.jpg\">\\n           \\n             \\n             <div class=\"timeline-slide-overlay\">\\n             </div>\\n             <div class=\"timeline-slide-text\">\\n              <div class=\"timeline-slide-year\">1868\\n              </div>\\n              <div class=\"timeline-slide-title\"><a href=\"https://www.cornell.edu/about/timeline/index.cfm?#timeline-id-2\" alt=\"read more about Cornell chimes ring for the first time\">Cornell chimes ring for the first time</a></div>\\n              <div class=\"timeline-slide-desc\">\\n\\n               <p>The original set of nine bells first rings out at the university\\'s opening ceremonies.</p> </div>\\n             </div>\\n           </div>\\n         \\n\\n\\n\\n            <div class=\"timeline-slide fade\" style=\"display: none;\">\\n\\n           \\n             <img alt=\"A metallic, green dragon with scales surrounded by students and staff.\" src=\"About%20Cornell%20University_files/2016_0362_047-dragon-day-16x9.jpg\">\\n           \\n             \\n             <div class=\"timeline-slide-overlay\">\\n             </div>\\n             <div class=\"timeline-slide-text\">\\n              <div class=\"timeline-slide-year\">1901\\n              </div>\\n              <div class=\"timeline-slide-title\"><a href=\"https://www.cornell.edu/about/timeline/index.cfm?#timeline-id-5\" alt=\"read more about Architecture students stage first \\'Dragon Day\\'\">Architecture students stage first \\'Dragon Day\\'</a></div>\\n              <div class=\"timeline-slide-desc\">\\n\\n               <p>Inspired by an idea from Willard Dickerman Straight 1901, the first Dragon Day is held.</p> </div>\\n             </div>\\n           </div>\\n         \\n\\n\\n\\n            <div class=\"timeline-slide fade\" style=\"display: none;\">\\n\\n           \\n             <img alt=\"A man stands above a gathered crowd listening to him speak.\" src=\"About%20Cornell%20University_files/RMC2013_0028-lab-of-o-16x9.jpg\">\\n           \\n             \\n             <div class=\"timeline-slide-overlay\">\\n             </div>\\n             <div class=\"timeline-slide-text\">\\n              <div class=\"timeline-slide-year\">1915\\n              </div>\\n              <div class=\"timeline-slide-title\"><a href=\"https://www.cornell.edu/about/timeline/index.cfm?#timeline-id-7\" alt=\"read more about Cornell Lab of O takes wing\">Cornell Lab of O takes wing</a></div>\\n              <div class=\"timeline-slide-desc\">\\n\\n               <p>The Cornell Laboratory of Ornithology is established.</p> </div>\\n             </div>\\n           </div>\\n         \\n\\n\\n\\n            <div class=\"timeline-slide fade\" style=\"display: none;\">\\n\\n           \\n             <img alt=\"The etched golden record on a black background.\" src=\"About%20Cornell%20University_files/voyager_record20171201-16-golden-record16x9.jpg\">\\n           \\n             \\n             <div class=\"timeline-slide-overlay\">\\n             </div>\\n             <div class=\"timeline-slide-text\">\\n              <div class=\"timeline-slide-year\">1977\\n              </div>\\n              <div class=\"timeline-slide-title\"><a href=\"https://www.cornell.edu/about/timeline/index.cfm?#timeline-id-15\" alt=\"read more about Voyager spacecraft launches\">Voyager spacecraft launches</a></div>\\n              <div class=\"timeline-slide-desc\">\\n\\n               <p>Cornell astronomers and astrophysicists are \\nextensively involved in the missions of Voyager 1 and 2 to explore the \\nouter solar system.</p> </div>\\n             </div>\\n           </div>\\n         \\n\\n\\n\\n     \\n\\n       <div class=\"timeline-slide cta-slide fade\" style=\"display: none;\">\\n\\n        <img alt=\"grey background\" src=\"About%20Cornell%20University_files/blank-slide-bg.jpg\">\\n        <div class=\"timeline-slide-overlay\">\\n        </div>\\n        <div class=\"timeline-slide-text\">\\n          <img alt=\"Outline of McGraw Tower\" class=\"tower-outline\" src=\"About%20Cornell%20University_files/cornell-tower-outline.png\">\\n          <div class=\"timeline-slide-title\">Cornell History\\n          </div>\\n          <div class=\"timeline-slide-desc\">\\n\\n            <p>Get to know Cornell by exploring the events that have shaped the university from 1865 to today.</p>\\n          </div>\\n          <div class=\"timeline-slide-ctas\">\\n            <button href=\"\" alt=\"restart the slideshow\" onclick=\"timelineSlider(0)\">Restart Slideshow</button>&nbsp;&nbsp;\\n            <a href=\"https://www.cornell.edu/about/timeline/\" alt=\"explore the full timeline\">Explore More</a>\\n          </div>\\n        </div>\\n      </div>\\n\\n      <a class=\"timeline-prev-slide icon-arrow-left\" onclick=\"timelineSlider(-1)\"></a>\\n      <a class=\"timeline-next-slide icon-arrow-right\" onclick=\"timelineSlider(1)\"></a>\\n\\n\\n\\n    </div>\\n         \\n             <a class=\"link-caret\" href=\"https://www.cornell.edu/about/timeline/\" title=\"Cornell\\'s Historical Timeline\">\\n  Explore Cornell\\'s History\\n</a>\\n  </div>\\n</div>\\n</div>\\n</div>\\n<div class=\"section transition-in\" aria-label=\"Maps and Directions\">\\n  <div class=\"container\">\\n    <h3 class=\"cu-title\">Campus Maps &amp; Directions</h3>\\n    <div class=\"about-map-graphic\">\\n      <div class=\"about-map-tooltip\" itemscope=\"\" itemtype=\"http://schema.org/Place\">\\n        <span class=\"h5\" itemprop=\"name\">Cornell University</span>\\n        <span itemprop=\"address\" itemscope=\"\" itemtype=\"http://schema.org/PostalAddress\">\\n          <span itemprop=\"addressLocality\">\\n            Ithaca,\\n          </span>\\n          <span itemprop=\"addressRegion\">New York</span>\\n          <br>\\n          <span itemprop=\"postalCode\">14850</span>\\n        </span>\\n        <span itemprop=\"telephone\">(607) 254-4636</span>\\n      </div>\\n    </div>\\n    <ul class=\"link-list inline\">\\n      <li>\\n        <a href=\"https://www.cornell.edu/about/maps.cfm\" title=\"Maps and Directions\">\\n          View Campus Maps\\n        </a>\\n      </li>\\n      <li>\\n        <a href=\"https://www.cornell.edu/visit/\" title=\"Visit Cornell\">\\n          Visiting Cornell\\n        </a>\\n      </li>\\n      <li>\\n        <a href=\"https://www.cornell.edu/visit/#tours\" title=\"Ithaca campus tours\">\\n          Campus Tours\\n        </a>\\n      </li>\\n    </ul>\\n  </div>\\n</div>\\n\\n<!-- EXPLORE -->\\n<div class=\"about-exploring section light-gray transition-in\" aria-label=\"Continue Exploring\">\\n  <div class=\"container\">\\n    <div class=\"explore-header\">\\n      <h2 class=\"h5 cu-headline\">\\n        Continue Exploring …\\n      </h2>\\n      <a class=\"back-to-top\" href=\"#main\" title=\"Back to top\">\\n        <div class=\"arrow icon-arrow-up\"></div>\\n        Back to top\\n      </a>\\n    </div>\\n    <ol class=\"link-blocks\">\\n      <li>\\n        <a href=\"https://www.cornell.edu/academics/colleges.cfm\" title=\"Cornell\\'s colleges and schools\">\\n          Colleges &amp; Schools\\n        </a>\\n      </li>\\n      <li>\\n        <a href=\"https://www.cornell.edu/research/\" title=\"Research at Cornell\">\\n          Research\\n        </a>\\n      </li>\\n      <li>\\n        <a href=\"http://landgrant.cornell.edu/\" title=\"Land Grant at Cornell\">\\n          Land Grant\\n        </a>\\n      </li>\\n      <li>\\n        <a href=\"http://www.cornell.edu/leadership/\" title=\"Our fearless leaders\">\\n          Cornell Leadership\\n        </a>\\n      </li>\\n    </ol>\\n  </div>\\n</div>\\n\\n\\n\\n\\n\\n\\n<!-- Begin Footer -->\\n\\n<!-- Global Footer -->\\n<footer id=\"cu-ftr\" data-click-category=\"footer\" data-click-action=\"links\">\\n  <div class=\"cu-ftr-inner\" role=\"navigation\" aria-label=\"Footer Navigation\">\\n    <ul id=\"cu-ftr-nav\">\\n      <li class=\"ftr-item\">\\n        <span id=\"find_fast\" class=\"ftr-title\">\\n          Helpful Links\\n        </span>\\n        <a class=\"submenu-trigger\" href=\"#\" aria-label=\"toggle Helpful Links\"><span class=\"off-screen\">expand menu</span></a>\\n        <div class=\"submenu\">\\n         \\n          <ul class=\"ftr-links\" aria-labelledby=\"find_fast\">\\n            <li><a href=\"https://registrar.cornell.edu/calendar/\" data-click-label=\"Academic Calendar\">Academic Calendar</a></li>\\n            <li><a href=\"https://leadership.cornell.edu/\" data-click-label=\"Leadership\">Leadership</a></li>\\n            <li><a href=\"https://hr.cornell.edu/\" data-click-label=\"Careers\">Careers</a></li>\\n            <li><a href=\"https://events.cornell.edu/\" data-click-label=\"Events\">Events</a></li>\\n            <li><a href=\"https://news.cornell.edu/\" data-click-label=\"Cornell Chronicle\">News</a></li>\\n            <li><a href=\"https://titleix.cornell.edu/\" data-click-label=\"Title IX\">Title IX</a></li>\\n            <li><a href=\"https://emergency.cornell.edu/\" data-click-label=\"Emergency\">Emergency Preparedness</a></li>\\n          </ul>\\n         \\n        </div>\\n      </li>\\n      <li class=\"ftr-item\">\\n        <span id=\"visiting_cornell\" class=\"ftr-title\">\\n          Visiting Cornell\\n        </span>\\n        <a class=\"submenu-trigger\" href=\"#\" aria-label=\"toggle Visiting Cornell\"><span class=\"off-screen\">expand menu</span></a>\\n        <div class=\"submenu\">\\n          <ul class=\"ftr-links\" aria-labelledby=\"visiting_cornell\">\\n            \\n            <li><a href=\"https://www.cornell.edu/visit/\" data-click-label=\"Campus Tours\">Campus Tours</a></li>\\n            <li><a href=\"https://www.cornell.edu/about/maps/\" data-click-label=\"Maps\">Maps &amp; Directions</a></li>\\n            <li><a href=\"https://www.cornell.edu/about/locations/nyc/travel-resources.cfm\" data-click-label=\"Travel\">Ithaca-NYC Travel</a></li>\\n            <li><a href=\"https://museum.cornell.edu/\" data-click-label=\"Museum\">Johnson Museum</a></li>\\n            <li><a href=\"https://cornellbotanicgardens.org/\" data-click-label=\"Botanic Gardens\">Botanic Gardens</a></li>\\n            <li><a href=\"https://www.cornell.edu/about/locations/ithaca/\" data-click-label=\"Ithaca\">Ithaca</a></li>\\n          </ul>\\n        </div>\\n      </li>\\n      <li class=\"ftr-item ftr-item-today\">\\n        <span id=\"ithaca_today\" class=\"ftr-title\">Ithaca Today</span>\\n\\n        <a class=\"submenu-trigger\" href=\"#\" aria-label=\"toggle Ithaca Today\"><span class=\"off-screen\">expand menu</span></a>\\n        <div class=\"submenu\">\\n          <ul class=\"ftr-links\" aria-labelledby=\"ithaca_today\">\\n            <li class=\"ftr-liveview\">\\n              <a href=\"https://www.cornell.edu/live-view/\" data-click-label=\"Live View\">\\n                <span>Live View</span>\\n              </a>\\n            </li>\\n            <li class=\"ftr-weather-item\">\\n              <a href=\"https://www.cornell.edu/weather/\" data-click-label=\"Weather\">Weather <!-- This file is dynamically updated by our weather page. --><div class=\"ftr-weather\"><div class=\"ftr-weather-icon\"><div class=\"icon-partly-cloudy-day\"></div></div><div class=\"ftr-weather-temp\"><span id=\"currentTempIthacaF\">85</span>°F / <span id=\"currentTempIthacaC\">29</span>°C</div></div>\\n\\n\\n              </a>\\n\\n            </li>\\n          </ul>\\n        </div>\\n        \\n        \\n        <style>\\n.ftr-item-campaign {padding-top: 3em; }\\n.ftr-item-campaign a{color:#ccc;}\\nli.ftr-item.ftr-item-today ul.ftr-links li {padding: 1.5em 1em !important;}\\n@media (max-width: 60em) {\\n    .ftr-item-campaign {\\n        display: flex;\\n        justify-content: center;\\n    }\\n}\\n</style>\\n\\n<div class=\"ftr-item-campaign\">\\n    <a href=\"https://greatestgood.cornell.edu/\"><img alt=\"To do he greatest good: The Campaign for Cornell University\" src=\"About%20Cornell%20University_files/TDTGG.png\"></a>\\n</div>\\n        \\n      </li>\\n    </ul>\\n    <div class=\"ftr-info\">\\n        <a href=\"https://www.cornell.edu/about/locations/ithaca/\" class=\"ftr-location-link\" data-click-label=\"Ithaca, New York\">Ithaca, New York</a>\\n\\n      \\n      <ul class=\"ftr-utility\">\\n        <li><a href=\"https://universityrelations.cornell.edu/\" data-click-label=\"University Relations\">University Relations</a></li> \\n        <li><a href=\"https://privacy.cornell.edu/\" data-click-label=\"University Privacy\">University Privacy</a></li> \\n        <li><a href=\"https://www.cornell.edu/accessibility-assistance.cfm\" data-click-label=\"web accessibility help\">Web Accessibility Assistance</a></li>\\n        <li><a href=\"https://www.cornell.edu/copyright.cfm\" data-click-label=\"Copyright\">Copyright</a></li>\\n        <li><a href=\"https://www.cornell.edu/site-info.cfm\" data-click-label=\"Site Information\">Site Information</a></li>\\n        <li><a href=\"https://www.cornell.edu/contact\" data-click-label=\"Contact\">Contact</a></li>\\n      </ul>\\n      \\n      <ul class=\"ftr-social\" data-click-action=\"social icons\">\\n        <li>\\n          <a href=\"https://www.facebook.com/Cornell\" title=\"Find us on Facebook\" data-click-label=\"Facebook\">\\n            <div class=\"social-icon icon-facebook\"></div>\\n            <span class=\"social-label\">Facebook</span>\\n          </a>\\n        </li>\\n        <li>\\n          <a href=\"https://twitter.com/Cornell\" title=\"Follow us on Twitter\" data-click-label=\"Twitter\">\\n            <div class=\"social-icon icon-twitter\"></div>\\n            <span class=\"social-label\">Twitter</span>\\n          </a>\\n        </li>\\n        <li>\\n          <a href=\"http://instagram.com/cornelluniversity\" title=\"Find us on Instagram\" data-click-label=\"Instagram\">\\n            <div class=\"social-icon icon-instagram\"></div>\\n            <span class=\"social-label\">Instagram</span>\\n          </a>\\n        </li>\\n        <li>\\n          <a href=\"https://www.youtube.com/c/Cornell\" title=\"Watch us on YouTube\" data-click-label=\"YouTube\">\\n            <div class=\"social-icon icon-youtube\"></div>\\n            <span class=\"social-label\">YouTube</span>\\n          </a>\\n        </li>\\n      </ul>\\n    </div>\\n  </div>\\n</footer>\\n\\n<!-- End Footer -->\\n\\n\\n\\n\\n\\n\\n    <!-- Overlay for modals and to provide better focus -->\\n    <div id=\"cu-overlay\"></div>\\n\\n    \\n        \\n        <script>\\n         var _gaq = _gaq || [];\\n         \\n         \\n            _gaq.push([\\'_setAccount\\', \\'UA-1628162-1\\']);\\n          \\n         _gaq.push([\\'_setDomainName\\', \\'cornell.edu\\']);\\n         _gaq.push([\\'_setAllowLinker\\', true]);\\n         _gaq.push([\\'_trackPageview\\']);\\n         \\n         \\n        \\n         (function() {\\n           var ga = document.createElement(\\'script\\'); ga.type = \\'text/javascript\\'; ga.async = true;\\n           ga.src = (\\'https:\\' == document.location.protocol ? \\'https://ssl\\' : \\'http://www\\') + \\'.google-analytics.com/ga.js\\';\\n           var s = document.getElementsByTagName(\\'script\\')[0]; s.parentNode.insertBefore(ga, s);\\n         })();\\n        </script>\\n\\n        <!-- Google tag (gtag.js) GA4 code-->\\n        <script async=\"\" src=\"About%20Cornell%20University_files/js\"></script>\\n        <script>\\n          window.dataLayer = window.dataLayer || [];\\n          function gtag(){dataLayer.push(arguments);}\\n          gtag(\\'js\\', new Date());\\n\\n          gtag(\\'config\\', \\'G-PMZ19X3F8W\\');\\n        </script>\\n\\n        \\n        <script src=\"About%20Cornell%20University_files/jquery.min.js\"></script>\\n        <script>window.jQuery || document.write(\\'<script src=\"https://www.cornell.edu/assets/core/js/lib/jquery.js\"><\\\\/script>\\')</script>\\n    \\n    \\n    <script src=\"About%20Cornell%20University_files/jquery.timeago.js\"></script>\\n    <script src=\"About%20Cornell%20University_files/Imager.min.js\"></script>\\n    <script src=\"About%20Cornell%20University_files/cornelledu.js\"></script>\\n    <script src=\"About%20Cornell%20University_files/plugins.js\"></script>\\n    <script src=\"About%20Cornell%20University_files/equalize.min.js\"></script>\\n    <script src=\"About%20Cornell%20University_files/cornell.js\"></script>\\n    \\n        <script src=\"About%20Cornell%20University_files/date.js\"></script>\\n    \\n\\n\\n  <script>\\n    \\n  function above960breakpoint(){\\n    //if we hit this, we already paid the penalty.  No going back.\\n    //Some things aren\\'t shown on mobile. only include them if they\\'re shown.\\n    lazyLoadVideo(\"#gloriousToView\");\\n    lazyLoadVideo(\"video\");\\n\\n    //nav images don\\'t show until 960px\\n   if (typeof Imager !==\"undefined\"){\\n     // for increasing page load speed on mobile\\n     new Imager(\\'.lazyload-above-960\\',{availableWidths:{}});\\n     new Imager(\\'.responsive-img-large\\',{availableWidths:{\\n       400:\\'377x212\\',\\n       600:\\'1280x720\\'\\n     }});\\n     new Imager(\\'.honeycomb-tile\\',{availableWidths:{\\n        400:\\'377x212\\',\\n        600:\\'1280x720\\'\\n      }});\\n   }\\n  }\\n function lazyLoadVideo(selector){\\n\\n    $(selector).find(\"source\").each(function(i,el){\\n      var src = $(el).data(\\'src\\');\\n      // if the src is not undefined and has not already been set, set it and load the video\\n      if (\"undefined\" != typeof src && src != $(el).attr(\\'src\\') ){\\n        $(el).attr(\\'src\\',src);\\n        $(el).parent().load();\\n      }\\n    });\\n  }\\n  //taken from underscore.js\\n  function debounce(func, wait, immediate) {\\n    var timeout;\\n    return function() {\\n      var context = this, args = arguments;\\n      var later = function() {\\n        timeout = null;\\n        if (!immediate) func.apply(context, args);\\n      };\\n      var callNow = immediate && !timeout;\\n      clearTimeout(timeout);\\n      timeout = setTimeout(later, wait);\\n      if (callNow) func.apply(context, args);\\n    };\\n  };\\n    $(function(){\\n      function handleResize(){\\n        if ($(window).width()>960){\\n          above960breakpoint();\\n        } else {\\n          //on mobile, load the galapagos bg, otherwise the video is there.\\n          $(\\'#sesqui-video\\').css(\"background-image\", \"url(/assets/images/video/features/glorious-to-view.jpg); clear: both;\");\\n        }\\n      }\\n      resizeEventHandler = debounce(handleResize, 250);\\n      window.addEventListener(\\'resize\\',resizeEventHandler);\\n      handleResize();\\n      \\n    });\\n\\n</script>\\n    \\n\\n\\t  \\n<script type=\"text/javascript\">\\n/*<![CDATA[*/\\n(function() {\\nvar sz = document.createElement(\\'script\\'); sz.type = \\'text/javascript\\'; sz.async = true;\\nsz.src = \\'//siteimproveanalytics.com/js/siteanalyze_6120104.js\\';\\nvar s = document.getElementsByTagName(\\'script\\')[0]; s.parentNode.insertBefore(sz, s);\\n})();\\n/*]]>*/\\n</script>\\n        \\n\\n \\n\\n    \\n        \\n    <script src=\"About%20Cornell%20University_files/overview-slider_2023.js\"></script>\\n\\n\\n</div></body></html>'"
      ]
     },
     "execution_count": 7,
     "metadata": {},
     "output_type": "execute_result"
    }
   ],
   "source": [
    "# Make sure this worked\n",
    "html_source"
   ]
  },
  {
   "cell_type": "markdown",
   "metadata": {
    "id": "8e0HyLsI80rh"
   },
   "source": [
    "Here's where we turn the HTML text from a single long string into a searchable tree of tags. `BeautifulSoup` can support different ways of parsing (including XML). Here we'll use an HTML parser."
   ]
  },
  {
   "cell_type": "code",
   "execution_count": 8,
   "metadata": {
    "id": "dG_c_myU1h-7"
   },
   "outputs": [],
   "source": [
    "page = BeautifulSoup(html_source, \"html.parser\")"
   ]
  },
  {
   "cell_type": "markdown",
   "metadata": {
    "id": "t12d_OJf9Iq4"
   },
   "source": [
    "Now that we have a structured document we can ask for specific tags. See the Beautiful Soup documentation linked at the top for more details."
   ]
  },
  {
   "cell_type": "code",
   "execution_count": 9,
   "metadata": {
    "colab": {
     "base_uri": "https://localhost:8080/"
    },
    "id": "FD9w7WBE1j4X",
    "outputId": "5f5eee2a-8ef3-4f67-dbf9-95ac6dd360a6"
   },
   "outputs": [
    {
     "data": {
      "text/plain": [
       "<title>About | Cornell University</title>"
      ]
     },
     "execution_count": 9,
     "metadata": {},
     "output_type": "execute_result"
    }
   ],
   "source": [
    "page.title"
   ]
  },
  {
   "cell_type": "markdown",
   "metadata": {
    "id": "SRj_xxyv_fRp"
   },
   "source": [
    "If you want just the text between the HTML tags, you can use `.text`."
   ]
  },
  {
   "cell_type": "code",
   "execution_count": 10,
   "metadata": {
    "colab": {
     "base_uri": "https://localhost:8080/",
     "height": 35
    },
    "id": "pQdpwDP5_cAU",
    "outputId": "5f96554e-db26-43c5-da15-eb577ff3a14c"
   },
   "outputs": [
    {
     "data": {
      "text/plain": [
       "'About | Cornell University'"
      ]
     },
     "execution_count": 10,
     "metadata": {},
     "output_type": "execute_result"
    }
   ],
   "source": [
    "page.title.text"
   ]
  },
  {
   "cell_type": "markdown",
   "metadata": {
    "id": "TPYxP0Cw9A9g"
   },
   "source": [
    "We can also find all of the instances of a given tag. Since this \"About Cornell\" page seems like more of a landing page, pointing to other resources, we want to use the links on this page to get us to that other linked information. What happens if we ask for all the `a` tags, which [defines a hyperlink](https://www.w3schools.com/tags/tag_a.asp)?"
   ]
  },
  {
   "cell_type": "code",
   "execution_count": 11,
   "metadata": {
    "colab": {
     "base_uri": "https://localhost:8080/"
    },
    "id": "TxUmldHs1mA2",
    "outputId": "12e08e96-ae4b-42a8-94ac-3cbdca8d9d42"
   },
   "outputs": [
    {
     "name": "stdout",
     "output_type": "stream",
     "text": [
      "there are 180 links on the page\n"
     ]
    },
    {
     "data": {
      "text/plain": [
       "[<a href=\"https://www.cornell.edu/about/\">https://www.cornell.edu/about/</a>,\n",
       " <a href=\"https://www.cornell.edu/about/\">current page</a>,\n",
       " <a href=\"http://support.google.com/websearch/bin/answer.py?hl=en&amp;p=cached&amp;answer=1687222\"><span>Learn more</span>.</a>,\n",
       " <a href=\"http://webcache.googleusercontent.com/search?q=cache:FwQY78IHD64J:https://www.cornell.edu/about/&amp;sca_esv=562865996&amp;hl=en&amp;gl=us&amp;strip=1&amp;vwsrc=0\"><span>Text-only version</span></a>,\n",
       " <a href=\"http://webcache.googleusercontent.com/search?q=cache:FwQY78IHD64J:https://www.cornell.edu/about/&amp;sca_esv=562865996&amp;hl=en&amp;gl=us&amp;strip=0&amp;vwsrc=1\"><span>View source</span></a>,\n",
       " <a data-click-action=\"skip to content\" data-click-category=\"header\" href=\"#main\" tabindex=\"1\">Skip to content</a>,\n",
       " <a data-click-action=\"home\" data-click-category=\"header\" href=\"https://www.cornell.edu/\" id=\"cu-brand\" title=\"Cornell.edu Homepage\">\n",
       " <div class=\"cu-logotype\">Cornell University</div>\n",
       " </a>,\n",
       " <a class=\"menu-item\" data-click-label=\"About Cornell\" href=\"https://www.cornell.edu/about\">About Cornell</a>,\n",
       " <a aria-expanded=\"false\" aria-label=\"toggle the About Cornell sub-menu\" class=\"submenu-trigger\" data-click-label=\"About Cornell\" href=\"https://www.cornell.edu/about\"><span class=\"off-screen\">About Cornell</span></a>,\n",
       " <a data-click-label=\"Overview\" href=\"https://www.cornell.edu/about/\">\n",
       " <img alt=\"blue sky over the Arts Quad\" aria-hidden=\"true\" class=\"image-replace\" data-src=\"https://www.cornell.edu/assets/core/images/nav-overview-about.jpg\" src=\"About%20Cornell%20University_files/nav-overview-about.jpg\"/>\n",
       " <span>Overview</span>\n",
       " </a>,\n",
       " <a data-click-label=\"Cornell History\" href=\"https://www.cornell.edu/about/timeline/\">Cornell History</a>,\n",
       " <a data-click-label=\"Maps &amp; Directions\" href=\"https://www.cornell.edu/about/maps/\">Maps &amp; Directions</a>,\n",
       " <a data-click-label=\"Mission\" href=\"https://www.cornell.edu/about/mission.cfm\">Mission &amp; Vision</a>,\n",
       " <a data-click-label=\"Values\" href=\"https://www.cornell.edu/about/values.cfm\">Core Values</a>,\n",
       " <a data-click-label=\"Locations\" href=\"https://www.cornell.edu/about/locations/\">Locations</a>,\n",
       " <a data-click-label=\"Ithaca\" href=\"https://www.cornell.edu/about/locations/ithaca/\">Ithaca</a>,\n",
       " <a data-click-label=\"New York City\" href=\"https://www.cornell.edu/about/locations/nyc/\">New York City</a>,\n",
       " <a aria-label=\"Diversity at Cornell\" data-click-label=\"Diversity\" href=\"https://diversity.cornell.edu/\">Diversity</a>,\n",
       " <a aria-label=\"Indigenous Engagement: Commitment to North American Indigenous Nations and Communities\" data-click-label=\"Indigenous\" href=\"https://indigenous.cornell.edu/\">Indigenous Engagement</a>,\n",
       " <a data-click-label=\"Economic Impact\" href=\"https://economicimpact.cornell.edu/\">Economic Impact</a>]"
      ]
     },
     "execution_count": 11,
     "metadata": {},
     "output_type": "execute_result"
    }
   ],
   "source": [
    "links = page.find_all(\"a\")\n",
    "print(\"there are\", len(links), \"links on the page\")\n",
    "links[:20]"
   ]
  },
  {
   "cell_type": "markdown",
   "metadata": {
    "id": "KZBQzVbH9M9P"
   },
   "source": [
    "Whoa, that's too much! And most of these links seem to be navigation links in header menus.\n",
    "\n",
    "Let's be more specific. Viewing the source, we can search for an interesting string (like \"Facts about Cornell\") and look at the HTML around it.\n",
    "\n",
    "Inspecting the HTML we find that `a` tags can be associated with a number of class styles. The class style for \"Facts about Cornell\" is `link-caret`. Here's how to find all of the `a` tags with this style:"
   ]
  },
  {
   "cell_type": "code",
   "execution_count": 12,
   "metadata": {
    "colab": {
     "base_uri": "https://localhost:8080/"
    },
    "id": "0NcYr_2f1t4L",
    "outputId": "785e3bd0-f7a9-4b9f-8c43-587205216860"
   },
   "outputs": [
    {
     "name": "stdout",
     "output_type": "stream",
     "text": [
      "[<a class=\"link-caret\" href=\"https://www.cornell.edu/about/locations.cfm\" title=\"Cornell around the globe\">\n",
      "  See All Locations\n",
      "</a>, <a class=\"link-caret\" href=\"https://irp.dpb.cornell.edu/university-factbook\" title=\"Facts about Cornell\">\n",
      "  See All University Facts\n",
      "</a>, <a class=\"link-caret\" href=\"https://www.cornell.edu/about/timeline/\" title=\"Cornell's Historical Timeline\">\n",
      "  Explore Cornell's History\n",
      "</a>]\n"
     ]
    }
   ],
   "source": [
    "link_carets = page.find_all(\"a\", {\"class\":\"link-caret\"})\n",
    "print(link_carets)"
   ]
  },
  {
   "cell_type": "markdown",
   "metadata": {
    "id": "yWoAxkMF91Dk"
   },
   "source": [
    "Once we find a tag, we can also access attributes of the tag, like the URL target of a link (`href`) or the text contained within the tag (`.text`)."
   ]
  },
  {
   "cell_type": "code",
   "execution_count": 13,
   "metadata": {
    "colab": {
     "base_uri": "https://localhost:8080/"
    },
    "id": "yGqZLu4F1v0R",
    "outputId": "402e05f5-f2aa-43ad-bdb0-f3c7efd5b0a1"
   },
   "outputs": [
    {
     "name": "stdout",
     "output_type": "stream",
     "text": [
      "<class 'bs4.element.Tag'>\n",
      "\n",
      "  See All Locations\n",
      " https://www.cornell.edu/about/locations.cfm\n",
      "<class 'bs4.element.Tag'>\n",
      "\n",
      "  See All University Facts\n",
      " https://irp.dpb.cornell.edu/university-factbook\n",
      "<class 'bs4.element.Tag'>\n",
      "\n",
      "  Explore Cornell's History\n",
      " https://www.cornell.edu/about/timeline/\n"
     ]
    }
   ],
   "source": [
    "for link in link_carets:\n",
    "    print(type(link))\n",
    "    print(link.text, link[\"href\"])"
   ]
  },
  {
   "cell_type": "markdown",
   "metadata": {
    "id": "9diPMwaL9390"
   },
   "source": [
    "## Organizing structured data\n",
    "Now, we want to collect different stats and facts about Cornell, so the table on the right side with \"Quick Facts\" seems like a great place to start. **Our goal is to recreate the \"Quick Facts\" table as a pandas dataframe.**\n",
    "\n",
    "Remember, instead of reading the HTML from start to bottom, use ^F to search for the text \"Undergraduate Students\" (for example).\n",
    "\n",
    "While there are different ways of collecting this tag, you really want to keep the name of the fact and its value together. For this reason, let's collect the list element as a singular unit (with tag `li` and the `stat` class style)."
   ]
  },
  {
   "cell_type": "code",
   "execution_count": 14,
   "metadata": {
    "colab": {
     "base_uri": "https://localhost:8080/"
    },
    "id": "H6wlMDuE1z7D",
    "outputId": "c78299eb-6343-4d94-fea6-78f04bdd48d3"
   },
   "outputs": [
    {
     "name": "stdout",
     "output_type": "stream",
     "text": [
      "6\n"
     ]
    }
   ],
   "source": [
    "cornell_stats = page.find_all(\"li\", {\"class\": \"stat\"})\n",
    "print(len(cornell_stats))"
   ]
  },
  {
   "cell_type": "markdown",
   "metadata": {
    "id": "MxFI-81hDCNR"
   },
   "source": [
    "Now that we have a list of every `li` (list item) with the `stat` class, we can extract the values of the list. Let's start with the first item in this new list:"
   ]
  },
  {
   "cell_type": "code",
   "execution_count": 15,
   "metadata": {
    "colab": {
     "base_uri": "https://localhost:8080/"
    },
    "id": "JuUevyy8DbJO",
    "outputId": "71c8483d-43b5-4e25-9aa7-5aecaff81af4"
   },
   "outputs": [
    {
     "name": "stdout",
     "output_type": "stream",
     "text": [
      "\n",
      "        Undergraduate Students\n",
      "      \n",
      "\n",
      "         15,735\n",
      "       \n"
     ]
    }
   ],
   "source": [
    "print(cornell_stats[0].find(\"div\", {\"class\": \"stat-label\"}).text)\n",
    "print(cornell_stats[0].find(\"div\", {\"class\": \"stat-value\"}).text)"
   ]
  },
  {
   "cell_type": "markdown",
   "metadata": {
    "id": "SUI58jBkDfjG"
   },
   "source": [
    "What's with all that whitespace? You can strip the extra whitespace with `.strip()`."
   ]
  },
  {
   "cell_type": "code",
   "execution_count": 16,
   "metadata": {
    "colab": {
     "base_uri": "https://localhost:8080/"
    },
    "id": "VoyR2jGH2RF7",
    "outputId": "53cfe85d-b306-4126-ca8a-ed4c8543a919"
   },
   "outputs": [
    {
     "name": "stdout",
     "output_type": "stream",
     "text": [
      "Undergraduate Students\n",
      "15,735\n"
     ]
    }
   ],
   "source": [
    "print(cornell_stats[0].find(\"div\", {\"class\": \"stat-label\"}).text.strip())\n",
    "print(cornell_stats[0].find(\"div\", {\"class\": \"stat-value\"}).text.strip())"
   ]
  },
  {
   "cell_type": "markdown",
   "metadata": {
    "id": "NWlLu9ebDOOI"
   },
   "source": [
    "Much better! Now, we can use a loop to extract the label and value from each list item."
   ]
  },
  {
   "cell_type": "code",
   "execution_count": 17,
   "metadata": {
    "colab": {
     "base_uri": "https://localhost:8080/"
    },
    "id": "dYbgOxdW13CQ",
    "outputId": "109fc2f5-37ae-4e58-932f-1f71052562b5"
   },
   "outputs": [
    {
     "name": "stdout",
     "output_type": "stream",
     "text": [
      "Undergraduate Students\n",
      "15,735\n",
      "Graduate Students\n",
      "10,163\n",
      "Faculty\n",
      "2,864\n",
      "Nobel Laureates\n",
      "50\n",
      "Colleges and Schools\n",
      "17\n",
      "undergraduate grant aid (FY23)\n",
      "$407M\n"
     ]
    }
   ],
   "source": [
    "for html_stat in cornell_stats:\n",
    "  print(html_stat.find(\"div\", {\"class\": \"stat-label\"}).text.strip())\n",
    "  print(html_stat.find(\"div\", {\"class\": \"stat-value\"}).text.strip())"
   ]
  },
  {
   "cell_type": "markdown",
   "metadata": {
    "id": "BYfFnvBxDs6e"
   },
   "source": [
    "In reality, you probably don't just want to print these items. You want to store them! Let's use **list comprehension** to create two lists, `labels_l` and `value_l`."
   ]
  },
  {
   "cell_type": "code",
   "execution_count": 18,
   "metadata": {
    "id": "T0S-y8Oa2jRw"
   },
   "outputs": [],
   "source": [
    "label_l = [stat.find(\"div\", {\"class\": \"stat-label\"}).text.strip() for stat in cornell_stats]\n",
    "value_l = [stat.find(\"div\", {\"class\": \"stat-value\"}).text.strip() for stat in cornell_stats]"
   ]
  },
  {
   "cell_type": "markdown",
   "metadata": {
    "id": "20B42tLXD30j"
   },
   "source": [
    "Now, we can store this as a dataframe."
   ]
  },
  {
   "cell_type": "code",
   "execution_count": 19,
   "metadata": {
    "id": "Sui4GiCs2z-w"
   },
   "outputs": [],
   "source": [
    "data = {'Label':label_l, 'Stat':value_l}\n",
    "cornell_df = pd.DataFrame(data)"
   ]
  },
  {
   "cell_type": "code",
   "execution_count": 20,
   "metadata": {
    "colab": {
     "base_uri": "https://localhost:8080/",
     "height": 238
    },
    "id": "4Z1m6LCn29aH",
    "outputId": "86f84b6d-c0c7-4251-be12-3be1745c070e"
   },
   "outputs": [
    {
     "data": {
      "text/html": [
       "<div>\n",
       "<style scoped>\n",
       "    .dataframe tbody tr th:only-of-type {\n",
       "        vertical-align: middle;\n",
       "    }\n",
       "\n",
       "    .dataframe tbody tr th {\n",
       "        vertical-align: top;\n",
       "    }\n",
       "\n",
       "    .dataframe thead th {\n",
       "        text-align: right;\n",
       "    }\n",
       "</style>\n",
       "<table border=\"1\" class=\"dataframe\">\n",
       "  <thead>\n",
       "    <tr style=\"text-align: right;\">\n",
       "      <th></th>\n",
       "      <th>Label</th>\n",
       "      <th>Stat</th>\n",
       "    </tr>\n",
       "  </thead>\n",
       "  <tbody>\n",
       "    <tr>\n",
       "      <th>0</th>\n",
       "      <td>Undergraduate Students</td>\n",
       "      <td>15,735</td>\n",
       "    </tr>\n",
       "    <tr>\n",
       "      <th>1</th>\n",
       "      <td>Graduate Students</td>\n",
       "      <td>10,163</td>\n",
       "    </tr>\n",
       "    <tr>\n",
       "      <th>2</th>\n",
       "      <td>Faculty</td>\n",
       "      <td>2,864</td>\n",
       "    </tr>\n",
       "    <tr>\n",
       "      <th>3</th>\n",
       "      <td>Nobel Laureates</td>\n",
       "      <td>50</td>\n",
       "    </tr>\n",
       "    <tr>\n",
       "      <th>4</th>\n",
       "      <td>Colleges and Schools</td>\n",
       "      <td>17</td>\n",
       "    </tr>\n",
       "    <tr>\n",
       "      <th>5</th>\n",
       "      <td>undergraduate grant aid (FY23)</td>\n",
       "      <td>$407M</td>\n",
       "    </tr>\n",
       "  </tbody>\n",
       "</table>\n",
       "</div>"
      ],
      "text/plain": [
       "                            Label    Stat\n",
       "0          Undergraduate Students  15,735\n",
       "1               Graduate Students  10,163\n",
       "2                         Faculty   2,864\n",
       "3                 Nobel Laureates      50\n",
       "4            Colleges and Schools      17\n",
       "5  undergraduate grant aid (FY23)   $407M"
      ]
     },
     "execution_count": 20,
     "metadata": {},
     "output_type": "execute_result"
    }
   ],
   "source": [
    "cornell_df"
   ]
  },
  {
   "cell_type": "markdown",
   "metadata": {},
   "source": [
    "**Is there any other data cleaning you'd do to this dataframe if you wanted to use it for data science?**"
   ]
  },
  {
   "cell_type": "markdown",
   "metadata": {
    "id": "TvZdPQnG2yZp"
   },
   "source": [
    "## Collecting text\n",
    "Often, when you're scraping a website you aren't just collecting headers and tables. You're also collecting text! Now, you're going to collect the text below \"Our Profile.\" Use ^F to find the first sentence in the HTML.\n",
    "\n",
    "You should find that the text is in a `p` tag below a `div` tag. **What class would you use to extract this `div` tag?**"
   ]
  },
  {
   "cell_type": "code",
   "execution_count": 21,
   "metadata": {
    "colab": {
     "base_uri": "https://localhost:8080/"
    },
    "id": "VdPJcRtD15vH",
    "outputId": "92699824-00ed-438c-fb79-017de4c6c3e4"
   },
   "outputs": [
    {
     "name": "stdout",
     "output_type": "stream",
     "text": [
      "<div class=\"about-block about-profile\">\n",
      "<h3 class=\"cu-title\">\n",
      "    Our Profile\n",
      "  </h3>\n",
      "<p>Cornell is a privately endowed research university and a partner of\n",
      " the State University of New York. As the federal land-grant institution\n",
      " in New York State, we have a responsibility—unique within the Ivy \n",
      "League—to make contributions in all fields of knowledge in a manner that\n",
      " prioritizes public engagement to help improve the quality of life in \n",
      "our state, the nation, the world.</p>\n",
      "<!-- <ul class=\"link-list\">\n",
      "          <li>\n",
      "            <a href=\"/engagement/\" title=\"Public Engagement\">\n",
      "             Public Engagement\n",
      "            </a>\n",
      "          </li>\n",
      "          <li>\n",
      "            <a href=\"http://irp.dpb.cornell.edu/university-factbook\" title=\"All the facts\">\n",
      "              University Factbook\n",
      "            </a>\n",
      "          </li>\n",
      "        </ul>-->\n",
      "</div>\n"
     ]
    }
   ],
   "source": [
    "about_profile = page.find(\"div\", {\"class\": \"about-block about-profile\"}) # THIS CELL WILL NOT EXECUTE UNTIL YOU FILL IN THE CLASS\n",
    "print(about_profile)"
   ]
  },
  {
   "cell_type": "markdown",
   "metadata": {
    "id": "YsHlLrWVFcqF"
   },
   "source": [
    "Before moving on, **do you notice anything odd about the above HTML?**"
   ]
  },
  {
   "cell_type": "markdown",
   "metadata": {
    "id": "YKgFyKs-FOOi"
   },
   "source": [
    "Now, if we want to extract the natural text from the `about_profile` variable, we can use the `p` tag."
   ]
  },
  {
   "cell_type": "code",
   "execution_count": 22,
   "metadata": {
    "colab": {
     "base_uri": "https://localhost:8080/",
     "height": 70
    },
    "id": "Run7tprF17Vw",
    "outputId": "b48902dd-882f-4950-f2c2-ecf2777db3d3"
   },
   "outputs": [
    {
     "name": "stdout",
     "output_type": "stream",
     "text": [
      "Cornell is a privately endowed research university and a partner of\n",
      " the State University of New York. As the federal land-grant institution\n",
      " in New York State, we have a responsibility—unique within the Ivy \n",
      "League—to make contributions in all fields of knowledge in a manner that\n",
      " prioritizes public engagement to help improve the quality of life in \n",
      "our state, the nation, the world.\n"
     ]
    }
   ],
   "source": [
    "print(about_profile.find('p').text)"
   ]
  },
  {
   "cell_type": "markdown",
   "metadata": {
    "id": "xsY8lKVe3gEt"
   },
   "source": [
    "---\n",
    "# Problem 2: Recreating the timeline as a table\n",
    "\n",
    "Earlier, you found links to fact pages about Cornell (stored in `link_carets`). One of those links was to a Cornell Timeline (https://www.cornell.edu/about/timeline/). Take some time to inspect the HTML of the page, and then load the cached version with the link below, create a `BeautifulSoup` object, and find some information about Cornell.\n",
    "\n",
    "Notice the table of data **Cornell Through the Years** with information about Cornell's history. It looks like each event includes three types of information:\n",
    "\n",
    "1.   Event year\n",
    "2.   Event title\n",
    "3.   Event summary\n",
    "\n",
    "Use `BeautifulSoup` and `requests` to scrape this data and format it as a data frame with one column for the year, another for the title, and a third for the summary."
   ]
  },
  {
   "cell_type": "markdown",
   "metadata": {
    "id": "UVaEkWjLW_6M"
   },
   "source": [
    "1. Use the requests library to `get` the website's HTML. Check the status code."
   ]
  },
  {
   "cell_type": "code",
   "execution_count": 23,
   "metadata": {
    "id": "ZsGr_ZUI2WWG"
   },
   "outputs": [],
   "source": [
    "timeline_url = \"https://koenecke.infosci.cornell.edu/files/info2950/About%20Cornell%20University%20Timeline.html\""
   ]
  },
  {
   "cell_type": "code",
   "execution_count": 24,
   "metadata": {
    "id": "EZV2RMBt3m_H"
   },
   "outputs": [
    {
     "data": {
      "text/plain": [
       "<Response [200]>"
      ]
     },
     "execution_count": 24,
     "metadata": {},
     "output_type": "execute_result"
    }
   ],
   "source": [
    "# your code here\n",
    "timeline_result = requests.get(timeline_url)\n",
    "if timeline_result.status_code !=200:\n",
    "    print(\"something went wrong\", timeline_result.status_code, timeline_result.reason)\n",
    "timeline_result  "
   ]
  },
  {
   "cell_type": "markdown",
   "metadata": {
    "id": "w8LpCymIXNPA"
   },
   "source": [
    "2. Convert what you retrieved with the `requests` library to a text string.\n",
    "\n",
    "\n"
   ]
  },
  {
   "cell_type": "code",
   "execution_count": 25,
   "metadata": {
    "id": "OzFyt2vv4O0E"
   },
   "outputs": [
    {
     "data": {
      "text/plain": [
       "'<!DOCTYPE html>\\n<!--'"
      ]
     },
     "execution_count": 25,
     "metadata": {},
     "output_type": "execute_result"
    }
   ],
   "source": [
    "# your code here\n",
    "timeline_source = timeline_result.text\n",
    "timeline_source[:20]"
   ]
  },
  {
   "cell_type": "markdown",
   "metadata": {
    "id": "iTg5_CzZYma8"
   },
   "source": [
    "3. Parse the text as HTML with BeautifulSoup."
   ]
  },
  {
   "cell_type": "code",
   "execution_count": 26,
   "metadata": {
    "id": "Fuz27p9Q31IJ"
   },
   "outputs": [
    {
     "data": {
      "text/plain": [
       "<title>About | Cornell University</title>"
      ]
     },
     "execution_count": 26,
     "metadata": {},
     "output_type": "execute_result"
    }
   ],
   "source": [
    "# your code here\n",
    "page = BeautifulSoup(timeline_source, \"html.parser\")\n",
    "page.title"
   ]
  },
  {
   "cell_type": "markdown",
   "metadata": {
    "id": "ZwSAn-x7Yr-w"
   },
   "source": [
    "4. Identify the HTML tag and class above the year, title, and summary text. Find all occurences of this tag and save it to a list."
   ]
  },
  {
   "cell_type": "code",
   "execution_count": 27,
   "metadata": {
    "colab": {
     "base_uri": "https://localhost:8080/"
    },
    "id": "XhiSmL9h4LIS",
    "outputId": "4c12f113-dacd-4706-8302-323750bfc09d"
   },
   "outputs": [
    {
     "name": "stdout",
     "output_type": "stream",
     "text": [
      "108\n"
     ]
    }
   ],
   "source": [
    "# your code here\n",
    "timeline_events = page.find_all(\"div\", {\"class\":\"item-content\"})\n",
    "print(len(timeline_events))"
   ]
  },
  {
   "cell_type": "markdown",
   "metadata": {
    "id": "Fv7qPVzZY9RT"
   },
   "source": [
    "5. Access the year, title, and summary text at the 10th index position. Print these."
   ]
  },
  {
   "cell_type": "code",
   "execution_count": 28,
   "metadata": {
    "colab": {
     "base_uri": "https://localhost:8080/"
    },
    "id": "uTGUOlmS4sua",
    "outputId": "1ecf1049-3669-4dc7-9407-4a2f2f471775"
   },
   "outputs": [
    {
     "name": "stdout",
     "output_type": "stream",
     "text": [
      "1880\n",
      "\n",
      "Preston is first female doctoral graduate\n",
      "\n",
      "American educator and suffragist May Preston Slosson\n",
      " Ph.D. 1880 becomes the first woman in the country to earn a Ph.D. in \n",
      "philosophy. She is also Cornell's first female doctoral graduate.\n"
     ]
    }
   ],
   "source": [
    "# your code here\n",
    "timeline_events[9]\n",
    "print(timeline_events[9].find(\"div\", {\"class\": \"item-year\"}).text)\n",
    "print(timeline_events[9].find(\"div\", {\"class\": \"item-title\"}).text)\n",
    "print(timeline_events[9].find(\"p\").text)"
   ]
  },
  {
   "cell_type": "markdown",
   "metadata": {
    "id": "WuBB_nwAZTlQ"
   },
   "source": [
    "6. Collect all years, titles, and summaries in the list of timeline events. Add each of these to a list (`year_l`, `title_l`, and `summary_l`)."
   ]
  },
  {
   "cell_type": "code",
   "execution_count": 55,
   "metadata": {
    "id": "a0J29HLt5AIs"
   },
   "outputs": [
    {
     "ename": "NameError",
     "evalue": "name 'title_1' is not defined",
     "output_type": "error",
     "traceback": [
      "\u001b[0;31m---------------------------------------------------------------------------\u001b[0m",
      "\u001b[0;31mNameError\u001b[0m                                 Traceback (most recent call last)",
      "Cell \u001b[0;32mIn[55], line 5\u001b[0m\n\u001b[1;32m      3\u001b[0m \u001b[38;5;28;01mfor\u001b[39;00m event \u001b[38;5;129;01min\u001b[39;00m timeline_events:\n\u001b[1;32m      4\u001b[0m     year_l\u001b[38;5;241m.\u001b[39mappend(event\u001b[38;5;241m.\u001b[39mfind(\u001b[38;5;124m\"\u001b[39m\u001b[38;5;124mdiv\u001b[39m\u001b[38;5;124m\"\u001b[39m, {\u001b[38;5;124m\"\u001b[39m\u001b[38;5;124mclass\u001b[39m\u001b[38;5;124m\"\u001b[39m: \u001b[38;5;124m\"\u001b[39m\u001b[38;5;124mitem-year\u001b[39m\u001b[38;5;124m\"\u001b[39m})\u001b[38;5;241m.\u001b[39mtext\u001b[38;5;241m.\u001b[39mstrip())\n\u001b[0;32m----> 5\u001b[0m     title_1\u001b[38;5;241m.\u001b[39mappend(event\u001b[38;5;241m.\u001b[39mfind(\u001b[38;5;124m\"\u001b[39m\u001b[38;5;124mdiv\u001b[39m\u001b[38;5;124m\"\u001b[39m, {\u001b[38;5;124m\"\u001b[39m\u001b[38;5;124mclass\u001b[39m\u001b[38;5;124m\"\u001b[39m: \u001b[38;5;124m\"\u001b[39m\u001b[38;5;124mitem-title\u001b[39m\u001b[38;5;124m\"\u001b[39m})\u001b[38;5;241m.\u001b[39mtext\u001b[38;5;241m.\u001b[39mstrip())\n\u001b[1;32m      6\u001b[0m     summary_1\u001b[38;5;241m.\u001b[39mappend(event\u001b[38;5;241m.\u001b[39mfind(\u001b[38;5;124m\"\u001b[39m\u001b[38;5;124mp\u001b[39m\u001b[38;5;124m\"\u001b[39m)\u001b[38;5;241m.\u001b[39mtext\u001b[38;5;241m.\u001b[39mstrip())\n",
      "\u001b[0;31mNameError\u001b[0m: name 'title_1' is not defined"
     ]
    }
   ],
   "source": [
    "# your code here\n",
    "year_l, title_l, summary_1 = [],[],[]\n",
    "for event in timeline_events:\n",
    "    year_l.append(event.find(\"div\", {\"class\": \"item-year\"}).text.strip())\n",
    "    title_1.append(event.find(\"div\", {\"class\": \"item-title\"}).text.strip())\n",
    "    summary_1.append(event.find(\"p\").text.strip())"
   ]
  },
  {
   "cell_type": "markdown",
   "metadata": {
    "id": "QcYQwrDeZjtW"
   },
   "source": [
    "7. Convert these lists into data frame columns and display the data frame.\n",
    "\n",
    "*Note: you might notice a couple of cells in the first and last row have missing information. This is an issue with the cached version of the webpage. You do not need to fix this.*"
   ]
  },
  {
   "cell_type": "code",
   "execution_count": 56,
   "metadata": {
    "id": "BMauprEw5Po0"
   },
   "outputs": [
    {
     "ename": "NameError",
     "evalue": "name 'year_1' is not defined",
     "output_type": "error",
     "traceback": [
      "\u001b[0;31m---------------------------------------------------------------------------\u001b[0m",
      "\u001b[0;31mNameError\u001b[0m                                 Traceback (most recent call last)",
      "Cell \u001b[0;32mIn[56], line 2\u001b[0m\n\u001b[1;32m      1\u001b[0m \u001b[38;5;66;03m# your code here\u001b[39;00m\n\u001b[0;32m----> 2\u001b[0m data \u001b[38;5;241m=\u001b[39m {\u001b[38;5;124m\"\u001b[39m\u001b[38;5;124mYear\u001b[39m\u001b[38;5;124m\"\u001b[39m: year_1, \u001b[38;5;124m\"\u001b[39m\u001b[38;5;124mTitle\u001b[39m\u001b[38;5;124m\"\u001b[39m:title_1, \u001b[38;5;124m\"\u001b[39m\u001b[38;5;124mSummary\u001b[39m\u001b[38;5;124m\"\u001b[39m:summary_1}\n\u001b[1;32m      3\u001b[0m timeline_df \u001b[38;5;241m=\u001b[39m pd\u001b[38;5;241m.\u001b[39mDataFrame(data)\n\u001b[1;32m      4\u001b[0m timeline_df\n",
      "\u001b[0;31mNameError\u001b[0m: name 'year_1' is not defined"
     ]
    }
   ],
   "source": [
    "# your code here\n",
    "data = {\"Year\": year_1, \"Title\":title_1, \"Summary\":summary_1}\n",
    "timeline_df = pd.DataFrame(data)\n",
    "timeline_df"
   ]
  },
  {
   "cell_type": "markdown",
   "metadata": {
    "id": "JRwxJzFTJqSE"
   },
   "source": [
    "---"
   ]
  },
  {
   "cell_type": "markdown",
   "metadata": {
    "id": "0WTDJt8R6VEW"
   },
   "source": [
    "## Problem 3\n",
    "\n",
    "Select a page from the web that contains some table element. Extract the table's information and put it into a pandas data frame. Make sure to display the table when you are finished.\n",
    "\n",
    "As a suggestion, you may use the [Wikipedia page for Cornell University](https://en.wikipedia.org/wiki/Cornell_University). The table on the right side of the page is a good option for scraping and displaying.\n",
    "\n",
    "Remember to use the following steps, as you did above:\n",
    "1. Use the requests library to `get` the website's HTML. Check the status code.\n",
    "2. Convert what you retrieved with the `requests` library to a text string.\n",
    "3. Parse the text as HTML with BeautifulSoup.\n",
    "4. Manually search the HTML (with ^F) for the text strings you want to collect. Identify the tags and classes associated with that text.\n",
    "5. Use combinations of `find` and `find_all` to retrieve the text you are interested in.\n",
    "6. Convert the text to a data frame. Display this.\n",
    "\n"
   ]
  },
  {
   "cell_type": "code",
   "execution_count": 57,
   "metadata": {
    "id": "3Wu8wB-Kz6IG"
   },
   "outputs": [],
   "source": [
    "wiki_url = \"https://koenecke.infosci.cornell.edu/files/info2950/Cornell%20University%20-%20Wikipedia.html\" # optional cached version"
   ]
  },
  {
   "cell_type": "code",
   "execution_count": 58,
   "metadata": {
    "colab": {
     "base_uri": "https://localhost:8080/",
     "height": 833
    },
    "id": "txk4mCPYgwP0",
    "outputId": "cad62e74-7bc4-4037-804e-929c972cf120"
   },
   "outputs": [],
   "source": [
    "# your code here, add as many cells as you need\n",
    "wiki_result = requests.get(wiki_url)\n",
    "if wiki_result.status_code != 200 :\n",
    "    print('something went wrong:', wiki_result.status_code, wiki_result.reason)"
   ]
  },
  {
   "cell_type": "code",
   "execution_count": 59,
   "metadata": {},
   "outputs": [],
   "source": [
    "wiki_text = wiki_result.text"
   ]
  },
  {
   "cell_type": "code",
   "execution_count": 60,
   "metadata": {},
   "outputs": [],
   "source": [
    "page = BeautifulSoup(wiki_text, 'html.parser')"
   ]
  },
  {
   "cell_type": "code",
   "execution_count": 92,
   "metadata": {},
   "outputs": [],
   "source": [
    "infobox_l = page.find('table', {'class': 'infobox vcard'})"
   ]
  },
  {
   "cell_type": "code",
   "execution_count": 93,
   "metadata": {},
   "outputs": [],
   "source": [
    "table_rows = infobox_l.find_all('tr')"
   ]
  },
  {
   "cell_type": "code",
   "execution_count": 94,
   "metadata": {},
   "outputs": [],
   "source": [
    "labels = []\n",
    "values = []"
   ]
  },
  {
   "cell_type": "code",
   "execution_count": 95,
   "metadata": {},
   "outputs": [],
   "source": [
    "for table in table_rows:\n",
    "    label = table.find('th')\n",
    "    value = table.find('td')\n",
    "    \n",
    "    if label != None: \n",
    "        label = label.text\n",
    "    if value != None: \n",
    "        value = value.text\n",
    "        \n",
    "    labels.append(label)\n",
    "    values.append(value)"
   ]
  },
  {
   "cell_type": "code",
   "execution_count": 96,
   "metadata": {},
   "outputs": [
    {
     "data": {
      "text/plain": [
       "True"
      ]
     },
     "execution_count": 96,
     "metadata": {},
     "output_type": "execute_result"
    }
   ],
   "source": [
    "len(labels ) == len(values)"
   ]
  },
  {
   "cell_type": "code",
   "execution_count": 97,
   "metadata": {},
   "outputs": [],
   "source": [
    "data = {'Labels' : labels, 'Values' : values}"
   ]
  },
  {
   "cell_type": "code",
   "execution_count": 98,
   "metadata": {},
   "outputs": [
    {
     "data": {
      "text/html": [
       "<div>\n",
       "<style scoped>\n",
       "    .dataframe tbody tr th:only-of-type {\n",
       "        vertical-align: middle;\n",
       "    }\n",
       "\n",
       "    .dataframe tbody tr th {\n",
       "        vertical-align: top;\n",
       "    }\n",
       "\n",
       "    .dataframe thead th {\n",
       "        text-align: right;\n",
       "    }\n",
       "</style>\n",
       "<table border=\"1\" class=\"dataframe\">\n",
       "  <thead>\n",
       "    <tr style=\"text-align: right;\">\n",
       "      <th></th>\n",
       "      <th>Labels</th>\n",
       "      <th>Values</th>\n",
       "    </tr>\n",
       "  </thead>\n",
       "  <tbody>\n",
       "    <tr>\n",
       "      <th>0</th>\n",
       "      <td>None</td>\n",
       "      <td></td>\n",
       "    </tr>\n",
       "    <tr>\n",
       "      <th>1</th>\n",
       "      <td>None</td>\n",
       "      <td>Latin: Universitas Cornelliana</td>\n",
       "    </tr>\n",
       "    <tr>\n",
       "      <th>2</th>\n",
       "      <td>Type</td>\n",
       "      <td>Private[1] land-grant research university</td>\n",
       "    </tr>\n",
       "    <tr>\n",
       "      <th>3</th>\n",
       "      <td>Established</td>\n",
       "      <td>April 27, 1865; 158 years ago (1865-04-27)</td>\n",
       "    </tr>\n",
       "    <tr>\n",
       "      <th>4</th>\n",
       "      <td>Founder</td>\n",
       "      <td>\\nEzra Cornell\\nAndrew Dickson White\\n</td>\n",
       "    </tr>\n",
       "    <tr>\n",
       "      <th>5</th>\n",
       "      <td>Accreditation</td>\n",
       "      <td>MSCHE</td>\n",
       "    </tr>\n",
       "    <tr>\n",
       "      <th>6</th>\n",
       "      <td>Academic affiliations</td>\n",
       "      <td>AAUCOFHENAICUSUNYURASea-grantSpace-grant</td>\n",
       "    </tr>\n",
       "    <tr>\n",
       "      <th>7</th>\n",
       "      <td>Endowment</td>\n",
       "      <td>$9.8 billion (2022)[2]</td>\n",
       "    </tr>\n",
       "    <tr>\n",
       "      <th>8</th>\n",
       "      <td>Budget</td>\n",
       "      <td>$5 billion (2022)[3]</td>\n",
       "    </tr>\n",
       "    <tr>\n",
       "      <th>9</th>\n",
       "      <td>President</td>\n",
       "      <td>Martha E. Pollack</td>\n",
       "    </tr>\n",
       "    <tr>\n",
       "      <th>10</th>\n",
       "      <td>Provost</td>\n",
       "      <td>Michael Kotlikoff</td>\n",
       "    </tr>\n",
       "    <tr>\n",
       "      <th>11</th>\n",
       "      <td>Academic staff</td>\n",
       "      <td>1,639 – Ithaca, New York1,235 – NYC, New York3...</td>\n",
       "    </tr>\n",
       "    <tr>\n",
       "      <th>12</th>\n",
       "      <td>Students</td>\n",
       "      <td>25,593 (Fall 2021)[4]</td>\n",
       "    </tr>\n",
       "    <tr>\n",
       "      <th>13</th>\n",
       "      <td>Undergraduates</td>\n",
       "      <td>15,507 (Fall 2021)[4]</td>\n",
       "    </tr>\n",
       "    <tr>\n",
       "      <th>14</th>\n",
       "      <td>Postgraduates</td>\n",
       "      <td>10,086 (Fall 2021)[4]</td>\n",
       "    </tr>\n",
       "    <tr>\n",
       "      <th>15</th>\n",
       "      <td>Location</td>\n",
       "      <td>Ithaca, New York, United States42°27′13″N 76°2...</td>\n",
       "    </tr>\n",
       "    <tr>\n",
       "      <th>16</th>\n",
       "      <td>Campus</td>\n",
       "      <td>Small city[5], 745 acres (301 ha)</td>\n",
       "    </tr>\n",
       "    <tr>\n",
       "      <th>17</th>\n",
       "      <td>Other campuses[6]</td>\n",
       "      <td>New YorkDoha</td>\n",
       "    </tr>\n",
       "    <tr>\n",
       "      <th>18</th>\n",
       "      <td>Newspaper</td>\n",
       "      <td>The Cornell Daily SunCornell Chronicle</td>\n",
       "    </tr>\n",
       "    <tr>\n",
       "      <th>19</th>\n",
       "      <td>Colors</td>\n",
       "      <td>Carnelian red and white[7]</td>\n",
       "    </tr>\n",
       "    <tr>\n",
       "      <th>20</th>\n",
       "      <td>Nickname</td>\n",
       "      <td>Big Red</td>\n",
       "    </tr>\n",
       "    <tr>\n",
       "      <th>21</th>\n",
       "      <td>Sporting affiliations</td>\n",
       "      <td>NCAA Division I FCS – Ivy LeagueIRAEARCEAWRC</td>\n",
       "    </tr>\n",
       "    <tr>\n",
       "      <th>22</th>\n",
       "      <td>Mascot</td>\n",
       "      <td>Touchdown the Bear (unofficial)[8]</td>\n",
       "    </tr>\n",
       "    <tr>\n",
       "      <th>23</th>\n",
       "      <td>Website</td>\n",
       "      <td>www.cornell.edu</td>\n",
       "    </tr>\n",
       "    <tr>\n",
       "      <th>24</th>\n",
       "      <td>None</td>\n",
       "      <td></td>\n",
       "    </tr>\n",
       "  </tbody>\n",
       "</table>\n",
       "</div>"
      ],
      "text/plain": [
       "                   Labels                                             Values\n",
       "0                    None                                                   \n",
       "1                    None                     Latin: Universitas Cornelliana\n",
       "2                    Type          Private[1] land-grant research university\n",
       "3             Established         April 27, 1865; 158 years ago (1865-04-27)\n",
       "4                 Founder             \\nEzra Cornell\\nAndrew Dickson White\\n\n",
       "5           Accreditation                                              MSCHE\n",
       "6   Academic affiliations           AAUCOFHENAICUSUNYURASea-grantSpace-grant\n",
       "7               Endowment                             $9.8 billion (2022)[2]\n",
       "8                  Budget                               $5 billion (2022)[3]\n",
       "9               President                                  Martha E. Pollack\n",
       "10                Provost                                  Michael Kotlikoff\n",
       "11         Academic staff  1,639 – Ithaca, New York1,235 – NYC, New York3...\n",
       "12               Students                              25,593 (Fall 2021)[4]\n",
       "13         Undergraduates                              15,507 (Fall 2021)[4]\n",
       "14          Postgraduates                              10,086 (Fall 2021)[4]\n",
       "15               Location  Ithaca, New York, United States42°27′13″N 76°2...\n",
       "16                 Campus                  Small city[5], 745 acres (301 ha)\n",
       "17      Other campuses[6]                                       New YorkDoha\n",
       "18              Newspaper             The Cornell Daily SunCornell Chronicle\n",
       "19                 Colors                      Carnelian red and white[7]   \n",
       "20               Nickname                                            Big Red\n",
       "21  Sporting affiliations       NCAA Division I FCS – Ivy LeagueIRAEARCEAWRC\n",
       "22                 Mascot                 Touchdown the Bear (unofficial)[8]\n",
       "23                Website                                    www.cornell.edu\n",
       "24                   None                                                   "
      ]
     },
     "execution_count": 98,
     "metadata": {},
     "output_type": "execute_result"
    }
   ],
   "source": [
    "wiki_df = pd.DataFrame(data)\n",
    "wiki_df"
   ]
  },
  {
   "cell_type": "markdown",
   "metadata": {
    "id": "1empeX0fj7XQ"
   },
   "source": [
    "## Submission\n",
    "**Make sure to complete and save this notebook before next Friday's section.** We will practice pushing and pulling code from GitHub and we will ask you to push a completed version of this notebook to that repository."
   ]
  }
 ],
 "metadata": {
  "colab": {
   "provenance": []
  },
  "kernelspec": {
   "display_name": "Python 3.9.12 64-bit ('anaconda3')",
   "language": "python",
   "name": "python3"
  },
  "language_info": {
   "codemirror_mode": {
    "name": "ipython",
    "version": 3
   },
   "file_extension": ".py",
   "mimetype": "text/x-python",
   "name": "python",
   "nbconvert_exporter": "python",
   "pygments_lexer": "ipython3",
   "version": "3.9.12"
  },
  "vscode": {
   "interpreter": {
    "hash": "cd78fef2128015050713e82ca51c6520b11aee7c9ee8df750520bbbc7384cbaa"
   }
  }
 },
 "nbformat": 4,
 "nbformat_minor": 1
}
