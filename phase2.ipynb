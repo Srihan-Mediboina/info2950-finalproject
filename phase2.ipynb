{
 "cells": [
  {
   "cell_type": "markdown",
   "metadata": {},
   "source": [
    "INFO 2950 - Phase 2\n",
    "\n",
    "Research Question: Can we predict the CO2 emissions of a city based on public transit statistics in relation to population and seeing what proportion of the city uses public transportation?\n",
    "\n",
    "We will be examining metro and/or bus ridership in the cities of New York, Chicago, and Philadelphia and then seeing how these satisitcs relate to the population and CO2 emissions of each city. The specific ridership statistics for each city vary because the data available for each city was not exactly the same. However, by cleaning and cutting the data to fit our needs and then using plots and other statistics, we should be able to discover some interesting trends. \n"
   ]
  },
  {
   "cell_type": "markdown",
   "metadata": {},
   "source": [
    "Data Description:\n",
    "\n",
    "We collected three tables on public transit ridership for each of the the cities. In addition, we just created a simple population over the years table for each city by looking at Census Bureau data and copying the numbers over. \n",
    "\n",
    "NYC: https://data.ny.gov/Transportation/MTA-Monthly-Ridership-Traffic-Data-Beginning-Janua/xfre-bxip\n",
    "This dataset contains ridership for different modes of transit (Bus, Subway, AAR, LIRR, MNR, and B&T) for each month from 2008 to 2023, \n",
    "\n",
    "Chicago: https://data.cityofchicago.org/Transportation/CTA-Ridership-Annual-Boarding-Totals/w8km-9pzd/explore/query/SELECT%20%60year%60%2C%20%60bus%60%2C%20%60paratransit%60%2C%20%60rail%60%2C%20%60total%60/page/filter\n",
    "This dataset contains ridership for different modes of transit (bus, paratransit, and rail) for each year from 1988 to 2018. \n",
    "\n",
    "Philadelphia: https://data-septa.opendata.arcgis.com/datasets/SEPTA::average-daily-ridership-by-mode/explore\n",
    "This dataset contains ridership for different modes of tranist (Bus, CCT, Heavy Rail, Regional Rail, Trackless Trolley, Trolley) for each month for the years 2019-2023.\n",
    "\n",
    "And again, each of the population tables were simply handmade by looking at and copying US Census Bureau Data. "
   ]
  }
 ],
 "metadata": {
  "kernelspec": {
   "display_name": "Python 3.9.12 64-bit ('anaconda3')",
   "language": "python",
   "name": "python3"
  },
  "language_info": {
   "name": "python",
   "version": "3.9.12"
  },
  "vscode": {
   "interpreter": {
    "hash": "cd78fef2128015050713e82ca51c6520b11aee7c9ee8df750520bbbc7384cbaa"
   }
  }
 },
 "nbformat": 4,
 "nbformat_minor": 2
}
