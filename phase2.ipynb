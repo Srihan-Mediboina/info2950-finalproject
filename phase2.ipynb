{
 "cells": [
  {
   "cell_type": "markdown",
   "metadata": {},
   "source": [
    "INFO 2950 - Phase 2\n",
    "\n",
    "Research Question: Can we predict the GDP per capita of the United States based on Consumer Price Index (CPI) inflation rates, wages and income inequality?\n",
    "\n",
    "In this assignment we're trying to discover if there is a correlation between GDP per capita, inflation, wages, and income distribution. We'll be looking at the relationship between all of these variables and attempting to capture what trends have been going on in the U.S during the years of 1973-2022.\n"
   ]
  },
  {
   "cell_type": "markdown",
   "metadata": {},
   "source": [
    "Data Description:\n",
    "\n",
    "Sources:\n",
    "Inflation: https://www.kaggle.com/datasets/neelgajare/usa-cpi-inflation-from-19132022\n",
    "Wages: https://www.kaggle.com/datasets/asaniczka/poverty-level-wages-in-the-usa-dataset-1973-2022\n",
    "GDP: Handmade table using World Bank data"
   ]
  },
  {
   "cell_type": "code",
   "execution_count": 2,
   "metadata": {
    "tags": []
   },
   "outputs": [],
   "source": [
    "import numpy as np \n",
    "import seaborn as sns\n",
    "import pandas as pd \n",
    "import matplotlib.pyplot as plt \n",
    "import duckdb"
   ]
  },
  {
   "cell_type": "code",
   "execution_count": null,
   "metadata": {},
   "outputs": [],
   "source": []
  }
 ],
 "metadata": {
  "kernelspec": {
   "display_name": "Python 3 (ipykernel)",
   "language": "python",
   "name": "python3"
  },
  "language_info": {
   "codemirror_mode": {
    "name": "ipython",
    "version": 3
   },
   "file_extension": ".py",
   "mimetype": "text/x-python",
   "name": "python",
   "nbconvert_exporter": "python",
   "pygments_lexer": "ipython3",
   "version": "3.9.12"
  },
  "vscode": {
   "interpreter": {
    "hash": "cd78fef2128015050713e82ca51c6520b11aee7c9ee8df750520bbbc7384cbaa"
   }
  }
 },
 "nbformat": 4,
 "nbformat_minor": 4
}
