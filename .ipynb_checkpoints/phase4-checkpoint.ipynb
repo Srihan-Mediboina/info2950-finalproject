{
 "cells": [
  {
   "cell_type": "markdown",
   "id": "ae20cd07-81e6-4b75-8675-14deb5b46209",
   "metadata": {},
   "source": [
    "## **Introduction** ##"
   ]
  },
  {
   "cell_type": "markdown",
   "id": "c5be4a05-9742-4613-a88a-c832f6f90cff",
   "metadata": {},
   "source": [
    "In this assignment we're trying to discover if there is a correlation between GDP per capita, inflation, wages, and income distribution across gender and race. We'll be looking at the relationship between all of these variables and attempting to capture what trends have been going on in the U.S during the years of 1973-2022.\n",
    "\n",
    "Our overarching research question is this: Can we predict the GDP per capita of the United States based on Consumer Price Index (CPI) inflation rates, wages and income inequality between men and women as well as various ethnic groups?\n",
    "\n",
    "A few key terms:\n",
    "- Consumer Price Index (CPI): a statistical measure that evaluates changes in the average prices of a basket of goods and services purchased by households in a given region or country over a specific period of time. It serves as an indicator of inflation or deflation within an economy.\n",
    "\n",
    "- Poverty Wage: represents an income level that is insufficient to meet basic living expenses, such as food, shelter, clothing, healthcare, and other essential needs\n",
    "\n",
    "- GDP per capita: a measure used to assess and compare the economic performance of a country or region by dividing its total Gross Domestic Product by the population. It provides an average representation of the economic output or income per person within that area\n",
    "\n",
    "We are interested in understanding the relationships between these metrics and will be performing tests accordingly."
   ]
  },
  {
   "cell_type": "markdown",
   "id": "a6acffb1-4587-407b-bdf5-475830f28ddc",
   "metadata": {},
   "source": [
    "## **Data Description** ##\n",
    "\n",
    "<u>Sources</u>:\n",
    "\n",
    "Inflation: https://www.kaggle.com/datasets/neelgajare/usa-cpi-inflation-from-19132022\n",
    "Columns:\n",
    "* Index: Standard indexing, starts at 0 marks the index of each row\n",
    "* Year: One full year per row, starts at 1913 and goes until 2022\n",
    "* Jan: CPI index in the month of January\n",
    "* Feb: CPI index in the month of February\n",
    "* Mar: CPI index in the month of March\n",
    "* Apr: CPI index in the month of April\n",
    "* May: CPI index in the month of May\n",
    "* Jun: CPI index in the month of June\n",
    "* Jul: CPI index in the month of July\n",
    "* Aug: CPI index in the month of August\n",
    "* Sep: CPI index in the month of September\n",
    "* Oct: CPI index in the month of October\n",
    "* Nov: CPI index in the month of November\n",
    "* Dec: CPI index in the month of December\n",
    "\n",
    "Why was this dataset created?:\n",
    "To track inflation changes over the years by using Consumer Price Index, a measure of the average change in prices paid by consumers for a market basket of goods and services. \n",
    "\n",
    "Who funded the creation of this dataset?:\n",
    "It appears to have been created independently by a Kaggle user by the name of \"Neel Gajare.\" \n",
    "\n",
    "What processes might have influenced what data was observed and recorded and what was not?:\n",
    "The user attributed their source to be the U.S Bureau of Labor Statistics which we can hopefully assume is quite comprehensive and thorough. Therefore, it seems this dataset is should be representative and whole unless they somehow collected it wrong. \n",
    "\n",
    "If people are involved, were they aware of the data collection and if so, what purpose did they expect the data to be used for?:\n",
    "This data has nothing to do with any specific individuals. It is CPI data that the Kaggle owner, Gajare, attributes to the U.S Bureau of Labor Statistics whose function it is to make this data available, so they likely expected and hoped for their data to be used in projects like this. \n",
    "\n",
    "\n",
    "Wages: https://www.kaggle.com/datasets/asaniczka/poverty-level-wages-in-the-usa-dataset-1973-2022\n",
    "Columns:\n",
    "- Year: one full year per row, starts at 1973 and ends at 2022\n",
    "- annual_poverty-level_wage: Annual poverty level wage in nominal dollars\n",
    "- hourly_poverty-level_wage: Hourly poverty level wage for full-time year-round workers\n",
    "- 0-75%_of_poverty_wages: Share of workers earning 75-100% of the poverty-level wage\n",
    "- 75-100%_of_poverty_wages: Share of workers earning 75-100% of the poverty-level wage\n",
    "- share_below_poverty_wages: Share of workers earning less than or equal to the poverty-level wage \n",
    "- 100-125%_of_poverty_wages: Share of workers earning 100-125% of the poverty-level wage\n",
    "- 200-300%_of_poverty_wages: Share of workers earning 200-300% of the poverty-level wage\n",
    "- 300%+_of_poverty_wages: Share of workers earning above 300% of the poverty-level wage\n",
    "- men_0-75%_of_poverty_wages: Share of men earning 0-75% of the poverty-level wage\n",
    "- men_75-100%_of_poverty_wages: Share of men earning 75-100% of the poverty-level wage\n",
    "- men_share_below_poverty_wages: Share of men earning below the poverty-level wage\n",
    "- men_100-125%_of_poverty_wages: Share of men earning 100-125% of the poverty-level wage\n",
    "- men_125-200%_of_poverty_wages: Share of men earning 125-200% of the poverty-level wage\n",
    "- men_200-300%_of_poverty_wages: Share of men earning 200-300% of the poverty-level wage\n",
    "- men_300%+_of_poverty_wages: Share of men earning above 300% of the poverty-level wage\n",
    "- women_0-75%_of_poverty_wages: Share of women earning 0-75% of the poverty-level wage\n",
    "- women_75-100%_of_poverty_wages: Share of women earning 75-100% of the poverty-level wage\n",
    "- women_share_below_poverty_wages: Share of women earning below the poverty-level wage\n",
    "- women_100-125%_of_poverty_wages: Share of women earning 100-125% of the poverty-level wage\n",
    "- women_125-200%_of_poverty_wages: Share of women earning 125-200% of the poverty-level wage\n",
    "- women_200-300%_of_poverty_wages: Share of women earning 200-300% of the poverty-level wage\n",
    "- women_300%+_of_poverty_wages: Share of women earning above 300% of the poverty-level wage\n",
    "- white_share_below_poverty_wages: Share of white workers earning below the poverty-level wage\n",
    "- white_men_share_below_poverty_wages: Share of white men earning below the poverty-level wage\n",
    "- white_women_share_below_poverty_wages: Share of white women earning below the poverty-level wage\n",
    "- black_share_below_poverty_wages: Share of black workers earning below the poverty-level wage\n",
    "- black_men_share_below_poverty_wages: Share of black men earning below the poverty-level wage\n",
    "- black_women_share_below_poverty_wages: Share of black women earning below the poverty-level wage\n",
    "- hispanic_share_below_poverty_wages: Share of Hispanic workers earning below the poverty-level wage\n",
    "- hispanic_men_share_below_poverty_wages: Share of Hispanic men earning below the poverty-level wage\n",
    "- hispanic_women_share_below_poverty_wages: Share of Hispanic women earning below the poverty-level wage\n",
    "\n",
    "Why was this dataset created?:\n",
    "To understand wages, how they've changed over the years and how they are distributed vertically (how many people are making very little) and how they are distributed horizontally (how are wages different between various groups of people).\n",
    "\n",
    "Who funded the creation of this dataset?:\n",
    "This dataset appears to have been created by independent Kaggle user: asaniczka, who claims to be Kaggle expert and data engineer in Sri Lanka. This user has also created many other datastets like \"USA Wage Comparison for College vs. High School,\" \"150K TMDb TV Shows,\" etc.\n",
    "\n",
    "What processes might have influenced what data was observed and recorded and what was not?\n",
    "The Kaggle owner attributes the data to the Economic Policy Institute’s State of Working America Data Library. Unfortunately, we did not have time to investigate the reputability of this organization. At a brief first glance, however, they do not seem to be illegitimate. In this project, we will operate on the assumption that the data is valid. \n",
    "\n",
    "\n",
    "GDP: Handmade table using World Bank data\n",
    "We made this dataset ourself so not much explanation is required. A quick Google query of \"US gdp per capita\" returns an interactive graph which lets you see the numbers over the years. We simply looked at this data and entered each data point by hand into a spreadsheet. The graph data was attributed to the World Bank which is very well-known and reputable so we believe the data is valid. "
   ]
  },
  {
   "cell_type": "markdown",
   "id": "5c7df3f9-c4bd-4c26-99b5-daadb4bdadf9",
   "metadata": {},
   "source": [
    "**NOTE ON CLEANING AND PREPROCESSING**:\n",
    "\n",
    "All cleaning and preprocessing can be found in appendix.ipynb. We go through how we cleaned the datasets and manipulated the data to create analysis.csv"
   ]
  },
  {
   "cell_type": "markdown",
   "id": "ebf1f2cf-acf6-4f10-b894-d920fa8ab203",
   "metadata": {},
   "source": [
    "### **Preregistration Statement #1** ###\n",
    "\n",
    "As proportion of people who make less than or equal to the poverty wage decreases,  will GDP per capita increase?\n",
    "\n",
    "Run a linear regression where we input the share below poverty wages for that year, and the GDP per capita (output). We will be testing to see if βpoverty_wage_proportion  < 0, because we hope to see that the fewer people there are that are making poverty wages, the higher GDP per capita is. "
   ]
  },
  {
   "cell_type": "markdown",
   "id": "8366de1c-a6ea-4ff4-be7e-ddaba922c6c8",
   "metadata": {},
   "source": [
    "### **Preregistration Statement** #2 ###\n",
    "\n",
    "As the difference between the proportion of women below the poverty wage and men below the poverty wage decreases, will GDP per capita increase?\n",
    "\n",
    "Run a linear regression where we input the difference between the share of women below the poverty wage and men below the poverty wage and output GDP per capita. We will be testing to see if βdifference <  0 because we hope to see that as the difference decreases, GDP per capita will get higher. "
   ]
  },
  {
   "cell_type": "markdown",
   "id": "3618977d-0f9c-402f-a3c6-cd40133a484d",
   "metadata": {},
   "source": [
    "## **Data Analysis** ##\n",
    "\n",
    "In our data analysis we'll take a look at a few plots that give you the idea of the data. The actual analysis will come in the section after this \"Models and Evaluation of Significance.\" For this section, we just want to understand the shape of the data and the broad scope of what we're looking at. \n",
    "\n",
    "We'll also split the data into a train set and test set at the end of this section. \n",
    "\n",
    "Again, for the models and tests regarding the preregistration statements, that will be in the next section."
   ]
  },
  {
   "cell_type": "code",
   "execution_count": 6,
   "id": "82fe0232-aa63-4dd7-b865-6551c648d2e4",
   "metadata": {
    "tags": []
   },
   "outputs": [],
   "source": [
    "# Making the necessary imports\n",
    "\n",
    "import pandas as pd\n",
    "import numpy as np\n",
    "import seaborn as sns\n",
    "import matplotlib.pyplot as plt\n",
    "from sklearn.model_selection import train_test_split"
   ]
  },
  {
   "cell_type": "code",
   "execution_count": 8,
   "id": "e9ab343f-4c7c-4b40-8a98-1af04afe44c4",
   "metadata": {
    "tags": []
   },
   "outputs": [
    {
     "ename": "FileNotFoundError",
     "evalue": "[Errno 2] No such file or directory: 'analysis.csv'",
     "output_type": "error",
     "traceback": [
      "\u001b[0;31m---------------------------------------------------------------------------\u001b[0m",
      "\u001b[0;31mFileNotFoundError\u001b[0m                         Traceback (most recent call last)",
      "\u001b[1;32m/Users/ishapatil/Documents/GitHub/info2950-finalproject/.ipynb_checkpoints/phase4-checkpoint.ipynb Cell 9\u001b[0m in \u001b[0;36m<cell line: 3>\u001b[0;34m()\u001b[0m\n\u001b[1;32m      <a href='vscode-notebook-cell:/Users/ishapatil/Documents/GitHub/info2950-finalproject/.ipynb_checkpoints/phase4-checkpoint.ipynb#X11sZmlsZQ%3D%3D?line=0'>1</a>\u001b[0m \u001b[39m# Reading in the dataframe\u001b[39;00m\n\u001b[0;32m----> <a href='vscode-notebook-cell:/Users/ishapatil/Documents/GitHub/info2950-finalproject/.ipynb_checkpoints/phase4-checkpoint.ipynb#X11sZmlsZQ%3D%3D?line=2'>3</a>\u001b[0m analysis_df \u001b[39m=\u001b[39m pd\u001b[39m.\u001b[39;49mread_csv(\u001b[39m'\u001b[39;49m\u001b[39manalysis.csv\u001b[39;49m\u001b[39m'\u001b[39;49m)\n\u001b[1;32m      <a href='vscode-notebook-cell:/Users/ishapatil/Documents/GitHub/info2950-finalproject/.ipynb_checkpoints/phase4-checkpoint.ipynb#X11sZmlsZQ%3D%3D?line=3'>4</a>\u001b[0m analysis_df\u001b[39m.\u001b[39mhead()\n",
      "File \u001b[0;32m/Applications/anaconda3/lib/python3.9/site-packages/pandas/util/_decorators.py:311\u001b[0m, in \u001b[0;36mdeprecate_nonkeyword_arguments.<locals>.decorate.<locals>.wrapper\u001b[0;34m(*args, **kwargs)\u001b[0m\n\u001b[1;32m    305\u001b[0m \u001b[39mif\u001b[39;00m \u001b[39mlen\u001b[39m(args) \u001b[39m>\u001b[39m num_allow_args:\n\u001b[1;32m    306\u001b[0m     warnings\u001b[39m.\u001b[39mwarn(\n\u001b[1;32m    307\u001b[0m         msg\u001b[39m.\u001b[39mformat(arguments\u001b[39m=\u001b[39marguments),\n\u001b[1;32m    308\u001b[0m         \u001b[39mFutureWarning\u001b[39;00m,\n\u001b[1;32m    309\u001b[0m         stacklevel\u001b[39m=\u001b[39mstacklevel,\n\u001b[1;32m    310\u001b[0m     )\n\u001b[0;32m--> 311\u001b[0m \u001b[39mreturn\u001b[39;00m func(\u001b[39m*\u001b[39;49margs, \u001b[39m*\u001b[39;49m\u001b[39m*\u001b[39;49mkwargs)\n",
      "File \u001b[0;32m/Applications/anaconda3/lib/python3.9/site-packages/pandas/io/parsers/readers.py:680\u001b[0m, in \u001b[0;36mread_csv\u001b[0;34m(filepath_or_buffer, sep, delimiter, header, names, index_col, usecols, squeeze, prefix, mangle_dupe_cols, dtype, engine, converters, true_values, false_values, skipinitialspace, skiprows, skipfooter, nrows, na_values, keep_default_na, na_filter, verbose, skip_blank_lines, parse_dates, infer_datetime_format, keep_date_col, date_parser, dayfirst, cache_dates, iterator, chunksize, compression, thousands, decimal, lineterminator, quotechar, quoting, doublequote, escapechar, comment, encoding, encoding_errors, dialect, error_bad_lines, warn_bad_lines, on_bad_lines, delim_whitespace, low_memory, memory_map, float_precision, storage_options)\u001b[0m\n\u001b[1;32m    665\u001b[0m kwds_defaults \u001b[39m=\u001b[39m _refine_defaults_read(\n\u001b[1;32m    666\u001b[0m     dialect,\n\u001b[1;32m    667\u001b[0m     delimiter,\n\u001b[0;32m   (...)\u001b[0m\n\u001b[1;32m    676\u001b[0m     defaults\u001b[39m=\u001b[39m{\u001b[39m\"\u001b[39m\u001b[39mdelimiter\u001b[39m\u001b[39m\"\u001b[39m: \u001b[39m\"\u001b[39m\u001b[39m,\u001b[39m\u001b[39m\"\u001b[39m},\n\u001b[1;32m    677\u001b[0m )\n\u001b[1;32m    678\u001b[0m kwds\u001b[39m.\u001b[39mupdate(kwds_defaults)\n\u001b[0;32m--> 680\u001b[0m \u001b[39mreturn\u001b[39;00m _read(filepath_or_buffer, kwds)\n",
      "File \u001b[0;32m/Applications/anaconda3/lib/python3.9/site-packages/pandas/io/parsers/readers.py:575\u001b[0m, in \u001b[0;36m_read\u001b[0;34m(filepath_or_buffer, kwds)\u001b[0m\n\u001b[1;32m    572\u001b[0m _validate_names(kwds\u001b[39m.\u001b[39mget(\u001b[39m\"\u001b[39m\u001b[39mnames\u001b[39m\u001b[39m\"\u001b[39m, \u001b[39mNone\u001b[39;00m))\n\u001b[1;32m    574\u001b[0m \u001b[39m# Create the parser.\u001b[39;00m\n\u001b[0;32m--> 575\u001b[0m parser \u001b[39m=\u001b[39m TextFileReader(filepath_or_buffer, \u001b[39m*\u001b[39;49m\u001b[39m*\u001b[39;49mkwds)\n\u001b[1;32m    577\u001b[0m \u001b[39mif\u001b[39;00m chunksize \u001b[39mor\u001b[39;00m iterator:\n\u001b[1;32m    578\u001b[0m     \u001b[39mreturn\u001b[39;00m parser\n",
      "File \u001b[0;32m/Applications/anaconda3/lib/python3.9/site-packages/pandas/io/parsers/readers.py:933\u001b[0m, in \u001b[0;36mTextFileReader.__init__\u001b[0;34m(self, f, engine, **kwds)\u001b[0m\n\u001b[1;32m    930\u001b[0m     \u001b[39mself\u001b[39m\u001b[39m.\u001b[39moptions[\u001b[39m\"\u001b[39m\u001b[39mhas_index_names\u001b[39m\u001b[39m\"\u001b[39m] \u001b[39m=\u001b[39m kwds[\u001b[39m\"\u001b[39m\u001b[39mhas_index_names\u001b[39m\u001b[39m\"\u001b[39m]\n\u001b[1;32m    932\u001b[0m \u001b[39mself\u001b[39m\u001b[39m.\u001b[39mhandles: IOHandles \u001b[39m|\u001b[39m \u001b[39mNone\u001b[39;00m \u001b[39m=\u001b[39m \u001b[39mNone\u001b[39;00m\n\u001b[0;32m--> 933\u001b[0m \u001b[39mself\u001b[39m\u001b[39m.\u001b[39m_engine \u001b[39m=\u001b[39m \u001b[39mself\u001b[39;49m\u001b[39m.\u001b[39;49m_make_engine(f, \u001b[39mself\u001b[39;49m\u001b[39m.\u001b[39;49mengine)\n",
      "File \u001b[0;32m/Applications/anaconda3/lib/python3.9/site-packages/pandas/io/parsers/readers.py:1217\u001b[0m, in \u001b[0;36mTextFileReader._make_engine\u001b[0;34m(self, f, engine)\u001b[0m\n\u001b[1;32m   1213\u001b[0m     mode \u001b[39m=\u001b[39m \u001b[39m\"\u001b[39m\u001b[39mrb\u001b[39m\u001b[39m\"\u001b[39m\n\u001b[1;32m   1214\u001b[0m \u001b[39m# error: No overload variant of \"get_handle\" matches argument types\u001b[39;00m\n\u001b[1;32m   1215\u001b[0m \u001b[39m# \"Union[str, PathLike[str], ReadCsvBuffer[bytes], ReadCsvBuffer[str]]\"\u001b[39;00m\n\u001b[1;32m   1216\u001b[0m \u001b[39m# , \"str\", \"bool\", \"Any\", \"Any\", \"Any\", \"Any\", \"Any\"\u001b[39;00m\n\u001b[0;32m-> 1217\u001b[0m \u001b[39mself\u001b[39m\u001b[39m.\u001b[39mhandles \u001b[39m=\u001b[39m get_handle(  \u001b[39m# type: ignore[call-overload]\u001b[39;49;00m\n\u001b[1;32m   1218\u001b[0m     f,\n\u001b[1;32m   1219\u001b[0m     mode,\n\u001b[1;32m   1220\u001b[0m     encoding\u001b[39m=\u001b[39;49m\u001b[39mself\u001b[39;49m\u001b[39m.\u001b[39;49moptions\u001b[39m.\u001b[39;49mget(\u001b[39m\"\u001b[39;49m\u001b[39mencoding\u001b[39;49m\u001b[39m\"\u001b[39;49m, \u001b[39mNone\u001b[39;49;00m),\n\u001b[1;32m   1221\u001b[0m     compression\u001b[39m=\u001b[39;49m\u001b[39mself\u001b[39;49m\u001b[39m.\u001b[39;49moptions\u001b[39m.\u001b[39;49mget(\u001b[39m\"\u001b[39;49m\u001b[39mcompression\u001b[39;49m\u001b[39m\"\u001b[39;49m, \u001b[39mNone\u001b[39;49;00m),\n\u001b[1;32m   1222\u001b[0m     memory_map\u001b[39m=\u001b[39;49m\u001b[39mself\u001b[39;49m\u001b[39m.\u001b[39;49moptions\u001b[39m.\u001b[39;49mget(\u001b[39m\"\u001b[39;49m\u001b[39mmemory_map\u001b[39;49m\u001b[39m\"\u001b[39;49m, \u001b[39mFalse\u001b[39;49;00m),\n\u001b[1;32m   1223\u001b[0m     is_text\u001b[39m=\u001b[39;49mis_text,\n\u001b[1;32m   1224\u001b[0m     errors\u001b[39m=\u001b[39;49m\u001b[39mself\u001b[39;49m\u001b[39m.\u001b[39;49moptions\u001b[39m.\u001b[39;49mget(\u001b[39m\"\u001b[39;49m\u001b[39mencoding_errors\u001b[39;49m\u001b[39m\"\u001b[39;49m, \u001b[39m\"\u001b[39;49m\u001b[39mstrict\u001b[39;49m\u001b[39m\"\u001b[39;49m),\n\u001b[1;32m   1225\u001b[0m     storage_options\u001b[39m=\u001b[39;49m\u001b[39mself\u001b[39;49m\u001b[39m.\u001b[39;49moptions\u001b[39m.\u001b[39;49mget(\u001b[39m\"\u001b[39;49m\u001b[39mstorage_options\u001b[39;49m\u001b[39m\"\u001b[39;49m, \u001b[39mNone\u001b[39;49;00m),\n\u001b[1;32m   1226\u001b[0m )\n\u001b[1;32m   1227\u001b[0m \u001b[39massert\u001b[39;00m \u001b[39mself\u001b[39m\u001b[39m.\u001b[39mhandles \u001b[39mis\u001b[39;00m \u001b[39mnot\u001b[39;00m \u001b[39mNone\u001b[39;00m\n\u001b[1;32m   1228\u001b[0m f \u001b[39m=\u001b[39m \u001b[39mself\u001b[39m\u001b[39m.\u001b[39mhandles\u001b[39m.\u001b[39mhandle\n",
      "File \u001b[0;32m/Applications/anaconda3/lib/python3.9/site-packages/pandas/io/common.py:789\u001b[0m, in \u001b[0;36mget_handle\u001b[0;34m(path_or_buf, mode, encoding, compression, memory_map, is_text, errors, storage_options)\u001b[0m\n\u001b[1;32m    784\u001b[0m \u001b[39melif\u001b[39;00m \u001b[39misinstance\u001b[39m(handle, \u001b[39mstr\u001b[39m):\n\u001b[1;32m    785\u001b[0m     \u001b[39m# Check whether the filename is to be opened in binary mode.\u001b[39;00m\n\u001b[1;32m    786\u001b[0m     \u001b[39m# Binary mode does not support 'encoding' and 'newline'.\u001b[39;00m\n\u001b[1;32m    787\u001b[0m     \u001b[39mif\u001b[39;00m ioargs\u001b[39m.\u001b[39mencoding \u001b[39mand\u001b[39;00m \u001b[39m\"\u001b[39m\u001b[39mb\u001b[39m\u001b[39m\"\u001b[39m \u001b[39mnot\u001b[39;00m \u001b[39min\u001b[39;00m ioargs\u001b[39m.\u001b[39mmode:\n\u001b[1;32m    788\u001b[0m         \u001b[39m# Encoding\u001b[39;00m\n\u001b[0;32m--> 789\u001b[0m         handle \u001b[39m=\u001b[39m \u001b[39mopen\u001b[39;49m(\n\u001b[1;32m    790\u001b[0m             handle,\n\u001b[1;32m    791\u001b[0m             ioargs\u001b[39m.\u001b[39;49mmode,\n\u001b[1;32m    792\u001b[0m             encoding\u001b[39m=\u001b[39;49mioargs\u001b[39m.\u001b[39;49mencoding,\n\u001b[1;32m    793\u001b[0m             errors\u001b[39m=\u001b[39;49merrors,\n\u001b[1;32m    794\u001b[0m             newline\u001b[39m=\u001b[39;49m\u001b[39m\"\u001b[39;49m\u001b[39m\"\u001b[39;49m,\n\u001b[1;32m    795\u001b[0m         )\n\u001b[1;32m    796\u001b[0m     \u001b[39melse\u001b[39;00m:\n\u001b[1;32m    797\u001b[0m         \u001b[39m# Binary mode\u001b[39;00m\n\u001b[1;32m    798\u001b[0m         handle \u001b[39m=\u001b[39m \u001b[39mopen\u001b[39m(handle, ioargs\u001b[39m.\u001b[39mmode)\n",
      "\u001b[0;31mFileNotFoundError\u001b[0m: [Errno 2] No such file or directory: 'analysis.csv'"
     ]
    }
   ],
   "source": [
    "# Reading in the dataframe\n",
    "\n",
    "analysis_df = pd.read_csv('analysis.csv')\n",
    "analysis_df.head()"
   ]
  },
  {
   "cell_type": "code",
   "execution_count": 9,
   "id": "3d457f4b-5b12-4f94-8975-6384ccc70149",
   "metadata": {
    "tags": []
   },
   "outputs": [
    {
     "ename": "NameError",
     "evalue": "name 'analysis_df' is not defined",
     "output_type": "error",
     "traceback": [
      "\u001b[0;31m---------------------------------------------------------------------------\u001b[0m",
      "\u001b[0;31mNameError\u001b[0m                                 Traceback (most recent call last)",
      "\u001b[1;32m/Users/ishapatil/Documents/GitHub/info2950-finalproject/.ipynb_checkpoints/phase4-checkpoint.ipynb Cell 10\u001b[0m in \u001b[0;36m<cell line: 1>\u001b[0;34m()\u001b[0m\n\u001b[0;32m----> <a href='vscode-notebook-cell:/Users/ishapatil/Documents/GitHub/info2950-finalproject/.ipynb_checkpoints/phase4-checkpoint.ipynb#X12sZmlsZQ%3D%3D?line=0'>1</a>\u001b[0m sns\u001b[39m.\u001b[39mscatterplot(x\u001b[39m=\u001b[39m\u001b[39m'\u001b[39m\u001b[39mshare_below_poverty_wages\u001b[39m\u001b[39m'\u001b[39m, y\u001b[39m=\u001b[39m\u001b[39m'\u001b[39m\u001b[39mGDP_Per_Capita\u001b[39m\u001b[39m'\u001b[39m, data\u001b[39m=\u001b[39manalysis_df);\n\u001b[1;32m      <a href='vscode-notebook-cell:/Users/ishapatil/Documents/GitHub/info2950-finalproject/.ipynb_checkpoints/phase4-checkpoint.ipynb#X12sZmlsZQ%3D%3D?line=1'>2</a>\u001b[0m plt\u001b[39m.\u001b[39mxlabel(\u001b[39m'\u001b[39m\u001b[39mShare Below Poverty Wage\u001b[39m\u001b[39m'\u001b[39m);\n\u001b[1;32m      <a href='vscode-notebook-cell:/Users/ishapatil/Documents/GitHub/info2950-finalproject/.ipynb_checkpoints/phase4-checkpoint.ipynb#X12sZmlsZQ%3D%3D?line=2'>3</a>\u001b[0m plt\u001b[39m.\u001b[39mylabel(\u001b[39m'\u001b[39m\u001b[39mGDP Per Capita\u001b[39m\u001b[39m'\u001b[39m)\n",
      "\u001b[0;31mNameError\u001b[0m: name 'analysis_df' is not defined"
     ]
    }
   ],
   "source": [
    "sns.scatterplot(x='share_below_poverty_wages', y='GDP_Per_Capita', data=analysis_df);\n",
    "plt.xlabel('Share Below Poverty Wage');\n",
    "plt.ylabel('GDP Per Capita');\n",
    "\n",
    "\n",
    "# This scatterplot shows the relationship between GDP per capita and poverty wages. Broadly speaking,\n",
    "# as the share of people making poverty wages decreases, GDP per capita gets higher. "
   ]
  },
  {
   "cell_type": "code",
   "execution_count": 10,
   "id": "4b649c9c-5775-4e8a-b1a6-090d7214d77a",
   "metadata": {
    "tags": []
   },
   "outputs": [
    {
     "ename": "NameError",
     "evalue": "name 'analysis_df' is not defined",
     "output_type": "error",
     "traceback": [
      "\u001b[0;31m---------------------------------------------------------------------------\u001b[0m",
      "\u001b[0;31mNameError\u001b[0m                                 Traceback (most recent call last)",
      "\u001b[1;32m/Users/ishapatil/Documents/GitHub/info2950-finalproject/.ipynb_checkpoints/phase4-checkpoint.ipynb Cell 11\u001b[0m in \u001b[0;36m<cell line: 1>\u001b[0;34m()\u001b[0m\n\u001b[0;32m----> <a href='vscode-notebook-cell:/Users/ishapatil/Documents/GitHub/info2950-finalproject/.ipynb_checkpoints/phase4-checkpoint.ipynb#X13sZmlsZQ%3D%3D?line=0'>1</a>\u001b[0m sns\u001b[39m.\u001b[39mscatterplot(x\u001b[39m=\u001b[39m\u001b[39m'\u001b[39m\u001b[39m300\u001b[39m\u001b[39m%\u001b[39m\u001b[39m+_of_poverty_wages\u001b[39m\u001b[39m'\u001b[39m, y\u001b[39m=\u001b[39m\u001b[39m'\u001b[39m\u001b[39mGDP_Per_Capita\u001b[39m\u001b[39m'\u001b[39m, data\u001b[39m=\u001b[39manalysis_df);\n\u001b[1;32m      <a href='vscode-notebook-cell:/Users/ishapatil/Documents/GitHub/info2950-finalproject/.ipynb_checkpoints/phase4-checkpoint.ipynb#X13sZmlsZQ%3D%3D?line=1'>2</a>\u001b[0m plt\u001b[39m.\u001b[39mxlabel(\u001b[39m'\u001b[39m\u001b[39mShare Earning 300\u001b[39m\u001b[39m%+ o\u001b[39;00m\u001b[39mf Poverty Wage\u001b[39m\u001b[39m'\u001b[39m);\n\u001b[1;32m      <a href='vscode-notebook-cell:/Users/ishapatil/Documents/GitHub/info2950-finalproject/.ipynb_checkpoints/phase4-checkpoint.ipynb#X13sZmlsZQ%3D%3D?line=2'>3</a>\u001b[0m plt\u001b[39m.\u001b[39mylabel(\u001b[39m'\u001b[39m\u001b[39mGDP Per Capita\u001b[39m\u001b[39m'\u001b[39m)\n",
      "\u001b[0;31mNameError\u001b[0m: name 'analysis_df' is not defined"
     ]
    }
   ],
   "source": [
    "sns.scatterplot(x='300%+_of_poverty_wages', y='GDP_Per_Capita', data=analysis_df);\n",
    "plt.xlabel('Share Earning 300%+ of Poverty Wage');\n",
    "plt.ylabel('GDP Per Capita');\n",
    "\n",
    "\n",
    "# This scatterplot shows the relationship between GDP per capita and the share of people making 300%+ of poverty wages."
   ]
  },
  {
   "cell_type": "code",
   "execution_count": 11,
   "id": "2c354750-2100-4574-ba27-8f3ec04da874",
   "metadata": {
    "tags": []
   },
   "outputs": [
    {
     "ename": "NameError",
     "evalue": "name 'analysis_df' is not defined",
     "output_type": "error",
     "traceback": [
      "\u001b[0;31m---------------------------------------------------------------------------\u001b[0m",
      "\u001b[0;31mNameError\u001b[0m                                 Traceback (most recent call last)",
      "\u001b[1;32m/Users/ishapatil/Documents/GitHub/info2950-finalproject/.ipynb_checkpoints/phase4-checkpoint.ipynb Cell 12\u001b[0m in \u001b[0;36m<cell line: 1>\u001b[0;34m()\u001b[0m\n\u001b[0;32m----> <a href='vscode-notebook-cell:/Users/ishapatil/Documents/GitHub/info2950-finalproject/.ipynb_checkpoints/phase4-checkpoint.ipynb#X14sZmlsZQ%3D%3D?line=0'>1</a>\u001b[0m x \u001b[39m=\u001b[39m analysis_df[\u001b[39m'\u001b[39m\u001b[39mYear\u001b[39m\u001b[39m'\u001b[39m]\n\u001b[1;32m      <a href='vscode-notebook-cell:/Users/ishapatil/Documents/GitHub/info2950-finalproject/.ipynb_checkpoints/phase4-checkpoint.ipynb#X14sZmlsZQ%3D%3D?line=1'>2</a>\u001b[0m y1 \u001b[39m=\u001b[39m analysis_df[\u001b[39m'\u001b[39m\u001b[39mmen_share_below_poverty_wages\u001b[39m\u001b[39m'\u001b[39m]\n\u001b[1;32m      <a href='vscode-notebook-cell:/Users/ishapatil/Documents/GitHub/info2950-finalproject/.ipynb_checkpoints/phase4-checkpoint.ipynb#X14sZmlsZQ%3D%3D?line=2'>3</a>\u001b[0m y2 \u001b[39m=\u001b[39m analysis_df[\u001b[39m'\u001b[39m\u001b[39mwomen_share_below_poverty_wages\u001b[39m\u001b[39m'\u001b[39m]\n",
      "\u001b[0;31mNameError\u001b[0m: name 'analysis_df' is not defined"
     ]
    }
   ],
   "source": [
    "x = analysis_df['Year']\n",
    "y1 = analysis_df['men_share_below_poverty_wages']\n",
    "y2 = analysis_df['women_share_below_poverty_wages']\n",
    "plt.bar(x, y1, color='b');\n",
    "plt.bar(x, y2, bottom=y1, color='r');\n",
    "plt.xlabel('Year');\n",
    "plt.ylabel('Percent');\n",
    "plt.title('Percent of Share Below Poverty Wages by Gender');\n",
    "plt.legend(['Men', 'Women']);"
   ]
  },
  {
   "cell_type": "code",
   "execution_count": null,
   "id": "e5da9a3d-4db7-4606-b214-a4d613c7c2fa",
   "metadata": {
    "tags": []
   },
   "outputs": [
    {
     "data": {
      "image/png": "[encoded data removed]",
      "text/plain": [
       "<Figure size 640x480 with 1 Axes>"
      ]
     },
     "metadata": {},
     "output_type": "display_data"
    }
   ],
   "source": [
    "sns.lineplot(x='diff_poverty_share', y='GDP_Per_Capita', data=analysis_df);\n",
    "plt.xlabel('Difference in poverty share between men and women');\n",
    "plt.ylabel('GDP Per Capita');"
   ]
  },
  {
   "cell_type": "code",
   "execution_count": 5,
   "id": "623d4518-18b5-43c8-9352-d95f4c87ce5b",
   "metadata": {
    "tags": []
   },
   "outputs": [
    {
     "ename": "NameError",
     "evalue": "name 'analysis_df' is not defined",
     "output_type": "error",
     "traceback": [
      "\u001b[0;31m---------------------------------------------------------------------------\u001b[0m",
      "\u001b[0;31mNameError\u001b[0m                                 Traceback (most recent call last)",
      "\u001b[1;32m/Users/ishapatil/Documents/GitHub/info2950-finalproject/.ipynb_checkpoints/phase4-checkpoint.ipynb Cell 14\u001b[0m in \u001b[0;36m<cell line: 3>\u001b[0;34m()\u001b[0m\n\u001b[1;32m      <a href='vscode-notebook-cell:/Users/ishapatil/Documents/GitHub/info2950-finalproject/.ipynb_checkpoints/phase4-checkpoint.ipynb#X16sZmlsZQ%3D%3D?line=0'>1</a>\u001b[0m \u001b[39m# Now we'll create the train, test sets\u001b[39;00m\n\u001b[0;32m----> <a href='vscode-notebook-cell:/Users/ishapatil/Documents/GitHub/info2950-finalproject/.ipynb_checkpoints/phase4-checkpoint.ipynb#X16sZmlsZQ%3D%3D?line=2'>3</a>\u001b[0m train, test \u001b[39m=\u001b[39m train_test_split(analysis_df, test_size\u001b[39m=\u001b[39m\u001b[39m0.3\u001b[39m, random_state\u001b[39m=\u001b[39m\u001b[39m42\u001b[39m)\n",
      "\u001b[0;31mNameError\u001b[0m: name 'analysis_df' is not defined"
     ]
    }
   ],
   "source": [
    "# Now we'll create the train, test sets\n",
    "\n",
    "train, test = train_test_split(analysis_df, test_size=0.3, random_state=42)"
   ]
  },
  {
   "cell_type": "markdown",
   "id": "9b15173d-2364-40ed-b4f8-1c110cc55a4b",
   "metadata": {},
   "source": [
    "## **Models and Evaluation of Significance** ##"
   ]
  },
  {
   "cell_type": "markdown",
   "id": "4b603879",
   "metadata": {},
   "source": []
  }
 ],
 "metadata": {
  "kernelspec": {
   "display_name": "Python 3.9.12 64-bit ('anaconda3')",
   "language": "python",
   "name": "python3"
  },
  "language_info": {
   "codemirror_mode": {
    "name": "ipython",
    "version": 3
   },
   "file_extension": ".py",
   "mimetype": "text/x-python",
   "name": "python",
   "nbconvert_exporter": "python",
   "pygments_lexer": "ipython3",
   "version": "3.9.12"
  },
  "vscode": {
   "interpreter": {
    "hash": "cd78fef2128015050713e82ca51c6520b11aee7c9ee8df750520bbbc7384cbaa"
   }
  }
 },
 "nbformat": 4,
 "nbformat_minor": 5
}
