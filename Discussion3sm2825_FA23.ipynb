{
 "cells": [
  {
   "cell_type": "markdown",
   "metadata": {
    "id": "TxU6oSJx7639"
   },
   "source": [
    "# INFO 2950 Discussion Week 3\n",
    "\n",
    "For our group time on Friday we will be going through a tutorial on web scraping together.\n",
    "\n",
    "**Make sure to complete and save this notebook before next Friday's section!** We will use the completed version for an activity on pushing to GitHub next week.\n",
    "\n",
    "\n"
   ]
  },
  {
   "cell_type": "markdown",
   "metadata": {
    "id": "-34StO4VWhP6"
   },
   "source": [
    "## What is web scraping?\n",
    "\n",
    "Web scraping is the process of creating structured data frames readable by computers from less-structured web pages that are intended to be read by humans.\n",
    "\n",
    "## Do you need to scrape?\n",
    "\n",
    "Scraping is difficult, error-prone, and may get you in legal or ethical trouble. Always check if the information you are seeking already exists in a nicer format. Many companies also have APIs or other infrastructure dedicated to serving automated requests.\n",
    "\n",
    "## Ethics of scraping\n",
    "\n",
    "Scraping is the aspect of data science most likely to get you into trouble. Legally, there are two main concerns: copyright violation if you are making copies of content that is protected by copyright, and terms-of-service violation. Many sites will also attempt to block scrapers. Acting to avoid these blocks may constitute hacking.\n",
    "\n",
    "In addition to legal problems, there are ethical problems.\n",
    "\n",
    "* Respect other people's hard work. Collecting information for a cool website is difficult and takes a long time and careful preparation. Is it fair to take all that work and use it for your purposes?\n",
    "* Respect other people's businesses. People feed their families by collecting and sharing information, for example through ad revenue. They may be unhappy if they think you are trying to steal their work and prevent them from monetizing it. Websites also sometimes pay for bandwidth and cloud services, and you don't want to take up all their resources for purposes that provide no revenue.\n",
    "* Respect other people's audiences. Don't [DDOS](https://en.wikipedia.org/wiki/Denial-of-service_attack) a website! Keep requests spaced to about 2/second at most. Web hits don't take a lot of resources, but it's easy to flood a site with requests, locking others out.\n",
    "\n",
    "## Process\n",
    "\n",
    "Find a page that contains the info you want. Some older pages are static, but most of what you will see today are views of databases. For example, Amazon has a database of products, Letterboxd has a database of movies, and Netflix has a database of shows. Each page either lists entities in the database or gives information about specific entities.\n",
    "\n",
    "You would prefer to get access directly to the database, and in some cases you can. But for whatever reason sometimes the web page is all you can get. This process can be difficult because web pages are optimized for people to look at, not for computers to operate on. But it is simpler because in this case a computer has to generate a page *from* a database record and a web browser has to know how to display the elements on the page so that humans can read them. These constraints mean that there are regularities in how specific pieces of information are shown in  HTML, and if you can figure them out, you can reverse the page generation process and get back to something that looks more like a database.\n",
    "\n",
    "How do you know which pages to get? Often an index or search result page leads to individual pages with more detailed information.\n",
    "\n",
    "\n",
    "### Web scraping in Python\n",
    "\n",
    "The [`requests`](https://requests.readthedocs.io/en/latest/) library allows you to download files from the web. It is much easier to use than `urllib`. You can use the `requests` library to get information from web pages so that you can save them to files or analyze their data in python.\n",
    "\n",
    "After using `requests` to access web data, you'll use [Beautiful Soup](https://www.crummy.com/software/BeautifulSoup/bs4/doc/) to parse that information, organized in HTML. `BeautifulSoup` makes querying a tree of tags and their attributes much easier than trying to parse HTML from scratch. You'll need to spend some time looking at the target web page and finding the combination of tag names and classes you're interested in, but `BeautifulSoup` can help access that information once you know what you need.\n",
    "\n",
    "\n",
    "\n",
    "## Installation\n",
    "As usual, to use these new modules you'll need to first **install `BeautifulSoup` and `requests` to your virtual environment for this class**. Only once you've completed that process can successfully you run the next cell of code to load in `requests`, `BeautifulSoup`, and other modules.\n",
    "\n",
    "\n",
    "\n"
   ]
  },
  {
   "cell_type": "code",
   "execution_count": 1,
   "metadata": {
    "id": "KIQy8gAoHZ9_",
    "tags": []
   },
   "outputs": [],
   "source": [
    "import requests\n",
    "from bs4 import BeautifulSoup\n",
    "\n",
    "import pandas as pd\n",
    "import numpy as np\n",
    "import time\n",
    "\n"
   ]
  },
  {
   "cell_type": "markdown",
   "metadata": {
    "id": "FlYjVsZA3j__"
   },
   "source": [
    "## In-session Example: Cornell University Website\n",
    "\n",
    "The TA will show you [this page about Cornell University](https://www.cornell.edu/about/). This webpage has information about Cornell, including general statistics about number of students, different campus locations, and many links to other Cornell pages.\n",
    "\n",
    "## Viewing HTML\n",
    "Take a look at the HTML of the page. You can view this in a couple of different ways:\n",
    "\n",
    "*   Right click > \"View Page Source\"\n",
    "*   Right click > \"Inspect\"\n",
    "\n",
    "**What differences do you notice between the two HTML views?**\n",
    "\n"
   ]
  },
  {
   "cell_type": "markdown",
   "metadata": {
    "id": "CyAS5Km3KgYI"
   },
   "source": [
    "Today, our goal is to collect and organize various stats about Cornell.\n",
    "\n",
    "We need to put together clues from the structure of the page and the appearance of elements on the page. Appearance is usually determined by the CSS `style` property. Figuring out how to automatically find values from HTML will involve looking at HTML source, ^F searching for values that you want, and figuring out how to identify styles or containing elements. Modern web pages are long and have lots of complicated elements, many of which do not appear as visible content. Starting from the top of the document and reading through is not recommended.\n",
    "\n",
    "You will scrape information from cached copies of \"About Cornell\" pages. These are locally hosted so we don't have hundreds of students hitting Cornell's website at the same time. They probably wouldn't notice, but it's more responsible to keep it local.\n"
   ]
  },
  {
   "cell_type": "code",
   "execution_count": 2,
   "metadata": {
    "id": "EBJxOwcm1Og2",
    "tags": []
   },
   "outputs": [],
   "source": [
    "cornell_url = \"https://koenecke.infosci.cornell.edu/files/info2950/About%20Cornell%20University.html\""
   ]
  },
  {
   "cell_type": "markdown",
   "metadata": {
    "id": "KVga8D7A8nHc"
   },
   "source": [
    "The following code does a `GET` request to the web host for the specified filename. HTTP is the protocol used to make web requests. It has a series of \"status codes\" that tell you the result of request. 200 is success. Others you have probably seen: 404 is \"page not found\", 403 is \"you do not have access\". Codes starting with 3-- are often redirects. 500 means there is a bug in the server-side code."
   ]
  },
  {
   "cell_type": "code",
   "execution_count": 3,
   "metadata": {
    "id": "iKMoioQN1PrE",
    "tags": []
   },
   "outputs": [],
   "source": [
    "cornell_result = requests.get(cornell_url)\n",
    "if cornell_result.status_code != 200:\n",
    "  print(\"something went wrong:\", cornell_result.status_code, cornell_result.reason)"
   ]
  },
  {
   "cell_type": "markdown",
   "metadata": {
    "id": "s7toLvE68qF5"
   },
   "source": [
    "You're never going to get the analysis of a web page right the first time, so it's good to save a local copy of the HTML source so we don't need to hit the server again."
   ]
  },
  {
   "cell_type": "code",
   "execution_count": 4,
   "metadata": {
    "id": "T--49WBb1Vch",
    "tags": []
   },
   "outputs": [],
   "source": [
    "with open(\"cornell_about.html\", \"w\") as writer:\n",
    "  writer.write(cornell_result.text)"
   ]
  },
  {
   "cell_type": "markdown",
   "metadata": {
    "id": "VYSfu-898tcc"
   },
   "source": [
    "Here we're immediately reading the file again, but you could split these into two separate notebooks, one for downloading, one for analysis."
   ]
  },
  {
   "cell_type": "code",
   "execution_count": 5,
   "metadata": {
    "id": "OsuOFDfB1Zxc",
    "tags": []
   },
   "outputs": [],
   "source": [
    "with open(\"cornell_about.html\", \"r\") as reader:\n",
    "  html_source = reader.read()"
   ]
  },
  {
   "cell_type": "markdown",
   "metadata": {
    "id": "WCQTpxKf8xbQ"
   },
   "source": [
    "There are a lot of things that can go wrong when you are accessing web documents. Get in the habit of constantly adding confidence checks to make sure the state of variables is what you expect it to be."
   ]
  },
  {
   "cell_type": "code",
   "execution_count": 6,
   "metadata": {
    "colab": {
     "base_uri": "https://localhost:8080/",
     "height": 35
    },
    "id": "K3a1nh1p1gGy",
    "outputId": "4938fb12-e7e4-4c56-c326-fe499b4c0407",
    "tags": []
   },
   "outputs": [
    {
     "data": {
      "text/plain": [
       "'<!DOCTYPE html>\\n<htm'"
      ]
     },
     "execution_count": 6,
     "metadata": {},
     "output_type": "execute_result"
    }
   ],
   "source": [
    "# Make sure this worked\n",
    "html_source[:20]"
   ]
  },
  {
   "cell_type": "markdown",
   "metadata": {
    "id": "8e0HyLsI80rh"
   },
   "source": [
    "Here's where we turn the HTML text from a single long string into a searchable tree of tags. `BeautifulSoup` can support different ways of parsing (including XML). Here we'll use an HTML parser."
   ]
  },
  {
   "cell_type": "code",
   "execution_count": 7,
   "metadata": {
    "id": "dG_c_myU1h-7",
    "tags": []
   },
   "outputs": [],
   "source": [
    "page = BeautifulSoup(html_source, \"html.parser\")"
   ]
  },
  {
   "cell_type": "markdown",
   "metadata": {
    "id": "t12d_OJf9Iq4"
   },
   "source": [
    "Now that we have a structured document we can ask for specific tags. See the Beautiful Soup documentation linked at the top for more details."
   ]
  },
  {
   "cell_type": "code",
   "execution_count": 8,
   "metadata": {
    "colab": {
     "base_uri": "https://localhost:8080/"
    },
    "id": "FD9w7WBE1j4X",
    "outputId": "5f5eee2a-8ef3-4f67-dbf9-95ac6dd360a6",
    "tags": []
   },
   "outputs": [
    {
     "data": {
      "text/plain": [
       "<title>About | Cornell University</title>"
      ]
     },
     "execution_count": 8,
     "metadata": {},
     "output_type": "execute_result"
    }
   ],
   "source": [
    "page.title"
   ]
  },
  {
   "cell_type": "markdown",
   "metadata": {
    "id": "SRj_xxyv_fRp"
   },
   "source": [
    "If you want just the text between the HTML tags, you can use `.text`."
   ]
  },
  {
   "cell_type": "code",
   "execution_count": 9,
   "metadata": {
    "colab": {
     "base_uri": "https://localhost:8080/",
     "height": 35
    },
    "id": "pQdpwDP5_cAU",
    "outputId": "5f96554e-db26-43c5-da15-eb577ff3a14c",
    "tags": []
   },
   "outputs": [
    {
     "data": {
      "text/plain": [
       "'About | Cornell University'"
      ]
     },
     "execution_count": 9,
     "metadata": {},
     "output_type": "execute_result"
    }
   ],
   "source": [
    "page.title.text"
   ]
  },
  {
   "cell_type": "markdown",
   "metadata": {
    "id": "TPYxP0Cw9A9g"
   },
   "source": [
    "We can also find all of the instances of a given tag. Since this \"About Cornell\" page seems like more of a landing page, pointing to other resources, we want to use the links on this page to get us to that other linked information. What happens if we ask for all the `a` tags, which [defines a hyperlink](https://www.w3schools.com/tags/tag_a.asp)?"
   ]
  },
  {
   "cell_type": "code",
   "execution_count": 10,
   "metadata": {
    "colab": {
     "base_uri": "https://localhost:8080/"
    },
    "id": "TxUmldHs1mA2",
    "outputId": "12e08e96-ae4b-42a8-94ac-3cbdca8d9d42",
    "tags": []
   },
   "outputs": [
    {
     "name": "stdout",
     "output_type": "stream",
     "text": [
      "there are 180 links on the page\n"
     ]
    },
    {
     "data": {
      "text/plain": [
       "[<a href=\"https://www.cornell.edu/about/\">https://www.cornell.edu/about/</a>,\n",
       " <a href=\"https://www.cornell.edu/about/\">current page</a>,\n",
       " <a href=\"http://support.google.com/websearch/bin/answer.py?hl=en&amp;p=cached&amp;answer=1687222\"><span>Learn more</span>.</a>,\n",
       " <a href=\"http://webcache.googleusercontent.com/search?q=cache:FwQY78IHD64J:https://www.cornell.edu/about/&amp;sca_esv=562865996&amp;hl=en&amp;gl=us&amp;strip=1&amp;vwsrc=0\"><span>Text-only version</span></a>,\n",
       " <a href=\"http://webcache.googleusercontent.com/search?q=cache:FwQY78IHD64J:https://www.cornell.edu/about/&amp;sca_esv=562865996&amp;hl=en&amp;gl=us&amp;strip=0&amp;vwsrc=1\"><span>View source</span></a>,\n",
       " <a data-click-action=\"skip to content\" data-click-category=\"header\" href=\"#main\" tabindex=\"1\">Skip to content</a>,\n",
       " <a data-click-action=\"home\" data-click-category=\"header\" href=\"https://www.cornell.edu/\" id=\"cu-brand\" title=\"Cornell.edu Homepage\">\n",
       " <div class=\"cu-logotype\">Cornell University</div>\n",
       " </a>,\n",
       " <a class=\"menu-item\" data-click-label=\"About Cornell\" href=\"https://www.cornell.edu/about\">About Cornell</a>,\n",
       " <a aria-expanded=\"false\" aria-label=\"toggle the About Cornell sub-menu\" class=\"submenu-trigger\" data-click-label=\"About Cornell\" href=\"https://www.cornell.edu/about\"><span class=\"off-screen\">About Cornell</span></a>,\n",
       " <a data-click-label=\"Overview\" href=\"https://www.cornell.edu/about/\">\n",
       " <img alt=\"blue sky over the Arts Quad\" aria-hidden=\"true\" class=\"image-replace\" data-src=\"https://www.cornell.edu/assets/core/images/nav-overview-about.jpg\" src=\"About%20Cornell%20University_files/nav-overview-about.jpg\"/>\n",
       " <span>Overview</span>\n",
       " </a>,\n",
       " <a data-click-label=\"Cornell History\" href=\"https://www.cornell.edu/about/timeline/\">Cornell History</a>,\n",
       " <a data-click-label=\"Maps &amp; Directions\" href=\"https://www.cornell.edu/about/maps/\">Maps &amp; Directions</a>,\n",
       " <a data-click-label=\"Mission\" href=\"https://www.cornell.edu/about/mission.cfm\">Mission &amp; Vision</a>,\n",
       " <a data-click-label=\"Values\" href=\"https://www.cornell.edu/about/values.cfm\">Core Values</a>,\n",
       " <a data-click-label=\"Locations\" href=\"https://www.cornell.edu/about/locations/\">Locations</a>,\n",
       " <a data-click-label=\"Ithaca\" href=\"https://www.cornell.edu/about/locations/ithaca/\">Ithaca</a>,\n",
       " <a data-click-label=\"New York City\" href=\"https://www.cornell.edu/about/locations/nyc/\">New York City</a>,\n",
       " <a aria-label=\"Diversity at Cornell\" data-click-label=\"Diversity\" href=\"https://diversity.cornell.edu/\">Diversity</a>,\n",
       " <a aria-label=\"Indigenous Engagement: Commitment to North American Indigenous Nations and Communities\" data-click-label=\"Indigenous\" href=\"https://indigenous.cornell.edu/\">Indigenous Engagement</a>,\n",
       " <a data-click-label=\"Economic Impact\" href=\"https://economicimpact.cornell.edu/\">Economic Impact</a>]"
      ]
     },
     "execution_count": 10,
     "metadata": {},
     "output_type": "execute_result"
    }
   ],
   "source": [
    "links = page.find_all(\"a\")\n",
    "print(\"there are\", len(links), \"links on the page\")\n",
    "links[:20]"
   ]
  },
  {
   "cell_type": "markdown",
   "metadata": {
    "id": "KZBQzVbH9M9P"
   },
   "source": [
    "Whoa, that's too much! And most of these links seem to be navigation links in header menus.\n",
    "\n",
    "Let's be more specific. Viewing the source, we can search for an interesting string (like \"Facts about Cornell\") and look at the HTML around it.\n",
    "\n",
    "Inspecting the HTML we find that `a` tags can be associated with a number of class styles. The class style for \"Facts about Cornell\" is `link-caret`. Here's how to find all of the `a` tags with this style:"
   ]
  },
  {
   "cell_type": "code",
   "execution_count": 11,
   "metadata": {
    "colab": {
     "base_uri": "https://localhost:8080/"
    },
    "id": "0NcYr_2f1t4L",
    "outputId": "785e3bd0-f7a9-4b9f-8c43-587205216860",
    "tags": []
   },
   "outputs": [
    {
     "name": "stdout",
     "output_type": "stream",
     "text": [
      "[<a class=\"link-caret\" href=\"https://www.cornell.edu/about/locations.cfm\" title=\"Cornell around the globe\">\n",
      "  See All Locations\n",
      "</a>, <a class=\"link-caret\" href=\"https://irp.dpb.cornell.edu/university-factbook\" title=\"Facts about Cornell\">\n",
      "  See All University Facts\n",
      "</a>, <a class=\"link-caret\" href=\"https://www.cornell.edu/about/timeline/\" title=\"Cornell's Historical Timeline\">\n",
      "  Explore Cornell's History\n",
      "</a>]\n"
     ]
    }
   ],
   "source": [
    "link_carets = page.find_all(\"a\", {\"class\":\"link-caret\"})\n",
    "print(link_carets)"
   ]
  },
  {
   "cell_type": "markdown",
   "metadata": {
    "id": "yWoAxkMF91Dk"
   },
   "source": [
    "Once we find a tag, we can also access attributes of the tag, like the URL target of a link (`href`) or the text contained within the tag (`.text`)."
   ]
  },
  {
   "cell_type": "code",
   "execution_count": 12,
   "metadata": {
    "colab": {
     "base_uri": "https://localhost:8080/"
    },
    "id": "yGqZLu4F1v0R",
    "outputId": "402e05f5-f2aa-43ad-bdb0-f3c7efd5b0a1",
    "tags": []
   },
   "outputs": [
    {
     "name": "stdout",
     "output_type": "stream",
     "text": [
      "\n",
      "  See All Locations\n",
      " https://www.cornell.edu/about/locations.cfm\n",
      "\n",
      "  See All University Facts\n",
      " https://irp.dpb.cornell.edu/university-factbook\n",
      "\n",
      "  Explore Cornell's History\n",
      " https://www.cornell.edu/about/timeline/\n"
     ]
    }
   ],
   "source": [
    "for link in link_carets:\n",
    "  print(link.text, link[\"href\"])"
   ]
  },
  {
   "cell_type": "markdown",
   "metadata": {
    "id": "9diPMwaL9390"
   },
   "source": [
    "## Organizing structured data\n",
    "Now, we want to collect different stats and facts about Cornell, so the table on the right side with \"Quick Facts\" seems like a great place to start. **Our goal is to recreate the \"Quick Facts\" table as a pandas dataframe.**\n",
    "\n",
    "Remember, instead of reading the HTML from start to bottom, use ^F to search for the text \"Undergraduate Students\" (for example).\n",
    "\n",
    "While there are different ways of collecting this tag, you really want to keep the name of the fact and its value together. For this reason, let's collect the list element as a singular unit (with tag `li` and the `stat` class style)."
   ]
  },
  {
   "cell_type": "code",
   "execution_count": 13,
   "metadata": {
    "colab": {
     "base_uri": "https://localhost:8080/"
    },
    "id": "H6wlMDuE1z7D",
    "outputId": "c78299eb-6343-4d94-fea6-78f04bdd48d3",
    "tags": []
   },
   "outputs": [
    {
     "name": "stdout",
     "output_type": "stream",
     "text": [
      "6\n"
     ]
    }
   ],
   "source": [
    "cornell_stats = page.find_all(\"li\", {\"class\": \"stat\"})\n",
    "print(len(cornell_stats))"
   ]
  },
  {
   "cell_type": "markdown",
   "metadata": {
    "id": "MxFI-81hDCNR"
   },
   "source": [
    "Now that we have a list of every `li` (list item) with the `stat` class, we can extract the values of the list. Let's start with the first item in this new list:"
   ]
  },
  {
   "cell_type": "code",
   "execution_count": 14,
   "metadata": {
    "colab": {
     "base_uri": "https://localhost:8080/"
    },
    "id": "JuUevyy8DbJO",
    "outputId": "71c8483d-43b5-4e25-9aa7-5aecaff81af4",
    "tags": []
   },
   "outputs": [
    {
     "name": "stdout",
     "output_type": "stream",
     "text": [
      "\n",
      "        Undergraduate Students\n",
      "      \n",
      "\n",
      "         15,735\n",
      "       \n"
     ]
    }
   ],
   "source": [
    "print(cornell_stats[0].find(\"div\", {\"class\": \"stat-label\"}).text)\n",
    "print(cornell_stats[0].find(\"div\", {\"class\": \"stat-value\"}).text)"
   ]
  },
  {
   "cell_type": "markdown",
   "metadata": {
    "id": "SUI58jBkDfjG"
   },
   "source": [
    "What's with all that whitespace? You can strip the extra whitespace with `.strip()`."
   ]
  },
  {
   "cell_type": "code",
   "execution_count": 15,
   "metadata": {
    "colab": {
     "base_uri": "https://localhost:8080/"
    },
    "id": "VoyR2jGH2RF7",
    "outputId": "53cfe85d-b306-4126-ca8a-ed4c8543a919",
    "tags": []
   },
   "outputs": [
    {
     "name": "stdout",
     "output_type": "stream",
     "text": [
      "Undergraduate Students\n",
      "15,735\n"
     ]
    }
   ],
   "source": [
    "print(cornell_stats[0].find(\"div\", {\"class\": \"stat-label\"}).text.strip())\n",
    "print(cornell_stats[0].find(\"div\", {\"class\": \"stat-value\"}).text.strip())"
   ]
  },
  {
   "cell_type": "markdown",
   "metadata": {
    "id": "NWlLu9ebDOOI"
   },
   "source": [
    "Much better! Now, we can use a loop to extract the label and value from each list item."
   ]
  },
  {
   "cell_type": "code",
   "execution_count": 16,
   "metadata": {
    "colab": {
     "base_uri": "https://localhost:8080/"
    },
    "id": "dYbgOxdW13CQ",
    "outputId": "109fc2f5-37ae-4e58-932f-1f71052562b5",
    "tags": []
   },
   "outputs": [
    {
     "name": "stdout",
     "output_type": "stream",
     "text": [
      "Undergraduate Students\n",
      "15,735\n",
      "Graduate Students\n",
      "10,163\n",
      "Faculty\n",
      "2,864\n",
      "Nobel Laureates\n",
      "50\n",
      "Colleges and Schools\n",
      "17\n",
      "undergraduate grant aid (FY23)\n",
      "$407M\n"
     ]
    }
   ],
   "source": [
    "for html_stat in cornell_stats:\n",
    "  print(html_stat.find(\"div\", {\"class\": \"stat-label\"}).text.strip())\n",
    "  print(html_stat.find(\"div\", {\"class\": \"stat-value\"}).text.strip())"
   ]
  },
  {
   "cell_type": "markdown",
   "metadata": {
    "id": "BYfFnvBxDs6e"
   },
   "source": [
    "In reality, you probably don't just want to print these items. You want to store them! Let's use **list comprehension** to create two lists, `labels_l` and `value_l`."
   ]
  },
  {
   "cell_type": "code",
   "execution_count": 17,
   "metadata": {
    "id": "T0S-y8Oa2jRw",
    "tags": []
   },
   "outputs": [],
   "source": [
    "label_l = [stat.find(\"div\", {\"class\": \"stat-label\"}).text.strip() for stat in cornell_stats]\n",
    "value_l = [stat.find(\"div\", {\"class\": \"stat-value\"}).text.strip() for stat in cornell_stats]"
   ]
  },
  {
   "cell_type": "markdown",
   "metadata": {
    "id": "20B42tLXD30j"
   },
   "source": [
    "Now, we can store this as a dataframe."
   ]
  },
  {
   "cell_type": "code",
   "execution_count": 18,
   "metadata": {
    "id": "Sui4GiCs2z-w",
    "tags": []
   },
   "outputs": [],
   "source": [
    "data = {'Label':label_l, 'Stat':value_l}\n",
    "cornell_df = pd.DataFrame(data)"
   ]
  },
  {
   "cell_type": "code",
   "execution_count": 19,
   "metadata": {
    "colab": {
     "base_uri": "https://localhost:8080/",
     "height": 238
    },
    "id": "4Z1m6LCn29aH",
    "outputId": "86f84b6d-c0c7-4251-be12-3be1745c070e",
    "tags": []
   },
   "outputs": [
    {
     "data": {
      "text/html": [
       "<div>\n",
       "<style scoped>\n",
       "    .dataframe tbody tr th:only-of-type {\n",
       "        vertical-align: middle;\n",
       "    }\n",
       "\n",
       "    .dataframe tbody tr th {\n",
       "        vertical-align: top;\n",
       "    }\n",
       "\n",
       "    .dataframe thead th {\n",
       "        text-align: right;\n",
       "    }\n",
       "</style>\n",
       "<table border=\"1\" class=\"dataframe\">\n",
       "  <thead>\n",
       "    <tr style=\"text-align: right;\">\n",
       "      <th></th>\n",
       "      <th>Label</th>\n",
       "      <th>Stat</th>\n",
       "    </tr>\n",
       "  </thead>\n",
       "  <tbody>\n",
       "    <tr>\n",
       "      <th>0</th>\n",
       "      <td>Undergraduate Students</td>\n",
       "      <td>15,735</td>\n",
       "    </tr>\n",
       "    <tr>\n",
       "      <th>1</th>\n",
       "      <td>Graduate Students</td>\n",
       "      <td>10,163</td>\n",
       "    </tr>\n",
       "    <tr>\n",
       "      <th>2</th>\n",
       "      <td>Faculty</td>\n",
       "      <td>2,864</td>\n",
       "    </tr>\n",
       "    <tr>\n",
       "      <th>3</th>\n",
       "      <td>Nobel Laureates</td>\n",
       "      <td>50</td>\n",
       "    </tr>\n",
       "    <tr>\n",
       "      <th>4</th>\n",
       "      <td>Colleges and Schools</td>\n",
       "      <td>17</td>\n",
       "    </tr>\n",
       "    <tr>\n",
       "      <th>5</th>\n",
       "      <td>undergraduate grant aid (FY23)</td>\n",
       "      <td>$407M</td>\n",
       "    </tr>\n",
       "  </tbody>\n",
       "</table>\n",
       "</div>"
      ],
      "text/plain": [
       "                            Label    Stat\n",
       "0          Undergraduate Students  15,735\n",
       "1               Graduate Students  10,163\n",
       "2                         Faculty   2,864\n",
       "3                 Nobel Laureates      50\n",
       "4            Colleges and Schools      17\n",
       "5  undergraduate grant aid (FY23)   $407M"
      ]
     },
     "execution_count": 19,
     "metadata": {},
     "output_type": "execute_result"
    }
   ],
   "source": [
    "cornell_df"
   ]
  },
  {
   "cell_type": "markdown",
   "metadata": {},
   "source": [
    "**Is there any other data cleaning you'd do to this dataframe if you wanted to use it for data science?**"
   ]
  },
  {
   "cell_type": "markdown",
   "metadata": {
    "id": "TvZdPQnG2yZp"
   },
   "source": [
    "## Collecting text\n",
    "Often, when you're scraping a website you aren't just collecting headers and tables. You're also collecting text! Now, you're going to collect the text below \"Our Profile.\" Use ^F to find the first sentence in the HTML.\n",
    "\n",
    "You should find that the text is in a `p` tag below a `div` tag. **What class would you use to extract this `div` tag?**"
   ]
  },
  {
   "cell_type": "code",
   "execution_count": 20,
   "metadata": {
    "colab": {
     "base_uri": "https://localhost:8080/"
    },
    "id": "VdPJcRtD15vH",
    "outputId": "92699824-00ed-438c-fb79-017de4c6c3e4",
    "tags": []
   },
   "outputs": [
    {
     "name": "stdout",
     "output_type": "stream",
     "text": [
      "<div id=\"bN015htcoyT__google-cache-hdr\"><div><span>This is Google's cache of <a href=\"https://www.cornell.edu/about/\">https://www.cornell.edu/about/</a>.</span> <span>It is a snapshot of the page as it appeared on Sep 5, 2023 19:10:30 GMT.</span> <span>The <a href=\"https://www.cornell.edu/about/\">current page</a> could have changed in the meantime.</span> <a href=\"http://support.google.com/websearch/bin/answer.py?hl=en&amp;p=cached&amp;answer=1687222\"><span>Learn more</span>.</a></div><div><span style=\"display:inline-block;margin-top:8px;margin-right:104px;white-space:nowrap\"><span style=\"margin-right:28px\"><span style=\"font-weight:bold\">Full version</span></span><span style=\"margin-right:28px\"><a href=\"http://webcache.googleusercontent.com/search?q=cache:FwQY78IHD64J:https://www.cornell.edu/about/&amp;sca_esv=562865996&amp;hl=en&amp;gl=us&amp;strip=1&amp;vwsrc=0\"><span>Text-only version</span></a></span><span style=\"margin-right:28px\"><a href=\"http://webcache.googleusercontent.com/search?q=cache:FwQY78IHD64J:https://www.cornell.edu/about/&amp;sca_esv=562865996&amp;hl=en&amp;gl=us&amp;strip=0&amp;vwsrc=1\"><span>View source</span></a></span></span></div><span style=\"display:inline-block;margin-top:8px;color:#70757a\"><span>Tip: To quickly find your search term on this page, press <b>Ctrl+F</b> or <b>⌘-F</b> (Mac) and use the find bar.</span></span></div>\n"
     ]
    }
   ],
   "source": [
    "about_profile = page.find(\"div\", {\"class\":\"\"}) # THIS CELL WILL NOT EXECUTE UNTIL YOU FILL IN THE CLASS\n",
    "print(about_profile)"
   ]
  },
  {
   "cell_type": "markdown",
   "metadata": {
    "id": "YsHlLrWVFcqF"
   },
   "source": [
    "Before moving on, **do you notice anything odd about the above HTML?**"
   ]
  },
  {
   "cell_type": "markdown",
   "metadata": {
    "id": "YKgFyKs-FOOi"
   },
   "source": [
    "Now, if we want to extract the natural text from the `about_profile` variable, we can use the `p` tag."
   ]
  },
  {
   "cell_type": "code",
   "execution_count": 21,
   "metadata": {
    "colab": {
     "base_uri": "https://localhost:8080/",
     "height": 70
    },
    "id": "Run7tprF17Vw",
    "outputId": "b48902dd-882f-4950-f2c2-ecf2777db3d3",
    "tags": []
   },
   "outputs": [
    {
     "name": "stdout",
     "output_type": "stream",
     "text": [
      "None\n"
     ]
    }
   ],
   "source": [
    "print(about_profile.find('p'))"
   ]
  },
  {
   "cell_type": "markdown",
   "metadata": {
    "id": "xsY8lKVe3gEt"
   },
   "source": [
    "---\n",
    "# Problem 2: Recreating the timeline as a table\n",
    "\n",
    "Earlier, you found links to fact pages about Cornell (stored in `link_carets`). One of those links was to a Cornell Timeline (https://www.cornell.edu/about/timeline/). Take some time to inspect the HTML of the page, and then load the cached version with the link below, create a `BeautifulSoup` object, and find some information about Cornell.\n",
    "\n",
    "Notice the table of data **Cornell Through the Years** with information about Cornell's history. It looks like each event includes three types of information:\n",
    "\n",
    "1.   Event year\n",
    "2.   Event title\n",
    "3.   Event summary\n",
    "\n",
    "Use `BeautifulSoup` and `requests` to scrape this data and format it as a data frame with one column for the year, another for the title, and a third for the summary."
   ]
  },
  {
   "cell_type": "markdown",
   "metadata": {
    "id": "UVaEkWjLW_6M"
   },
   "source": [
    "1. Use the requests library to `get` the website's HTML. Check the status code."
   ]
  },
  {
   "cell_type": "code",
   "execution_count": 22,
   "metadata": {
    "id": "ZsGr_ZUI2WWG",
    "tags": []
   },
   "outputs": [],
   "source": [
    "timeline_url = \"https://koenecke.infosci.cornell.edu/files/info2950/About%20Cornell%20University%20Timeline.html\""
   ]
  },
  {
   "cell_type": "code",
   "execution_count": 23,
   "metadata": {
    "id": "EZV2RMBt3m_H",
    "tags": []
   },
   "outputs": [],
   "source": [
    "# your code here\n",
    "timeline_result = requests.get(timeline_url)\n",
    "if timeline_result.status_code != 200:\n",
    "  print(\"something went wrong:\", timeline_result.status_code, timeline_result.reason)"
   ]
  },
  {
   "cell_type": "markdown",
   "metadata": {
    "id": "w8LpCymIXNPA"
   },
   "source": [
    "2. Convert what you retrieved with the `requests` library to a text string.\n",
    "\n",
    "\n"
   ]
  },
  {
   "cell_type": "code",
   "execution_count": 24,
   "metadata": {
    "id": "OzFyt2vv4O0E",
    "tags": []
   },
   "outputs": [],
   "source": [
    "# your code here\n",
    "with open(\"timeline_about.html\", \"w\") as writer:\n",
    "  writer.write(timeline_result.text)\n",
    "\n",
    "with open(\"timeline_about.html\", \"r\") as reader:\n",
    "  html_source = reader.read()"
   ]
  },
  {
   "cell_type": "markdown",
   "metadata": {
    "id": "iTg5_CzZYma8"
   },
   "source": [
    "3. Parse the text as HTML with BeautifulSoup."
   ]
  },
  {
   "cell_type": "code",
   "execution_count": 25,
   "metadata": {
    "id": "Fuz27p9Q31IJ",
    "tags": []
   },
   "outputs": [],
   "source": [
    "# your code here\n",
    "page = BeautifulSoup(html_source, \"html.parser\")"
   ]
  },
  {
   "cell_type": "markdown",
   "metadata": {
    "id": "ZwSAn-x7Yr-w"
   },
   "source": [
    "4. Identify the HTML tag and class above the year, title, and summary text. Find all occurences of this tag and save it to a list."
   ]
  },
  {
   "cell_type": "code",
   "execution_count": 26,
   "metadata": {
    "colab": {
     "base_uri": "https://localhost:8080/"
    },
    "id": "XhiSmL9h4LIS",
    "outputId": "4c12f113-dacd-4706-8302-323750bfc09d",
    "tags": []
   },
   "outputs": [
    {
     "name": "stdout",
     "output_type": "stream",
     "text": [
      "there are 108 links on the page\n"
     ]
    },
    {
     "data": {
      "text/plain": [
       "[<div class=\"item-content\">\n",
       " <div class=\"item-year\">1862</div>\n",
       " <div class=\"item-title\">\n",
       " <h3>A mission to serve New York state</h3>\n",
       " </div>\n",
       " <div class=\"item-desc\">\n",
       " <p></p><div>The\n",
       "  Morrill Land-Grant Act allows the federal government to appropriate \n",
       " public land, much of which had been expropriated from Indigenous Nations\n",
       "  across the U.S., to develop and support public colleges. Three years \n",
       " later, Cornell is chartered as  <a href=\"https://landgrant.cornell.edu/\">New York’s land-grant university</a> and charged with improving the lives and livelihoods of the state’s citizens through teaching, research and public service.</div><p></p>\n",
       " </div>\n",
       " <div class=\"item-categories\" role=\"group\">\n",
       " <a class=\"filter-button-js category-button tag-15\" href=\"https://www.cornell.edu/about/timeline/item-list\" role=\"button\">Milestones</a>\n",
       " <a class=\"filter-button-js category-button tag-19\" href=\"https://www.cornell.edu/about/timeline/item-list\" role=\"button\">Any Person Any Study</a>\n",
       " </div>\n",
       " </div>,\n",
       " <div class=\"item-content\">\n",
       " <div class=\"item-year\">1865</div>\n",
       " <div class=\"item-title\">\n",
       " <h3>Cornell charter signed into law</h3>\n",
       " </div>\n",
       " <div class=\"item-desc\">\n",
       " <p>On April 27, state senators Andrew Dickson White and Ezra Cornell win passage of the <a href=\"https://news.cornell.edu/stories/2015/04/inside-look-cornells-charter\">bill that charters Cornell University</a>\n",
       "  establishing the university at the location of Ezra Cornell’s farm in \n",
       " Ithaca. Three years later, Cornell admits its first students and \n",
       " inaugurates A.D. White as <a href=\"https://president.cornell.edu/the-presidency/andrew-dickson-white/\">Cornell's first president</a>.</p>\n",
       " </div>\n",
       " <div class=\"item-categories\" role=\"group\">\n",
       " <a class=\"filter-button-js category-button tag-15\" href=\"https://www.cornell.edu/about/timeline/item-list\" role=\"button\">Milestones</a>\n",
       " </div>\n",
       " </div>,\n",
       " <div class=\"item-content\">\n",
       " <div class=\"item-year\">1868</div>\n",
       " <div class=\"item-title\">\n",
       " <h3>Cornell chimes ring for the first time</h3>\n",
       " </div>\n",
       " <div class=\"item-desc\">\n",
       " <p>The original set of nine bells first rings out at the university's opening ceremonies. Over time, the <a href=\"https://chimes.cornell.edu/about\">chimes</a> have been recast and expanded to 21 bells. Presently three concerts are performed each day while classes are in session.</p>\n",
       " </div>\n",
       " <div class=\"item-categories\" role=\"group\">\n",
       " <a class=\"filter-button-js category-button tag-18\" href=\"https://www.cornell.edu/about/timeline/item-list\" role=\"button\">Uniquely Cornell</a>\n",
       " </div>\n",
       " </div>,\n",
       " <div class=\"item-content\">\n",
       " <div class=\"item-year\">1868</div>\n",
       " <div class=\"item-title\">\n",
       " <h3>Cornell University opens</h3>\n",
       " </div>\n",
       " <div class=\"item-desc\">\n",
       " <p>Initially\n",
       "  divided into two parts — the Division of the Special Sciences and Arts \n",
       " and the Division of Science, Literature and the Arts — Cornell opens its\n",
       "  doors on October 7 under the leadership of its first president, A.D. \n",
       " White. The university welcomes 26 professors and 412 students, the \n",
       " largest entering class at any American university.</p>\n",
       " </div>\n",
       " <div class=\"item-categories\" role=\"group\">\n",
       " <a class=\"filter-button-js category-button tag-15\" href=\"https://www.cornell.edu/about/timeline/item-list\" role=\"button\">Milestones</a>\n",
       " </div>\n",
       " </div>,\n",
       " <div class=\"item-content\">\n",
       " <div class=\"item-year\">1870</div>\n",
       " <div class=\"item-title\">\n",
       " <h3>Sibley funds creation of engineering college</h3>\n",
       " </div>\n",
       " <div class=\"item-desc\">\n",
       " <p>Hiram \n",
       " Sibley, one of the 10 incorporators of Cornell, provides funds to house \n",
       " and support the Sibley College of Mechanical Engineering and Mechanic \n",
       " Arts. In 1921, a unified <a href=\"https://www.engineering.cornell.edu/\">College of Engineering</a>\n",
       "  combines mechanical and civil engineering. Today, Sibley Hall is the \n",
       " headquarters for the College of Architecture, Art, and Planning.</p>\n",
       " </div>\n",
       " <div class=\"item-categories\" role=\"group\">\n",
       " <a class=\"filter-button-js category-button tag-15\" href=\"https://www.cornell.edu/about/timeline/item-list\" role=\"button\">Milestones</a>\n",
       " </div>\n",
       " </div>,\n",
       " <div class=\"item-content\">\n",
       " <div class=\"item-year\">1871</div>\n",
       " <div class=\"item-title\">\n",
       " <h3>Trustees approve School of Architecture</h3>\n",
       " </div>\n",
       " <div class=\"item-desc\">\n",
       " <p>Persuaded\n",
       "  by the advocacy — and architectural book collection — of President A.D.\n",
       "  White, the trustees agree to found a school of architecture, the first \n",
       " four-year course in the United States. Charles Babcock is appointed as \n",
       " the first professor of architecture. Today's <a href=\"https://aap.cornell.edu/about/who-we-are\" target=\"_self\">Architecture, Art and Planning</a> is an internationally-recognized leader.</p>\n",
       " </div>\n",
       " <div class=\"item-categories\" role=\"group\">\n",
       " <a class=\"filter-button-js category-button tag-15\" href=\"https://www.cornell.edu/about/timeline/item-list\" role=\"button\">Milestones</a>\n",
       " </div>\n",
       " </div>,\n",
       " <div class=\"item-content\">\n",
       " <div class=\"item-year\">1873</div>\n",
       " <div class=\"item-title\">\n",
       " <h3>Eastman is first female graduate</h3>\n",
       " </div>\n",
       " <div class=\"item-desc\">\n",
       " <p>Emma Sheffield Eastman 1873, a transfer student from Vassar, becomes the <a href=\"https://math.cornell.edu/math-women\">first woman to graduate from Cornell</a>. After teaching science and math for a year in Portland, Maine, she works for women's suffrage for much of her life.</p>\n",
       " </div>\n",
       " <div class=\"item-categories\" role=\"group\">\n",
       " <a class=\"filter-button-js category-button tag-15\" href=\"https://www.cornell.edu/about/timeline/item-list\" role=\"button\">Milestones</a>\n",
       " <a class=\"filter-button-js category-button tag-17\" href=\"https://www.cornell.edu/about/timeline/item-list\" role=\"button\">Cornellians</a>\n",
       " <a class=\"filter-button-js category-button tag-19\" href=\"https://www.cornell.edu/about/timeline/item-list\" role=\"button\">Any Person Any Study</a>\n",
       " </div>\n",
       " </div>,\n",
       " <div class=\"item-content\">\n",
       " <div class=\"item-year\">1875</div>\n",
       " <div class=\"item-title\">\n",
       " <h3>Coeducation: the 'Great Experiment'</h3>\n",
       " </div>\n",
       " <div class=\"item-desc\">\n",
       " <p></p><div>Sage \n",
       " College, constructed to house women students at Cornell, welcomes 25 \n",
       " female students, making Cornell a pioneer in coeducation and attracting \n",
       " many applicants. Early graduates include two college presidents, Julia \n",
       " Josephine Thomas Irvine 1875 (Wellesley) and Martha Carey Thomas 1877 \n",
       " (Bryn Mawr); a publisher and author, Ruth Putnam 1878; and noted Cornell\n",
       "  professor and scientist, Anna Botsford Comstock 1885.<br/></div><p></p>\n",
       " </div>\n",
       " <div class=\"item-categories\" role=\"group\">\n",
       " <a class=\"filter-button-js category-button tag-15\" href=\"https://www.cornell.edu/about/timeline/item-list\" role=\"button\">Milestones</a>\n",
       " <a class=\"filter-button-js category-button tag-19\" href=\"https://www.cornell.edu/about/timeline/item-list\" role=\"button\">Any Person Any Study</a>\n",
       " </div>\n",
       " </div>,\n",
       " <div class=\"item-content\">\n",
       " <div class=\"item-year\">1876</div>\n",
       " <div class=\"item-title\">\n",
       " <h3>Daniel Salmon earns first DVM degree in America</h3>\n",
       " </div>\n",
       " <div class=\"item-desc\">\n",
       " <p>Cornell confers the first <a href=\"https://www.vet.cornell.edu/education/doctor-veterinary-medicine\">Doctor of Veterinary Medicine</a> (DVM) degree in the United States to <a href=\"https://www.vet.cornell.edu/alumni/alumni-association/salmon-award\">Daniel Elmer Salmon</a>\n",
       "  DVM 1876, who later serves as the first chief of the U.S. Bureau of \n",
       " Animal Industry. He is best known today for pioneering the fight against\n",
       "  contagious diseases.</p>\n",
       " </div>\n",
       " <div class=\"item-categories\" role=\"group\">\n",
       " <a class=\"filter-button-js category-button tag-15\" href=\"https://www.cornell.edu/about/timeline/item-list\" role=\"button\">Milestones</a>\n",
       " <a class=\"filter-button-js category-button tag-16\" href=\"https://www.cornell.edu/about/timeline/item-list\" role=\"button\">Research &amp; Innovation</a>\n",
       " <a class=\"filter-button-js category-button tag-17\" href=\"https://www.cornell.edu/about/timeline/item-list\" role=\"button\">Cornellians</a>\n",
       " </div>\n",
       " </div>,\n",
       " <div class=\"item-content\">\n",
       " <div class=\"item-year\">1880</div>\n",
       " <div class=\"item-title\">\n",
       " <h3>Preston is first female doctoral graduate</h3>\n",
       " </div>\n",
       " <div class=\"item-desc\">\n",
       " <p>American educator and suffragist <a href=\"https://alumni.cornell.edu/cornellians/cornells-first-female-doctoral-grad/\">May Preston Slosson</a>\n",
       "  Ph.D. 1880 becomes the first woman in the country to earn a Ph.D. in \n",
       " philosophy. She is also Cornell's first female doctoral graduate.</p>\n",
       " </div>\n",
       " <div class=\"item-categories\" role=\"group\">\n",
       " <a class=\"filter-button-js category-button tag-15\" href=\"https://www.cornell.edu/about/timeline/item-list\" role=\"button\">Milestones</a>\n",
       " <a class=\"filter-button-js category-button tag-17\" href=\"https://www.cornell.edu/about/timeline/item-list\" role=\"button\">Cornellians</a>\n",
       " <a class=\"filter-button-js category-button tag-19\" href=\"https://www.cornell.edu/about/timeline/item-list\" role=\"button\">Any Person Any Study</a>\n",
       " </div>\n",
       " </div>,\n",
       " <div class=\"item-content\">\n",
       " <div class=\"item-year\">1885</div>\n",
       " <div class=\"item-title\">\n",
       " <h3>Smith pioneers medical research</h3>\n",
       " </div>\n",
       " <div class=\"item-desc\">\n",
       " <p>Theobald\n",
       "  Smith 1881, an epidemiologist who studied Texas cattle fever, \n",
       " anaphylaxis, and hog cholera, discovers the first Salmonella bacterium \n",
       " while working for the United States Department of Agriculture. He names \n",
       " the species after fellow Cornell graduate Daniel Elmer Salmon DVM 1876.</p>\n",
       " </div>\n",
       " <div class=\"item-categories\" role=\"group\">\n",
       " <a class=\"filter-button-js category-button tag-16\" href=\"https://www.cornell.edu/about/timeline/item-list\" role=\"button\">Research &amp; Innovation</a>\n",
       " <a class=\"filter-button-js category-button tag-17\" href=\"https://www.cornell.edu/about/timeline/item-list\" role=\"button\">Cornellians</a>\n",
       " </div>\n",
       " </div>,\n",
       " <div class=\"item-content\">\n",
       " <div class=\"item-year\">1887</div>\n",
       " <div class=\"item-title\">\n",
       " <h3>College of Law holds first classes</h3>\n",
       " </div>\n",
       " <div class=\"item-desc\">\n",
       " <p>The College of Law begins operations in Morrill Hall with Judge Douglas Boardman as the first dean. The department is renamed <a href=\"https://www.lawschool.cornell.edu/\" target=\"_self\">Cornell Law School</a> in 1925.</p>\n",
       " </div>\n",
       " <div class=\"item-categories\" role=\"group\">\n",
       " <a class=\"filter-button-js category-button tag-15\" href=\"https://www.cornell.edu/about/timeline/item-list\" role=\"button\">Milestones</a>\n",
       " </div>\n",
       " </div>,\n",
       " <div class=\"item-content\">\n",
       " <div class=\"item-year\">1888</div>\n",
       " <div class=\"item-title\">\n",
       " <h3>Agriculture college formed</h3>\n",
       " </div>\n",
       " <div class=\"item-desc\">\n",
       " <p>The \n",
       " Department of Agriculture (established in 1874) merges with the \n",
       " departments of agricultural chemistry, botany, entomology and veterinary\n",
       "  medicine to form the Cornell <a href=\"https://cals.cornell.edu/about/our-values-impact/our-history\">College of Agriculture</a>.\n",
       "  Sixteen years later, the New York state legislature followed the \n",
       " federal lead and voted to provide ongoing funding to the college, \n",
       " establishing the New York State College of Agriculture at Cornell, \n",
       " adding “and Life Sciences” in 1971.</p>\n",
       " </div>\n",
       " <div class=\"item-categories\" role=\"group\">\n",
       " <a class=\"filter-button-js category-button tag-15\" href=\"https://www.cornell.edu/about/timeline/item-list\" role=\"button\">Milestones</a>\n",
       " </div>\n",
       " </div>,\n",
       " <div class=\"item-content\">\n",
       " <div class=\"item-year\">1890</div>\n",
       " <div class=\"item-title\">\n",
       " <h3>First African American graduates</h3>\n",
       " </div>\n",
       " <div class=\"item-desc\">\n",
       " <p><a href=\"https://diversity.cornell.edu/our-story/our-historic-commitment?field_decade_value=1850-1899\">Charles Chauveau Cook</a> 1890 and <a href=\"https://blogs.cornell.edu/sipshistory/2020/01/24/jane-eleanor-datcher-first-african-american-woman-to-obtain-an-advanced-degree-at-cornell/\">Jane Eleanor Datcher</a> 1890 become the first African Americans to graduate from Cornell after a four-year course of study. <a href=\"https://news.cornell.edu/stories/2013/07/first-black-law-school-grad-was-former-slave\">George Washington Fields</a> 1890,\n",
       "  a formerly enslaved person, becomes the first African American graduate\n",
       "  of Cornell Law School and one of the first people of color to graduate \n",
       " from any law school in the United States.</p>\n",
       " </div>\n",
       " <div class=\"item-categories\" role=\"group\">\n",
       " <a class=\"filter-button-js category-button tag-15\" href=\"https://www.cornell.edu/about/timeline/item-list\" role=\"button\">Milestones</a>\n",
       " <a class=\"filter-button-js category-button tag-17\" href=\"https://www.cornell.edu/about/timeline/item-list\" role=\"button\">Cornellians</a>\n",
       " <a class=\"filter-button-js category-button tag-19\" href=\"https://www.cornell.edu/about/timeline/item-list\" role=\"button\">Any Person Any Study</a>\n",
       " </div>\n",
       " </div>,\n",
       " <div class=\"item-content\">\n",
       " <div class=\"item-year\">1894</div>\n",
       " <div class=\"item-title\">\n",
       " <h3>Veterinary college chartered</h3>\n",
       " </div>\n",
       " <div class=\"item-desc\">\n",
       " <p>The state legislature charters the <a href=\"https://www.suny.edu/campuses/cornell-vet/\">New York State Veterinary College</a>, the first state-supported college at Cornell, though veterinary medicine <a href=\"https://www.vet.cornell.edu/about-us/our-history\">had been taught at Cornell since the university opened</a>.\n",
       "  The college opens officially in 1896 in the current location of Uris \n",
       " Hall and later moves to east campus when Shurman Hall is completed in \n",
       " 1957.</p>\n",
       " </div>\n",
       " <div class=\"item-categories\" role=\"group\">\n",
       " <a class=\"filter-button-js category-button tag-15\" href=\"https://www.cornell.edu/about/timeline/item-list\" role=\"button\">Milestones</a>\n",
       " </div>\n",
       " </div>,\n",
       " <div class=\"item-content\">\n",
       " <div class=\"item-year\">1894</div>\n",
       " <div class=\"item-title\">\n",
       " <h3>First woman in the U.S. earns a Ph.D. in psychology</h3>\n",
       " </div>\n",
       " <div class=\"item-desc\">\n",
       " <p>Margaret Floy Washburn Ph.D. 1894 is the first woman in the United States granted a Ph.D. in psychology.</p>\n",
       " </div>\n",
       " <div class=\"item-categories\" role=\"group\">\n",
       " <a class=\"filter-button-js category-button tag-15\" href=\"https://www.cornell.edu/about/timeline/item-list\" role=\"button\">Milestones</a>\n",
       " <a class=\"filter-button-js category-button tag-17\" href=\"https://www.cornell.edu/about/timeline/item-list\" role=\"button\">Cornellians</a>\n",
       " <a class=\"filter-button-js category-button tag-19\" href=\"https://www.cornell.edu/about/timeline/item-list\" role=\"button\">Any Person Any Study</a>\n",
       " </div>\n",
       " </div>,\n",
       " <div class=\"item-content\">\n",
       " <div class=\"item-year\">1898</div>\n",
       " <div class=\"item-title\">\n",
       " <h3>Medical College founded in New York City</h3>\n",
       " </div>\n",
       " <div class=\"item-desc\">\n",
       " <p><a href=\"https://medicaleducation.weill.cornell.edu/\">Cornell's Medical College</a>\n",
       "  is founded, officially opening in New York City in 1900. Today, in a \n",
       " joint campus with New York-Presbyterian Hospital, Weill Cornell Medical \n",
       " College is among the most esteemed clinical and medical research centers\n",
       "  in the country.</p>\n",
       " </div>\n",
       " <div class=\"item-categories\" role=\"group\">\n",
       " <a class=\"filter-button-js category-button tag-15\" href=\"https://www.cornell.edu/about/timeline/item-list\" role=\"button\">Milestones</a>\n",
       " <a class=\"filter-button-js category-button tag-16\" href=\"https://www.cornell.edu/about/timeline/item-list\" role=\"button\">Research &amp; Innovation</a>\n",
       " </div>\n",
       " </div>,\n",
       " <div class=\"item-content\">\n",
       " <div class=\"item-year\">1901</div>\n",
       " <div class=\"item-title\">\n",
       " <h3>First Chinese student graduates</h3>\n",
       " </div>\n",
       " <div class=\"item-desc\">\n",
       " <p><a href=\"https://diversity.cornell.edu/our-story/our-historic-commitment?field_decade_value=1900-1959\">Sao-Ke Alfred Sze</a> 1901,\n",
       "  Cornell's first Chinese student, graduates. He becomes China’s first \n",
       " ambassador to the U.S. and a founding member of the World Bank.</p>\n",
       " </div>\n",
       " <div class=\"item-categories\" role=\"group\">\n",
       " <a class=\"filter-button-js category-button tag-15\" href=\"https://www.cornell.edu/about/timeline/item-list\" role=\"button\">Milestones</a>\n",
       " <a class=\"filter-button-js category-button tag-17\" href=\"https://www.cornell.edu/about/timeline/item-list\" role=\"button\">Cornellians</a>\n",
       " <a class=\"filter-button-js category-button tag-19\" href=\"https://www.cornell.edu/about/timeline/item-list\" role=\"button\">Any Person Any Study</a>\n",
       " </div>\n",
       " </div>,\n",
       " <div class=\"item-content\">\n",
       " <div class=\"item-year\">1901</div>\n",
       " <div class=\"item-title\">\n",
       " <h3>Inaugural 'Spring Day'</h3>\n",
       " </div>\n",
       " <div class=\"item-desc\">\n",
       " <p>The first-recorded <a href=\"https://ezramagazine.cornell.edu/SPRING14/CornellHistory.html\">Spring Day</a> takes place April 15, celebrating the end of winter. Students skip classes and mount variety shows and festivities. Today, <a href=\"https://alumni.cornell.edu/come-back/cornell-traditions/slope-day/\">Slope Day</a> is a student-favorite tradition held on <a href=\"https://alumni.cornell.edu/cornellians/uphill-both-ways/\">Libe Slope</a> to celebrate the last day of classes with live music and entertainment.</p>\n",
       " </div>\n",
       " <div class=\"item-categories\" role=\"group\">\n",
       " <a class=\"filter-button-js category-button tag-18\" href=\"https://www.cornell.edu/about/timeline/item-list\" role=\"button\">Uniquely Cornell</a>\n",
       " </div>\n",
       " </div>,\n",
       " <div class=\"item-content\">\n",
       " <div class=\"item-year\">1902</div>\n",
       " <div class=\"item-title\">\n",
       " <h3>Carrier creates a new way to stay cool</h3>\n",
       " </div>\n",
       " <div class=\"item-desc\">\n",
       " <p>Engineer\n",
       "  Willis Carrier 1901 invents the first electrical air conditioning unit \n",
       " and goes on to found the Carrier Corporation, which remains a world \n",
       " leader in heating, ventilation and air conditioning (HVAC) systems.</p>\n",
       " </div>\n",
       " <div class=\"item-categories\" role=\"group\">\n",
       " <a class=\"filter-button-js category-button tag-16\" href=\"https://www.cornell.edu/about/timeline/item-list\" role=\"button\">Research &amp; Innovation</a>\n",
       " <a class=\"filter-button-js category-button tag-17\" href=\"https://www.cornell.edu/about/timeline/item-list\" role=\"button\">Cornellians</a>\n",
       " </div>\n",
       " </div>]"
      ]
     },
     "execution_count": 26,
     "metadata": {},
     "output_type": "execute_result"
    }
   ],
   "source": [
    "# your code here\n",
    "contents = page.find_all(\"div\", {\"class\": \"item-content\"})\n",
    "print(\"there are\", len(contents), \"links on the page\")\n",
    "contents[:20]"
   ]
  },
  {
   "cell_type": "markdown",
   "metadata": {
    "id": "Fv7qPVzZY9RT"
   },
   "source": [
    "5. Access the year, title, and summary text at the 10th index position. Print these."
   ]
  },
  {
   "cell_type": "code",
   "execution_count": 27,
   "metadata": {
    "colab": {
     "base_uri": "https://localhost:8080/"
    },
    "id": "uTGUOlmS4sua",
    "outputId": "1ecf1049-3669-4dc7-9407-4a2f2f471775",
    "tags": []
   },
   "outputs": [
    {
     "name": "stdout",
     "output_type": "stream",
     "text": [
      "1880\n",
      "Preston is first female doctoral graduate\n",
      "American educator and suffragist May Preston Slosson\n",
      " Ph.D. 1880 becomes the first woman in the country to earn a Ph.D. in \n",
      "philosophy. She is also Cornell's first female doctoral graduate.\n"
     ]
    }
   ],
   "source": [
    "# your code here\n",
    "example = contents[9]\n",
    "example_year = example.find(\"div\", {\"class\" : \"item-year\"}).text.strip()\n",
    "print(example_year)\n",
    "example_title = example.find(\"div\", {\"class\" : \"item-title\"}).text.strip()\n",
    "print(example_title)\n",
    "example_summary = example.find(\"div\", {\"class\" : \"item-desc\"}).text.strip()\n",
    "print(example_summary)"
   ]
  },
  {
   "cell_type": "markdown",
   "metadata": {
    "id": "WuBB_nwAZTlQ"
   },
   "source": [
    "6. Collect all years, titles, and summaries in the list of timeline events. Add each of these to a list (`year_l`, `title_l`, and `summary_l`)."
   ]
  },
  {
   "cell_type": "code",
   "execution_count": 28,
   "metadata": {
    "id": "a0J29HLt5AIs",
    "tags": []
   },
   "outputs": [],
   "source": [
    "# your code here\n",
    "year_l = [c.find(\"div\", {\"class\": \"item-year\"}).text.strip() for c in contents]\n",
    "title_l = [c.find(\"div\", {\"class\": \"item-title\"}).text.strip() for c in contents]\n",
    "summary_l = [c.find(\"div\", {\"class\": \"item-desc\"}).text.strip() for c in contents]"
   ]
  },
  {
   "cell_type": "markdown",
   "metadata": {
    "id": "QcYQwrDeZjtW"
   },
   "source": [
    "7. Convert these lists into data frame columns and display the data frame.\n",
    "\n",
    "*Note: you might notice a couple of cells in the first and last row have missing information. This is an issue with the cached version of the webpage. You do not need to fix this.*"
   ]
  },
  {
   "cell_type": "code",
   "execution_count": 29,
   "metadata": {
    "id": "BMauprEw5Po0",
    "tags": []
   },
   "outputs": [
    {
     "data": {
      "text/html": [
       "<div>\n",
       "<style scoped>\n",
       "    .dataframe tbody tr th:only-of-type {\n",
       "        vertical-align: middle;\n",
       "    }\n",
       "\n",
       "    .dataframe tbody tr th {\n",
       "        vertical-align: top;\n",
       "    }\n",
       "\n",
       "    .dataframe thead th {\n",
       "        text-align: right;\n",
       "    }\n",
       "</style>\n",
       "<table border=\"1\" class=\"dataframe\">\n",
       "  <thead>\n",
       "    <tr style=\"text-align: right;\">\n",
       "      <th></th>\n",
       "      <th>Year</th>\n",
       "      <th>Title</th>\n",
       "      <th>Summary</th>\n",
       "    </tr>\n",
       "  </thead>\n",
       "  <tbody>\n",
       "    <tr>\n",
       "      <th>0</th>\n",
       "      <td>1862</td>\n",
       "      <td>A mission to serve New York state</td>\n",
       "      <td>The\\n Morrill Land-Grant Act allows the federa...</td>\n",
       "    </tr>\n",
       "    <tr>\n",
       "      <th>1</th>\n",
       "      <td>1865</td>\n",
       "      <td>Cornell charter signed into law</td>\n",
       "      <td>On April 27, state senators Andrew Dickson Whi...</td>\n",
       "    </tr>\n",
       "    <tr>\n",
       "      <th>2</th>\n",
       "      <td>1868</td>\n",
       "      <td>Cornell chimes ring for the first time</td>\n",
       "      <td>The original set of nine bells first rings out...</td>\n",
       "    </tr>\n",
       "    <tr>\n",
       "      <th>3</th>\n",
       "      <td>1868</td>\n",
       "      <td>Cornell University opens</td>\n",
       "      <td>Initially\\n divided into two parts — the Divis...</td>\n",
       "    </tr>\n",
       "    <tr>\n",
       "      <th>4</th>\n",
       "      <td>1870</td>\n",
       "      <td>Sibley funds creation of engineering college</td>\n",
       "      <td>Hiram \\nSibley, one of the 10 incorporators of...</td>\n",
       "    </tr>\n",
       "  </tbody>\n",
       "</table>\n",
       "</div>"
      ],
      "text/plain": [
       "   Year                                         Title  \\\n",
       "0  1862             A mission to serve New York state   \n",
       "1  1865               Cornell charter signed into law   \n",
       "2  1868        Cornell chimes ring for the first time   \n",
       "3  1868                      Cornell University opens   \n",
       "4  1870  Sibley funds creation of engineering college   \n",
       "\n",
       "                                             Summary  \n",
       "0  The\\n Morrill Land-Grant Act allows the federa...  \n",
       "1  On April 27, state senators Andrew Dickson Whi...  \n",
       "2  The original set of nine bells first rings out...  \n",
       "3  Initially\\n divided into two parts — the Divis...  \n",
       "4  Hiram \\nSibley, one of the 10 incorporators of...  "
      ]
     },
     "execution_count": 29,
     "metadata": {},
     "output_type": "execute_result"
    }
   ],
   "source": [
    "# your code here\n",
    "data = {'Year' : year_l, 'Title' : title_l, 'Summary' : summary_l}\n",
    "timeline_df = pd.DataFrame(data)\n",
    "timeline_df.head()"
   ]
  },
  {
   "cell_type": "markdown",
   "metadata": {
    "id": "JRwxJzFTJqSE"
   },
   "source": [
    "---"
   ]
  },
  {
   "cell_type": "markdown",
   "metadata": {
    "id": "0WTDJt8R6VEW"
   },
   "source": [
    "## Problem 3\n",
    "\n",
    "Select a page from the web that contains some table element. Extract the table's information and put it into a pandas data frame. Make sure to display the table when you are finished.\n",
    "\n",
    "As a suggestion, you may use the [Wikipedia page for Cornell University](https://en.wikipedia.org/wiki/Cornell_University). The table on the right side of the page is a good option for scraping and displaying.\n",
    "\n",
    "Remember to use the following steps, as you did above:\n",
    "1. Use the requests library to `get` the website's HTML. Check the status code.\n",
    "2. Convert what you retrieved with the `requests` library to a text string.\n",
    "3. Parse the text as HTML with BeautifulSoup.\n",
    "4. Manually search the HTML (with ^F) for the text strings you want to collect. Identify the tags and classes associated with that text.\n",
    "5. Use combinations of `find` and `find_all` to retrieve the text you are interested in.\n",
    "6. Convert the text to a data frame. Display this.\n",
    "\n"
   ]
  },
  {
   "cell_type": "code",
   "execution_count": 37,
   "metadata": {
    "id": "3Wu8wB-Kz6IG"
   },
   "outputs": [],
   "source": [
    "wiki_url = \"https://koenecke.infosci.cornell.edu/files/info2950/Cornell%20University%20-%20Wikipedia.html\" # optional cached version"
   ]
  },
  {
   "cell_type": "code",
   "execution_count": 38,
   "metadata": {
    "colab": {
     "base_uri": "https://localhost:8080/",
     "height": 833
    },
    "id": "txk4mCPYgwP0",
    "outputId": "cad62e74-7bc4-4037-804e-929c972cf120"
   },
   "outputs": [],
   "source": [
    "# your code here, add as many cells as you need\n",
    "cornell_result = requests.get(cornell_url)\n",
    "if cornell_result.status_code != 200:\n",
    "  print(\"something went wrong:\", cornell_result.status_code, cornell_result.reason)\n"
   ]
  },
  {
   "cell_type": "code",
   "execution_count": 39,
   "metadata": {
    "colab": {
     "base_uri": "https://localhost:8080/",
     "height": 833
    },
    "id": "txk4mCPYgwP0",
    "outputId": "cad62e74-7bc4-4037-804e-929c972cf120"
   },
   "outputs": [],
   "source": [
    "with open(\"cornell_about.html\", \"w\") as writer:\n",
    "  writer.write(cornell_result.text)\n"
   ]
  },
  {
   "cell_type": "code",
   "execution_count": 47,
   "metadata": {
    "tags": []
   },
   "outputs": [],
   "source": [
    "with open(\"cornell_about.html\", \"r\") as reader:\n",
    "  html_source = reader.read()"
   ]
  },
  {
   "cell_type": "code",
   "execution_count": 50,
   "metadata": {
    "tags": []
   },
   "outputs": [],
   "source": [
    "page = BeautifulSoup(html_source, \"html.parser\")"
   ]
  },
  {
   "cell_type": "code",
   "execution_count": 49,
   "metadata": {
    "tags": []
   },
   "outputs": [
    {
     "name": "stdout",
     "output_type": "stream",
     "text": [
      "[<h2 class=\"submenu-title\">Related Links</h2>, <h2 class=\"submenu-title\">Undergraduate</h2>, <h2 class=\"submenu-title\">Graduate</h2>, <h2 class=\"submenu-title\">Continuing Education &amp; Summer Sessions</h2>, <h2 class=\"submenu-title\">Related Links</h2>, <h2 class=\"submenu-title\">Explore Cornell Research</h2>, <h2 class=\"submenu-title\">Related Links</h2>, <h2 class=\"submenu-title\">Featured</h2>, <h2 class=\"submenu-title\">Related Links</h2>, <h2 class=\"submenu-title\">Related Links</h2>]\n"
     ]
    }
   ],
   "source": [
    "infoboxes = page.find_all(\"h2\", {\"class\": \"submenu-title\"})\n",
    "print(infoboxes)"
   ]
  },
  {
   "cell_type": "code",
   "execution_count": 53,
   "metadata": {
    "tags": []
   },
   "outputs": [
    {
     "data": {
      "text/plain": [
       "['Related Links',\n",
       " 'Undergraduate',\n",
       " 'Graduate',\n",
       " 'Continuing Education & Summer Sessions',\n",
       " 'Related Links',\n",
       " 'Explore Cornell Research',\n",
       " 'Related Links',\n",
       " 'Featured',\n",
       " 'Related Links',\n",
       " 'Related Links']"
      ]
     },
     "execution_count": 53,
     "metadata": {},
     "output_type": "execute_result"
    }
   ],
   "source": [
    "infobox_text = [infobox.text for infobox in infoboxes]\n",
    "infobox_text"
   ]
  },
  {
   "cell_type": "code",
   "execution_count": 54,
   "metadata": {
    "tags": []
   },
   "outputs": [
    {
     "data": {
      "text/html": [
       "<div>\n",
       "<style scoped>\n",
       "    .dataframe tbody tr th:only-of-type {\n",
       "        vertical-align: middle;\n",
       "    }\n",
       "\n",
       "    .dataframe tbody tr th {\n",
       "        vertical-align: top;\n",
       "    }\n",
       "\n",
       "    .dataframe thead th {\n",
       "        text-align: right;\n",
       "    }\n",
       "</style>\n",
       "<table border=\"1\" class=\"dataframe\">\n",
       "  <thead>\n",
       "    <tr style=\"text-align: right;\">\n",
       "      <th></th>\n",
       "      <th>contents</th>\n",
       "    </tr>\n",
       "  </thead>\n",
       "  <tbody>\n",
       "    <tr>\n",
       "      <th>0</th>\n",
       "      <td>Related Links</td>\n",
       "    </tr>\n",
       "    <tr>\n",
       "      <th>1</th>\n",
       "      <td>Undergraduate</td>\n",
       "    </tr>\n",
       "    <tr>\n",
       "      <th>2</th>\n",
       "      <td>Graduate</td>\n",
       "    </tr>\n",
       "    <tr>\n",
       "      <th>3</th>\n",
       "      <td>Continuing Education &amp; Summer Sessions</td>\n",
       "    </tr>\n",
       "    <tr>\n",
       "      <th>4</th>\n",
       "      <td>Related Links</td>\n",
       "    </tr>\n",
       "  </tbody>\n",
       "</table>\n",
       "</div>"
      ],
      "text/plain": [
       "                                 contents\n",
       "0                           Related Links\n",
       "1                           Undergraduate\n",
       "2                                Graduate\n",
       "3  Continuing Education & Summer Sessions\n",
       "4                           Related Links"
      ]
     },
     "execution_count": 54,
     "metadata": {},
     "output_type": "execute_result"
    }
   ],
   "source": [
    "data = {\"contents\" : infobox_text}\n",
    "df = pd.DataFrame(data)\n",
    "df.head()"
   ]
  },
  {
   "cell_type": "markdown",
   "metadata": {
    "id": "1empeX0fj7XQ"
   },
   "source": [
    "## Submission\n",
    "**Make sure to complete and save this notebook before next Friday's section.** We will practice pushing and pulling code from GitHub and we will ask you to push a completed version of this notebook to that repository."
   ]
  }
 ],
 "metadata": {
  "colab": {
   "provenance": []
  },
  "kernelspec": {
   "display_name": "Python 3.9.12 64-bit ('anaconda3')",
   "language": "python",
   "name": "python3"
  },
  "language_info": {
   "codemirror_mode": {
    "name": "ipython",
    "version": 3
   },
   "file_extension": ".py",
   "mimetype": "text/x-python",
   "name": "python",
   "nbconvert_exporter": "python",
   "pygments_lexer": "ipython3",
   "version": "3.9.12"
  },
  "vscode": {
   "interpreter": {
    "hash": "cd78fef2128015050713e82ca51c6520b11aee7c9ee8df750520bbbc7384cbaa"
   }
  }
 },
 "nbformat": 4,
 "nbformat_minor": 4
}
